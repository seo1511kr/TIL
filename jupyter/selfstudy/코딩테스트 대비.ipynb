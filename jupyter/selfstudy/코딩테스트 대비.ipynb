{
 "cells": [
  {
   "cell_type": "markdown",
   "metadata": {},
   "source": [
    "### built in function"
   ]
  },
  {
   "cell_type": "code",
   "execution_count": 3,
   "metadata": {},
   "outputs": [
    {
     "data": {
      "text/plain": [
       "['__add__',\n",
       " '__class__',\n",
       " '__contains__',\n",
       " '__delattr__',\n",
       " '__delitem__',\n",
       " '__dir__',\n",
       " '__doc__',\n",
       " '__eq__',\n",
       " '__format__',\n",
       " '__ge__',\n",
       " '__getattribute__',\n",
       " '__getitem__',\n",
       " '__gt__',\n",
       " '__hash__',\n",
       " '__iadd__',\n",
       " '__imul__',\n",
       " '__init__',\n",
       " '__init_subclass__',\n",
       " '__iter__',\n",
       " '__le__',\n",
       " '__len__',\n",
       " '__lt__',\n",
       " '__mul__',\n",
       " '__ne__',\n",
       " '__new__',\n",
       " '__reduce__',\n",
       " '__reduce_ex__',\n",
       " '__repr__',\n",
       " '__reversed__',\n",
       " '__rmul__',\n",
       " '__setattr__',\n",
       " '__setitem__',\n",
       " '__sizeof__',\n",
       " '__str__',\n",
       " '__subclasshook__',\n",
       " 'append',\n",
       " 'clear',\n",
       " 'copy',\n",
       " 'count',\n",
       " 'extend',\n",
       " 'index',\n",
       " 'insert',\n",
       " 'pop',\n",
       " 'remove',\n",
       " 'reverse',\n",
       " 'sort']"
      ]
     },
     "execution_count": 3,
     "metadata": {},
     "output_type": "execute_result"
    }
   ],
   "source": [
    "dir([1,2,3,4])"
   ]
  },
  {
   "cell_type": "code",
   "execution_count": 7,
   "metadata": {},
   "outputs": [
    {
     "data": {
      "text/plain": [
       "'0000010,000,000.0000'"
      ]
     },
     "execution_count": 7,
     "metadata": {},
     "output_type": "execute_result"
    }
   ],
   "source": [
    "format(10000000,'0>020,.4f')"
   ]
  },
  {
   "cell_type": "code",
   "execution_count": 15,
   "metadata": {},
   "outputs": [
    {
     "data": {
      "text/plain": [
       "[0, 2, 4, 6, 8, 10, 12, 14, 16, 18]"
      ]
     },
     "execution_count": 15,
     "metadata": {},
     "output_type": "execute_result"
    }
   ],
   "source": [
    "def hojun(value):\n",
    "    if value % 2==0:\n",
    "        return True\n",
    "    else:\n",
    "        return False\n",
    "list(filter(hojun,range(20)))"
   ]
  },
  {
   "cell_type": "code",
   "execution_count": 16,
   "metadata": {},
   "outputs": [
    {
     "data": {
      "text/plain": [
       "[0, 2, 4, 6, 8, 10, 12, 14, 16, 18]"
      ]
     },
     "execution_count": 16,
     "metadata": {},
     "output_type": "execute_result"
    }
   ],
   "source": [
    "list(filter(lambda x:x%2==0, range(20)))"
   ]
  },
  {
   "cell_type": "code",
   "execution_count": 18,
   "metadata": {},
   "outputs": [
    {
     "data": {
      "text/plain": [
       "[0, 2, 4, 6, 8, 10, 12, 14, 16, 18]"
      ]
     },
     "execution_count": 18,
     "metadata": {},
     "output_type": "execute_result"
    }
   ],
   "source": [
    "[i for i in range(20) if i % 2==0]"
   ]
  },
  {
   "cell_type": "code",
   "execution_count": null,
   "metadata": {},
   "outputs": [],
   "source": []
  },
  {
   "cell_type": "markdown",
   "metadata": {},
   "source": [
    "### map,zip"
   ]
  },
  {
   "cell_type": "code",
   "execution_count": 20,
   "metadata": {},
   "outputs": [
    {
     "data": {
      "text/plain": [
       "[True,\n",
       " False,\n",
       " True,\n",
       " False,\n",
       " True,\n",
       " False,\n",
       " True,\n",
       " False,\n",
       " True,\n",
       " False,\n",
       " True,\n",
       " False,\n",
       " True,\n",
       " False,\n",
       " True,\n",
       " False,\n",
       " True,\n",
       " False,\n",
       " True,\n",
       " False]"
      ]
     },
     "execution_count": 20,
     "metadata": {},
     "output_type": "execute_result"
    }
   ],
   "source": [
    "list(map(hojun,range(20)))"
   ]
  },
  {
   "cell_type": "code",
   "execution_count": 22,
   "metadata": {},
   "outputs": [
    {
     "data": {
      "text/plain": [
       "[0,\n",
       " 1,\n",
       " 4,\n",
       " 9,\n",
       " 16,\n",
       " 25,\n",
       " 36,\n",
       " 49,\n",
       " 64,\n",
       " 81,\n",
       " 100,\n",
       " 121,\n",
       " 144,\n",
       " 169,\n",
       " 196,\n",
       " 225,\n",
       " 256,\n",
       " 289,\n",
       " 324,\n",
       " 361]"
      ]
     },
     "execution_count": 22,
     "metadata": {},
     "output_type": "execute_result"
    }
   ],
   "source": [
    "list(map(lambda x:x**2,range(20)))"
   ]
  },
  {
   "cell_type": "code",
   "execution_count": 25,
   "metadata": {},
   "outputs": [
    {
     "data": {
      "text/plain": [
       "[('a', 1, 'A'), ('b', 2, 'B'), ('c', 3, 'C'), ('d', 4, 'D')]"
      ]
     },
     "execution_count": 25,
     "metadata": {},
     "output_type": "execute_result"
    }
   ],
   "source": [
    "list(zip(['a','b','c','d'],[1,2,3,4],'ABCD'))"
   ]
  },
  {
   "cell_type": "markdown",
   "metadata": {},
   "source": [
    "###  max,min"
   ]
  },
  {
   "cell_type": "code",
   "execution_count": 27,
   "metadata": {},
   "outputs": [
    {
     "data": {
      "text/plain": [
       "1"
      ]
     },
     "execution_count": 27,
     "metadata": {},
     "output_type": "execute_result"
    }
   ],
   "source": [
    "max([1,2,3,4])\n",
    "min([1,2,3,4])"
   ]
  },
  {
   "cell_type": "markdown",
   "metadata": {},
   "source": [
    "###  sort,reversed(),sorted()"
   ]
  },
  {
   "cell_type": "code",
   "execution_count": 30,
   "metadata": {},
   "outputs": [
    {
     "data": {
      "text/plain": [
       "[3, 4, 5, 6, 7, 10]"
      ]
     },
     "execution_count": 30,
     "metadata": {},
     "output_type": "execute_result"
    }
   ],
   "source": [
    "l=[10,5,4,3,7,6]\n",
    "l.sort()\n",
    "l"
   ]
  },
  {
   "cell_type": "code",
   "execution_count": 36,
   "metadata": {},
   "outputs": [
    {
     "name": "stdout",
     "output_type": "stream",
     "text": [
      "['hello world', 'python', 'hello', 'abc', 'def']\n",
      "['is', 'Life', 'need', 'python', 'short.', 'too', 'You']\n",
      "[('a', 1), ('n', 2), ('v', 3), ('f', 4), ('e', 5)]\n",
      "[('a', 1), ('e', 5), ('f', 4), ('n', 2), ('v', 3)]\n"
     ]
    }
   ],
   "source": [
    "testCaseOne=['abc','def','hello world','hello','python']\n",
    "testCaseTwo='Life is too short. You need python'.split()\n",
    "testCaseThree=list(zip('anvfe',[1,2,3,4,5]))\n",
    "\n",
    "print(sorted(testCaseOne, key=len, reverse=True))\n",
    "print(sorted(testCaseTwo, key=str.lower))\n",
    "print(sorted(testCaseThree, key=lambda x:x[1]))\n",
    "print(sorted(testCaseThree, key=lambda x:x[0]))"
   ]
  },
  {
   "cell_type": "code",
   "execution_count": 38,
   "metadata": {},
   "outputs": [
    {
     "data": {
      "text/plain": [
       "False"
      ]
     },
     "execution_count": 38,
     "metadata": {},
     "output_type": "execute_result"
    }
   ],
   "source": [
    "5 not in [1,2,3,4,5]"
   ]
  },
  {
   "cell_type": "code",
   "execution_count": 39,
   "metadata": {},
   "outputs": [],
   "source": [
    "l=[1,2,3,4,5]"
   ]
  },
  {
   "cell_type": "code",
   "execution_count": 41,
   "metadata": {},
   "outputs": [
    {
     "data": {
      "text/plain": [
       "['__add__',\n",
       " '__class__',\n",
       " '__contains__',\n",
       " '__delattr__',\n",
       " '__delitem__',\n",
       " '__dir__',\n",
       " '__doc__',\n",
       " '__eq__',\n",
       " '__format__',\n",
       " '__ge__',\n",
       " '__getattribute__',\n",
       " '__getitem__',\n",
       " '__gt__',\n",
       " '__hash__',\n",
       " '__iadd__',\n",
       " '__imul__',\n",
       " '__init__',\n",
       " '__init_subclass__',\n",
       " '__iter__',\n",
       " '__le__',\n",
       " '__len__',\n",
       " '__lt__',\n",
       " '__mul__',\n",
       " '__ne__',\n",
       " '__new__',\n",
       " '__reduce__',\n",
       " '__reduce_ex__',\n",
       " '__repr__',\n",
       " '__reversed__',\n",
       " '__rmul__',\n",
       " '__setattr__',\n",
       " '__setitem__',\n",
       " '__sizeof__',\n",
       " '__str__',\n",
       " '__subclasshook__',\n",
       " 'append',\n",
       " 'clear',\n",
       " 'copy',\n",
       " 'count',\n",
       " 'extend',\n",
       " 'index',\n",
       " 'insert',\n",
       " 'pop',\n",
       " 'remove',\n",
       " 'reverse',\n",
       " 'sort']"
      ]
     },
     "execution_count": 41,
     "metadata": {},
     "output_type": "execute_result"
    }
   ],
   "source": [
    "dir(l)\n",
    "#  'append',\n",
    "#  'clear',\n",
    "#  'copy',\n",
    "#  'count',\n",
    "#  'extend',\n",
    "#  'index',\n",
    "#  'insert',\n",
    "#  'pop',\n",
    "#  'remove',\n",
    "#  'reverse',\n",
    "#  'sort']"
   ]
  },
  {
   "cell_type": "code",
   "execution_count": 44,
   "metadata": {},
   "outputs": [
    {
     "name": "stdout",
     "output_type": "stream",
     "text": [
      "[1000, 2, 3, 4, 5]\n",
      "[1, 2, 3, 4, 5]\n"
     ]
    }
   ],
   "source": [
    "def listChange(x):\n",
    "    x[0] =1000\n",
    "    return x\n",
    "l=[1,2,3,4,5]\n",
    "print(listChange(l.copy()))\n",
    "print(l)"
   ]
  },
  {
   "cell_type": "markdown",
   "metadata": {},
   "source": [
    "### pop, append"
   ]
  },
  {
   "cell_type": "code",
   "execution_count": 50,
   "metadata": {},
   "outputs": [
    {
     "data": {
      "text/plain": [
       "10"
      ]
     },
     "execution_count": 50,
     "metadata": {},
     "output_type": "execute_result"
    }
   ],
   "source": [
    "# 선입 선출 큐\n",
    "l=[]\n",
    "l.append(10)\n",
    "l.append(20)\n",
    "l.append(30)\n",
    "l.pop(0)\n"
   ]
  },
  {
   "cell_type": "code",
   "execution_count": 51,
   "metadata": {},
   "outputs": [
    {
     "data": {
      "text/plain": [
       "30"
      ]
     },
     "execution_count": 51,
     "metadata": {},
     "output_type": "execute_result"
    }
   ],
   "source": [
    "# 후입 선출 스택\n",
    "l=[]\n",
    "l.append(10)\n",
    "l.append(20)\n",
    "l.append(30)\n",
    "l.pop()\n"
   ]
  },
  {
   "cell_type": "code",
   "execution_count": 52,
   "metadata": {},
   "outputs": [
    {
     "data": {
      "text/plain": [
       "['__add__',\n",
       " '__class__',\n",
       " '__contains__',\n",
       " '__delattr__',\n",
       " '__dir__',\n",
       " '__doc__',\n",
       " '__eq__',\n",
       " '__format__',\n",
       " '__ge__',\n",
       " '__getattribute__',\n",
       " '__getitem__',\n",
       " '__getnewargs__',\n",
       " '__gt__',\n",
       " '__hash__',\n",
       " '__init__',\n",
       " '__init_subclass__',\n",
       " '__iter__',\n",
       " '__le__',\n",
       " '__len__',\n",
       " '__lt__',\n",
       " '__mul__',\n",
       " '__ne__',\n",
       " '__new__',\n",
       " '__reduce__',\n",
       " '__reduce_ex__',\n",
       " '__repr__',\n",
       " '__rmul__',\n",
       " '__setattr__',\n",
       " '__sizeof__',\n",
       " '__str__',\n",
       " '__subclasshook__',\n",
       " 'count',\n",
       " 'index']"
      ]
     },
     "execution_count": 52,
     "metadata": {},
     "output_type": "execute_result"
    }
   ],
   "source": [
    "dir((1,2,3))"
   ]
  },
  {
   "cell_type": "code",
   "execution_count": 56,
   "metadata": {},
   "outputs": [
    {
     "data": {
      "text/plain": [
       "dict_items([('one', '하나'), ('two', '둘')])"
      ]
     },
     "execution_count": 56,
     "metadata": {},
     "output_type": "execute_result"
    }
   ],
   "source": [
    "dir({'one':'하나','two':'둘'})\n",
    "d={'one':'하나','two':'둘'}\n",
    "#  'clear',\n",
    "#  'copy',\n",
    "#  'fromkeys',\n",
    "#  'get',\n",
    "#  'items',\n",
    "#  'keys',\n",
    "#  'pop',\n",
    "#  'popitem',\n",
    "#  'setdefault',\n",
    "#  'update',\n",
    "#  'values'\n",
    "d.keys()\n",
    "d.values()\n",
    "d.items()"
   ]
  },
  {
   "cell_type": "code",
   "execution_count": 57,
   "metadata": {},
   "outputs": [],
   "source": [
    "del d['one']"
   ]
  },
  {
   "cell_type": "code",
   "execution_count": 58,
   "metadata": {},
   "outputs": [
    {
     "data": {
      "text/plain": [
       "{'two': '둘'}"
      ]
     },
     "execution_count": 58,
     "metadata": {},
     "output_type": "execute_result"
    }
   ],
   "source": [
    "d"
   ]
  },
  {
   "cell_type": "code",
   "execution_count": 59,
   "metadata": {},
   "outputs": [],
   "source": [
    "d['one']='하나'"
   ]
  },
  {
   "cell_type": "code",
   "execution_count": 60,
   "metadata": {},
   "outputs": [
    {
     "data": {
      "text/plain": [
       "{'two': '둘', 'one': '하나'}"
      ]
     },
     "execution_count": 60,
     "metadata": {},
     "output_type": "execute_result"
    }
   ],
   "source": [
    "d"
   ]
  },
  {
   "cell_type": "code",
   "execution_count": 62,
   "metadata": {},
   "outputs": [
    {
     "data": {
      "text/plain": [
       "{'1', '2', '3', '4'}"
      ]
     },
     "execution_count": 62,
     "metadata": {},
     "output_type": "execute_result"
    }
   ],
   "source": [
    "s=set('11123434')\n",
    "s"
   ]
  },
  {
   "cell_type": "code",
   "execution_count": 70,
   "metadata": {},
   "outputs": [
    {
     "data": {
      "text/plain": [
       "True"
      ]
     },
     "execution_count": 70,
     "metadata": {},
     "output_type": "execute_result"
    }
   ],
   "source": [
    "dir(s)\n",
    "# 'add',\n",
    "#  'clear',\n",
    "#  'copy',\n",
    "#  'difference',  차집합\n",
    "#  'difference_update',\n",
    "#  'discard',\n",
    "#  'intersection',\n",
    "#  'intersection_update',\n",
    "#  'isdisjoint',\n",
    "#  'issubset',\n",
    "#  'issuperset',\n",
    "#  'pop',\n",
    "#  'remove',\n",
    "#  'symmetric_difference',\n",
    "#  'symmetric_difference_update',\n",
    "#  'union', 합집합\n",
    "#  'update 다수의 원소 추가\n",
    "s.add(7)\n",
    "s\n",
    "s.discard(7)\n",
    "s\n",
    "'1' in s"
   ]
  },
  {
   "cell_type": "code",
   "execution_count": 71,
   "metadata": {},
   "outputs": [
    {
     "name": "stdout",
     "output_type": "stream",
     "text": [
      "{'C'}\n",
      "{'A', 'B'}\n",
      "2\n",
      "{'C', 'A', 'D', 'B'}\n"
     ]
    }
   ],
   "source": [
    "판콜에이={'A','B','C'}\n",
    "타이레놀={'A','B','D'}\n",
    "print(판콜에이.difference(타이레놀))\n",
    "print(판콜에이.intersection(타이레놀))\n",
    "print(len(판콜에이.intersection(타이레놀)))\n",
    "print(판콜에이.union(타이레놀))"
   ]
  },
  {
   "cell_type": "code",
   "execution_count": 73,
   "metadata": {},
   "outputs": [
    {
     "name": "stdout",
     "output_type": "stream",
     "text": [
      "자바독 2\n",
      "썬 1\n",
      "라이캣 2\n",
      "개리 3\n",
      "파이 1\n"
     ]
    },
    {
     "data": {
      "text/plain": [
       "{'자바독': 2, '썬': 1, '라이캣': 2, '개리': 3, '파이': 1}"
      ]
     },
     "execution_count": 73,
     "metadata": {},
     "output_type": "execute_result"
    }
   ],
   "source": [
    "# 예제\n",
    "serverData='개리 라이캣 개리 개리 라이캣 자바독 자바독 파이 썬'\n",
    "len(set(serverData.split()))\n",
    "d={}\n",
    "for i in set(serverData.split()):\n",
    "    print(i, serverData.split().count(i))\n",
    "    d[i]=serverData.split().count(i)\n",
    "d"
   ]
  },
  {
   "cell_type": "code",
   "execution_count": 75,
   "metadata": {},
   "outputs": [
    {
     "name": "stdout",
     "output_type": "stream",
     "text": [
      "1\n",
      "2\n",
      "3\n",
      "4\n",
      "5\n",
      "6\n",
      "7\n"
     ]
    },
    {
     "data": {
      "text/plain": [
       "[1, 2, 3, 4, 5, 6, 7]"
      ]
     },
     "execution_count": 75,
     "metadata": {},
     "output_type": "execute_result"
    }
   ],
   "source": [
    "for i in '1 2 3 4 5 6 7'.split():\n",
    "    print(int(i))\n",
    "    \n",
    "[int(i) for i in '1 2 3 4 5 6 7'.split()]\n",
    "\n",
    "list(map(int,'1 2 3 4 5 6 7'.split()))"
   ]
  },
  {
   "cell_type": "code",
   "execution_count": 78,
   "metadata": {},
   "outputs": [],
   "source": [
    "l=[1,2,3,4,5]\n"
   ]
  },
  {
   "cell_type": "markdown",
   "metadata": {},
   "source": [
    "## 시간복잡도"
   ]
  },
  {
   "cell_type": "markdown",
   "metadata": {},
   "source": [
    "* 시간제한이 1초인 문제\n",
    "1. N의 범위가 500인 경우: O(N^3)인 알고리즘을 설계\n",
    "1. N의 범위가 2,000인 경우: O(N^2)인 알고리즘을 설계\n",
    "1. N의 범위가 100,000인 경우: O(NlogN)인 알고리즘을 설계\n",
    "1. N의 범위가 10,000,000인 경우: O(N)인 알고리즘을 설계"
   ]
  },
  {
   "cell_type": "markdown",
   "metadata": {},
   "source": [
    "## 자료형\n",
    "\n",
    "#### 정수형, 실수형, 복소수형, 문자열, 리스트, 튜플, 사전 등"
   ]
  },
  {
   "cell_type": "code",
   "execution_count": 80,
   "metadata": {},
   "outputs": [
    {
     "data": {
      "text/plain": [
       "100"
      ]
     },
     "execution_count": 80,
     "metadata": {},
     "output_type": "execute_result"
    }
   ],
   "source": [
    "# 정수형(integer)\n",
    "a=100\n",
    "a+1-1"
   ]
  },
  {
   "cell_type": "code",
   "execution_count": 92,
   "metadata": {},
   "outputs": [
    {
     "name": "stdout",
     "output_type": "stream",
     "text": [
      "1231.2\n",
      "-1231.2\n",
      "5.0\n",
      "-0.7\n",
      "1000000000.0\n",
      "7520000.0\n",
      "1000000000\n",
      "0.8999999999999999\n",
      "False\n",
      "0.9\n",
      "2.3333333333333335\n",
      "1\n",
      "2\n",
      "343\n"
     ]
    }
   ],
   "source": [
    "# 실수형\n",
    "a=1231.2\n",
    "print(a)\n",
    "a=-1231.2\n",
    "print(a)\n",
    "\n",
    "a=5.\n",
    "print(a)\n",
    "\n",
    "a=-.7\n",
    "print(a)\n",
    "\n",
    "\n",
    "# 지수표현 방식 => 자동 실수처리\n",
    "# 1e9 = 10의 9제곱: inf를 1e9로 표현\n",
    "print(1e9)\n",
    "print(75.2e5)\n",
    "\n",
    "# 정수형 데이터는 연산시 int 사용으로 오차 발생 줄이기\n",
    "print(int(1e9))\n",
    "\n",
    "# 실수형 데이터 오차 => round로 해결\n",
    "print(0.3+0.6)\n",
    "print(0.3+0.6==0.9)\n",
    "print(round(0.3+0.6,2))\n",
    "\n",
    "# 나눗셈 연산(/): 결과 실수형으로 반환\n",
    "# %(나머지), //(몫)\n",
    "print(7/3)\n",
    "print(7%3)\n",
    "print(7//3)\n",
    "print(7**3)"
   ]
  },
  {
   "cell_type": "code",
   "execution_count": 111,
   "metadata": {},
   "outputs": [
    {
     "name": "stdout",
     "output_type": "stream",
     "text": [
      "[1, 2, 3, 4, 5, 6, 7, 8, 9, 10]\n",
      "4\n",
      "10\n",
      "[1, 2, 3, 4, 5, 6, 7, 8, 9]\n",
      "[1, 2, 3, 4, 5, 6, 7, 8, 9, 10]\n",
      "[1, 2, 3, 4, 5, 6, 7, 8, 9, 10]\n",
      "[1, 2, 3, 4, 5, 6, 7, 8, 9, 10]\n",
      "[10, 9, 8, 7, 6, 5, 4, 3, 2]\n",
      "[0, 0, 0, 0, 0, 0, 0, 0, 0, 0]\n",
      "[0, 5, 10, 15, 20, 25, 30, 35, 40, 45, 50]\n",
      "[0, 10, 20, 30, 40, 50]\n",
      "[0, 10, 20, 30, 40, 50]\n",
      "[[0, 0, 0, 0, 0], [0, 0, 0, 0, 0], [0, 0, 0, 0, 0], [0, 0, 0, 0, 0]]\n",
      "[[0, 0, 0, 0, 0], [0, 2, 0, 0, 0], [0, 0, 0, 0, 0], [0, 0, 0, 0, 0]]\n"
     ]
    }
   ],
   "source": [
    "# 리스트\n",
    "\n",
    "a=list(range(1,11))\n",
    "print(a)\n",
    "#인덱싱\n",
    "print(a[3])\n",
    "print(a[-1])\n",
    "# 슬라이싱\n",
    "print(a[:-1])\n",
    "print(a[:])\n",
    "print(a[:11])\n",
    "print(a[-10:])\n",
    "print(a[-1:-10:-1])\n",
    "\n",
    "\n",
    "# 반복되는 리스트 만들기 * 활용\n",
    "a=[0]\n",
    "print(a*10)\n",
    "\n",
    "#리스트 컴프리헨션\n",
    "a=[i*5 for i in range(11)]\n",
    "print(a)\n",
    "\n",
    "a=[i*5 for i in range(11) if i %2==0]\n",
    "print(a)\n",
    "\n",
    "a=[i*5 for i in range(11) if i %2==0]\n",
    "print(a)\n",
    "\n",
    "# n x m차원 리스트 초기화\n",
    "m=5\n",
    "n=4\n",
    "array=[[0]*m for _ in range(n)]\n",
    "print(array)\n",
    "array[1][1]=2\n",
    "print(array)\n",
    "\n",
    "\n"
   ]
  },
  {
   "cell_type": "code",
   "execution_count": 119,
   "metadata": {},
   "outputs": [
    {
     "name": "stdout",
     "output_type": "stream",
     "text": [
      "[1, 4, 3]\n",
      "[1, 4, 3, 2]\n",
      "[1, 2, 3, 4]\n",
      "[4, 3, 2, 1]\n",
      "[4, 3, 1]\n",
      "[2, 4, 3, 1]\n",
      "[1, 3, 4, 2]\n",
      "1\n"
     ]
    }
   ],
   "source": [
    "#method\n",
    "# append, sort, reverse, insert, count, remove\n",
    "a=[1,4,3]\n",
    "print(a)\n",
    "a.append(2)\n",
    "print(a)\n",
    "a.sort()\n",
    "print(a)\n",
    "a.sort(reverse=True)\n",
    "print(a)\n",
    "a.remove(2)\n",
    "print(a)\n",
    "\n",
    "a.insert(0,2)\n",
    "print(a)\n",
    "a.reverse()\n",
    "print(a)\n",
    "print(a.count(1))"
   ]
  },
  {
   "cell_type": "code",
   "execution_count": 121,
   "metadata": {},
   "outputs": [
    {
     "name": "stdout",
     "output_type": "stream",
     "text": [
      "[1, 2, 4]\n"
     ]
    }
   ],
   "source": [
    "# remove_set 활용\n",
    "a=[1,2,3,4,5,5,5]\n",
    "remove_set={3,5}\n",
    "result=[i for i in a if i not in remove_set]\n",
    "print(result)"
   ]
  },
  {
   "cell_type": "code",
   "execution_count": 125,
   "metadata": {},
   "outputs": [
    {
     "name": "stdout",
     "output_type": "stream",
     "text": [
      "Hello World\n",
      "Don't you know \"Python\"?\n",
      "Hello World\n",
      "stringstringstring\n",
      "str\n",
      "4\n",
      "(2, 3, 4)\n"
     ]
    }
   ],
   "source": [
    "# 문자열(특정 인덱스 값 변경 불가능)\n",
    "\n",
    "data='Hello World'\n",
    "print(data)\n",
    "\n",
    "# 백슬래쉬로 따옴표 온전히 출력\n",
    "data=\"Don't you know \\\"Python\\\"?\"\n",
    "print(data)\n",
    "\n",
    "# 연산, 인덱싱, 슬라이싱\n",
    "a='Hello'\n",
    "b=\"World\"\n",
    "print(a+\" \"+b)\n",
    "\n",
    "a=\"string\"\n",
    "print(a*3)\n",
    "\n",
    "print(a[:3])\n",
    "\n",
    "\n",
    "# 튜플\n",
    "# 용도\n",
    "# 1. 서로 다른 성질의 데이터를 묶어서 관리\n",
    "# 2. 해싱의 키 값으로 사용해야 할 때(리스틑 불가능)\n",
    "# 3. 리스트보다 메모리를 효율적으로 사용해야 할 때\n",
    "\n",
    "a=(1,2,3,4,5,6,7,8,9)\n",
    "print(a[3])\n",
    "print(a[1:4])"
   ]
  },
  {
   "cell_type": "code",
   "execution_count": 135,
   "metadata": {},
   "outputs": [
    {
     "name": "stdout",
     "output_type": "stream",
     "text": [
      "{'사과': 'Apple', '바나나': 'Banana', '코코넛': 'Coconut'}\n",
      "True\n",
      "dict_keys(['사과', '바나나', '코코넛'])\n",
      "dict_values(['Apple', 'Banana', 'Coconut'])\n",
      "사과\n",
      "바나나\n",
      "코코넛\n"
     ]
    }
   ],
   "source": [
    "# 사전자료형 (키: 값)\n",
    "# 순차적인 저장이 아님, 데이터 조회 및 수정에 있어서 O(1) 상수 시간\n",
    "# 키는 변경 불가능한 자료형(tuple 등)을 사용\n",
    "data=dict()\n",
    "data['사과']='Apple'\n",
    "data['바나나']='Banana'\n",
    "data['코코넛']='Coconut'\n",
    "print(data)\n",
    "\n",
    "print('사과' in data) # 상수시간 소요\n",
    "\n",
    "#메서드\n",
    "print(data.keys())\n",
    "print(data.values())\n",
    "for i in list(data.keys()):\n",
    "    print(i)"
   ]
  },
  {
   "cell_type": "code",
   "execution_count": 143,
   "metadata": {},
   "outputs": [
    {
     "name": "stdout",
     "output_type": "stream",
     "text": [
      "{1, 2, 3, 4, 5, 6}\n",
      "{1, 2, 3, 4, 5, 6}\n",
      "{1, 2, 3, 4, 5, 6, 7}\n",
      "{1, 2, 3, 4, 5, 6, 7, 8, 9, 10}\n",
      "{1, 2, 4, 5, 6, 7, 8, 9, 10}\n"
     ]
    }
   ],
   "source": [
    "# 집합 자료형(set)\n",
    "# 중복 허용 x, 순서가 없음\n",
    "# 데이터 조회 및 수정에 있어서 O(1) 상수시간에 처리\n",
    "\n",
    "data=set([1,2,2,3,4,5,6,5,4])\n",
    "print(data)\n",
    "data={1,2,2,3,4,5,6,5,4}\n",
    "print(data)\n",
    "\n",
    "#추가 삭제 상수시간!\n",
    "data.add(7)\n",
    "print(data)\n",
    "data.update([8,9,10])\n",
    "print(data)\n",
    "data.remove(3)\n",
    "print(data)\n",
    "\n",
    "#조회, 인덱싱 불가능, 키나 원소의 값으로 조회"
   ]
  },
  {
   "cell_type": "code",
   "execution_count": 147,
   "metadata": {},
   "outputs": [
    {
     "name": "stdout",
     "output_type": "stream",
     "text": [
      "5\n",
      "1 2 3 4 5\n",
      "[1, 2, 3, 4, 5]\n"
     ]
    }
   ],
   "source": [
    "# 입력 input, map\n",
    "n=int(input())\n",
    "a=list(map(int,input().split()))\n",
    "print(a)"
   ]
  },
  {
   "cell_type": "code",
   "execution_count": 148,
   "metadata": {},
   "outputs": [
    {
     "name": "stdout",
     "output_type": "stream",
     "text": [
      "1 2 3\n",
      "1 2 3\n"
     ]
    }
   ],
   "source": [
    " a,b,c=map(int,input().split())\n",
    "print(a,b,c)"
   ]
  },
  {
   "cell_type": "code",
   "execution_count": 150,
   "metadata": {},
   "outputs": [
    {
     "name": "stdout",
     "output_type": "stream",
     "text": [
      "\n"
     ]
    }
   ],
   "source": [
    "# 입력을 빠르게 받아야 할 때\n",
    "# sys.stdin.readline()\n",
    "# rstrip()\n",
    "import sys\n",
    "data=sys.stdin.readline().rstrip()\n",
    "print(data)"
   ]
  },
  {
   "cell_type": "code",
   "execution_count": 153,
   "metadata": {},
   "outputs": [
    {
     "name": "stdout",
     "output_type": "stream",
     "text": [
      "1 2\n",
      "1 2\n",
      "정답은 7입니다.\n"
     ]
    }
   ],
   "source": [
    "# 출력\n",
    "a=1\n",
    "b=2\n",
    "print(a,b)\n",
    "print(a, end=' '); print(b)\n",
    "\n",
    "#f string\n",
    "answer=7\n",
    "print(f\"정답은 {answer}입니다.\")"
   ]
  },
  {
   "cell_type": "code",
   "execution_count": 154,
   "metadata": {},
   "outputs": [
    {
     "name": "stdout",
     "output_type": "stream",
     "text": [
      "10\n"
     ]
    }
   ],
   "source": [
    "# 반복문: for + continue , while break\n",
    "# 함수 전역변수 사용 global\n",
    "a=0\n",
    "def func():\n",
    "    global a\n",
    "    a+=1\n",
    "\n",
    "for i in range(10):\n",
    "    func()\n",
    "print(a)\n",
    "\n",
    "# 리스트 객체의 내부 메서드 호출은 따로 전역변수 지정 안해줘도 가능"
   ]
  },
  {
   "cell_type": "code",
   "execution_count": 157,
   "metadata": {},
   "outputs": [
    {
     "name": "stdout",
     "output_type": "stream",
     "text": [
      "[7, 9, 11, 13, 15]\n"
     ]
    }
   ],
   "source": [
    "# map과 람다표현식으로 벡터연산 하기\n",
    "list1=[1,2,3,4,5]\n",
    "list2=[6,7,8,9,10]\n",
    "result=map(lambda a,b: a+b,list1,list2)\n",
    "print(list(result))"
   ]
  },
  {
   "cell_type": "markdown",
   "metadata": {},
   "source": [
    "## 실전에서 유용한 표준 라이브러리"
   ]
  },
  {
   "cell_type": "markdown",
   "metadata": {},
   "source": [
    "0. 내장함수 : sum(), min(), max(), eval(), sorted(data,key=,reverse=)\n",
    "1. itertools:  순열permutaions(data,r), 조합combinations(), 중복순열product(), 중복조합combinations_with_replacement()\n",
    "2. heapq\n",
    "3. bisect\n",
    "4. collections: Counter() dictionary 구조로 반환\n",
    "5. math: gcd()최대공약수, -> 최소공배수 만들기, factorial()"
   ]
  },
  {
   "cell_type": "markdown",
   "metadata": {},
   "source": [
    "## 문자열 다루기(포매팅, 정규표현식)"
   ]
  },
  {
   "cell_type": "code",
   "execution_count": null,
   "metadata": {},
   "outputs": [],
   "source": []
  }
 ],
 "metadata": {
  "kernelspec": {
   "display_name": "Python 3",
   "language": "python",
   "name": "python3"
  },
  "language_info": {
   "codemirror_mode": {
    "name": "ipython",
    "version": 3
   },
   "file_extension": ".py",
   "mimetype": "text/x-python",
   "name": "python",
   "nbconvert_exporter": "python",
   "pygments_lexer": "ipython3",
   "version": "3.8.5"
  }
 },
 "nbformat": 4,
 "nbformat_minor": 4
}
