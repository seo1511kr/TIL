{
 "cells": [
  {
   "cell_type": "code",
   "execution_count": 13,
   "metadata": {},
   "outputs": [
    {
     "name": "stderr",
     "output_type": "stream",
     "text": [
      "<ipython-input-13-b586ab26edf2>:8: DeprecationWarning: use options instead of chrome_options\n",
      "  driver=webdriver.Chrome(\"c:/scrap/chromedriver.exe\",chrome_options=chrome_options)\n"
     ]
    }
   ],
   "source": [
    "from selenium import webdriver\n",
    "from selenium.webdriver.chrome.options import Options# 한국어 설정\n",
    "\n",
    "from selenium.webdriver.support.ui import WebDriverWait#매크로 걸리는 거 방지\n",
    "from selenium.webdriver.support import expected_conditions as EC\n",
    "from selenium.webdriver.common.by import By\n",
    "import time\n",
    "\n",
    "url=\"https://www.instagram.com/\"\n",
    "\n",
    "chrome_options=webdriver.ChromeOptions()\n",
    "chrome_options.add_argument('lang=ko_KR')\n",
    "driver=webdriver.Chrome(\"c:/scrap/chromedriver.exe\",chrome_options=chrome_options)\n",
    "driver.get(url)\n"
   ]
  },
  {
   "cell_type": "code",
   "execution_count": 16,
   "metadata": {},
   "outputs": [],
   "source": [
    "id=driver.find_element_by_css_selector(\"#loginForm > div > div:nth-child(1) > div > label > input\")\n",
    "id.clear()\n",
    "id.send_keys(\"hey.mr.sexy\")\n",
    "pw=driver.find_element_by_css_selector(\"#loginForm > div > div:nth-child(2) > div > label > input\")\n",
    "pw.clear()\n",
    "pw.send_keys(\"sdfg#456\")\n",
    "pw.submit()\n",
    "driver.implicitly_wait(6)"
   ]
  },
  {
   "cell_type": "code",
   "execution_count": 25,
   "metadata": {},
   "outputs": [],
   "source": [
    "url=\"https://www.instagram.com/\"\n",
    "word=\"hizzeomi\"\n",
    "driver.get(url+word)"
   ]
  },
  {
   "cell_type": "code",
   "execution_count": 26,
   "metadata": {},
   "outputs": [],
   "source": [
    "driver.implicitly_wait(6)\n",
    "    post=driver.find_element_by_css_selector(\"#react-root > section > main > div > div._2z6nI > article > div:nth-child(1) > div > div:nth-child(1) > div:nth-child(1) > a > div.eLAPa > div._9AhH0\")\n",
    "    post.click()\n"
   ]
  },
  {
   "cell_type": "code",
   "execution_count": 56,
   "metadata": {},
   "outputs": [
    {
     "name": "stdout",
     "output_type": "stream",
     "text": [
      "팔로잉완료\n"
     ]
    }
   ],
   "source": [
    "driver.implicitly_wait(6)\n",
    "html=driver.page_source\n",
    "soup=BeautifulSoup(html,\"html.parser\")    \n",
    "if soup.select(\"#react-root > section > main > div > div.ltEKP > article > header > div.o-MQd > div.PQo_0 > div.bY2yH > button\")[0].text==\"팔로우\":\n",
    "    follow=driver.find_element_by_css_selector(\"#react-root > section > main > div > div.ltEKP > article > header > div.o-MQd > div.PQo_0 > div.bY2yH > button\")\n",
    "    follow.click()\n",
    "    print(\"팔로잉완료\")\n",
    "\n"
   ]
  },
  {
   "cell_type": "code",
   "execution_count": 57,
   "metadata": {},
   "outputs": [
    {
     "name": "stdout",
     "output_type": "stream",
     "text": [
      "좋아요완료\n"
     ]
    }
   ],
   "source": [
    "if soup.select(\"#react-root > section > main > div > div.ltEKP > article > div.eo2As > section.ltpMr.Slqrh > span.fr66n > button > div > span > svg\")[0][\"aria-label\"]==\"좋아요\":\n",
    "    likes=driver.find_element_by_css_selector(\"#react-root > section > main > div > div.ltEKP > article > div.eo2As > section.ltpMr.Slqrh > span.fr66n > button > div > span > svg\")\n",
    "    likes.click()\n",
    "    print(\"좋아요완료\")\n",
    "next=driver.find_element_by_css_selector(\"#react-root > section > main > div > div.ltEKP > article > div._97aPb.wKWK0 > div > div.pR7Pc > div.Igw0E.IwRSH.eGOV_._4EzTm.O1flK.D8xaz.fm1AK.TxciK.yiMZG > div > button > div\")\n",
    "next.click()"
   ]
  },
  {
   "cell_type": "code",
   "execution_count": 69,
   "metadata": {},
   "outputs": [
    {
     "ename": "NoSuchElementException",
     "evalue": "Message: no such element: Unable to locate element: {\"method\":\"css selector\",\"selector\":\"#react-root > section > main > div > div.ltEKP > article > div._97aPb.wKWK0 > div > div.pR7Pc > div.Igw0E.IwRSH.eGOV_._4EzTm.O1flK.D8xaz.fm1AK.TxciK.yiMZG > div > button._6CZji > div\"}\n  (Session info: chrome=87.0.4280.141)\n",
     "output_type": "error",
     "traceback": [
      "\u001b[1;31m---------------------------------------------------------------------------\u001b[0m",
      "\u001b[1;31mNoSuchElementException\u001b[0m                    Traceback (most recent call last)",
      "\u001b[1;32m<ipython-input-69-6449aca6275c>\u001b[0m in \u001b[0;36m<module>\u001b[1;34m\u001b[0m\n\u001b[0;32m      9\u001b[0m         \u001b[1;32mbreak\u001b[0m\u001b[1;33m\u001b[0m\u001b[1;33m\u001b[0m\u001b[0m\n\u001b[0;32m     10\u001b[0m     \u001b[1;32melse\u001b[0m\u001b[1;33m:\u001b[0m \u001b[0mtime\u001b[0m\u001b[1;33m.\u001b[0m\u001b[0msleep\u001b[0m\u001b[1;33m(\u001b[0m\u001b[1;36m4\u001b[0m\u001b[1;33m)\u001b[0m\u001b[1;33m\u001b[0m\u001b[1;33m\u001b[0m\u001b[0m\n\u001b[1;32m---> 11\u001b[1;33m \u001b[0mnext\u001b[0m\u001b[1;33m=\u001b[0m\u001b[0mdriver\u001b[0m\u001b[1;33m.\u001b[0m\u001b[0mfind_element_by_css_selector\u001b[0m\u001b[1;33m(\u001b[0m\u001b[1;34m\"#react-root > section > main > div > div.ltEKP > article > div._97aPb.wKWK0 > div > div.pR7Pc > div.Igw0E.IwRSH.eGOV_._4EzTm.O1flK.D8xaz.fm1AK.TxciK.yiMZG > div > button._6CZji > div\"\u001b[0m\u001b[1;33m)\u001b[0m\u001b[1;33m\u001b[0m\u001b[1;33m\u001b[0m\u001b[0m\n\u001b[0m\u001b[0;32m     12\u001b[0m \u001b[0mnext\u001b[0m\u001b[1;33m.\u001b[0m\u001b[0mclick\u001b[0m\u001b[1;33m(\u001b[0m\u001b[1;33m)\u001b[0m\u001b[1;33m\u001b[0m\u001b[1;33m\u001b[0m\u001b[0m\n",
      "\u001b[1;32mC:\\ProgramData\\Anaconda3\\lib\\site-packages\\selenium\\webdriver\\remote\\webdriver.py\u001b[0m in \u001b[0;36mfind_element_by_css_selector\u001b[1;34m(self, css_selector)\u001b[0m\n\u001b[0;32m    596\u001b[0m             \u001b[0melement\u001b[0m \u001b[1;33m=\u001b[0m \u001b[0mdriver\u001b[0m\u001b[1;33m.\u001b[0m\u001b[0mfind_element_by_css_selector\u001b[0m\u001b[1;33m(\u001b[0m\u001b[1;34m'#foo'\u001b[0m\u001b[1;33m)\u001b[0m\u001b[1;33m\u001b[0m\u001b[1;33m\u001b[0m\u001b[0m\n\u001b[0;32m    597\u001b[0m         \"\"\"\n\u001b[1;32m--> 598\u001b[1;33m         \u001b[1;32mreturn\u001b[0m \u001b[0mself\u001b[0m\u001b[1;33m.\u001b[0m\u001b[0mfind_element\u001b[0m\u001b[1;33m(\u001b[0m\u001b[0mby\u001b[0m\u001b[1;33m=\u001b[0m\u001b[0mBy\u001b[0m\u001b[1;33m.\u001b[0m\u001b[0mCSS_SELECTOR\u001b[0m\u001b[1;33m,\u001b[0m \u001b[0mvalue\u001b[0m\u001b[1;33m=\u001b[0m\u001b[0mcss_selector\u001b[0m\u001b[1;33m)\u001b[0m\u001b[1;33m\u001b[0m\u001b[1;33m\u001b[0m\u001b[0m\n\u001b[0m\u001b[0;32m    599\u001b[0m \u001b[1;33m\u001b[0m\u001b[0m\n\u001b[0;32m    600\u001b[0m     \u001b[1;32mdef\u001b[0m \u001b[0mfind_elements_by_css_selector\u001b[0m\u001b[1;33m(\u001b[0m\u001b[0mself\u001b[0m\u001b[1;33m,\u001b[0m \u001b[0mcss_selector\u001b[0m\u001b[1;33m)\u001b[0m\u001b[1;33m:\u001b[0m\u001b[1;33m\u001b[0m\u001b[1;33m\u001b[0m\u001b[0m\n",
      "\u001b[1;32mC:\\ProgramData\\Anaconda3\\lib\\site-packages\\selenium\\webdriver\\remote\\webdriver.py\u001b[0m in \u001b[0;36mfind_element\u001b[1;34m(self, by, value)\u001b[0m\n\u001b[0;32m    974\u001b[0m                 \u001b[0mby\u001b[0m \u001b[1;33m=\u001b[0m \u001b[0mBy\u001b[0m\u001b[1;33m.\u001b[0m\u001b[0mCSS_SELECTOR\u001b[0m\u001b[1;33m\u001b[0m\u001b[1;33m\u001b[0m\u001b[0m\n\u001b[0;32m    975\u001b[0m                 \u001b[0mvalue\u001b[0m \u001b[1;33m=\u001b[0m \u001b[1;34m'[name=\"%s\"]'\u001b[0m \u001b[1;33m%\u001b[0m \u001b[0mvalue\u001b[0m\u001b[1;33m\u001b[0m\u001b[1;33m\u001b[0m\u001b[0m\n\u001b[1;32m--> 976\u001b[1;33m         return self.execute(Command.FIND_ELEMENT, {\n\u001b[0m\u001b[0;32m    977\u001b[0m             \u001b[1;34m'using'\u001b[0m\u001b[1;33m:\u001b[0m \u001b[0mby\u001b[0m\u001b[1;33m,\u001b[0m\u001b[1;33m\u001b[0m\u001b[1;33m\u001b[0m\u001b[0m\n\u001b[0;32m    978\u001b[0m             'value': value})['value']\n",
      "\u001b[1;32mC:\\ProgramData\\Anaconda3\\lib\\site-packages\\selenium\\webdriver\\remote\\webdriver.py\u001b[0m in \u001b[0;36mexecute\u001b[1;34m(self, driver_command, params)\u001b[0m\n\u001b[0;32m    319\u001b[0m         \u001b[0mresponse\u001b[0m \u001b[1;33m=\u001b[0m \u001b[0mself\u001b[0m\u001b[1;33m.\u001b[0m\u001b[0mcommand_executor\u001b[0m\u001b[1;33m.\u001b[0m\u001b[0mexecute\u001b[0m\u001b[1;33m(\u001b[0m\u001b[0mdriver_command\u001b[0m\u001b[1;33m,\u001b[0m \u001b[0mparams\u001b[0m\u001b[1;33m)\u001b[0m\u001b[1;33m\u001b[0m\u001b[1;33m\u001b[0m\u001b[0m\n\u001b[0;32m    320\u001b[0m         \u001b[1;32mif\u001b[0m \u001b[0mresponse\u001b[0m\u001b[1;33m:\u001b[0m\u001b[1;33m\u001b[0m\u001b[1;33m\u001b[0m\u001b[0m\n\u001b[1;32m--> 321\u001b[1;33m             \u001b[0mself\u001b[0m\u001b[1;33m.\u001b[0m\u001b[0merror_handler\u001b[0m\u001b[1;33m.\u001b[0m\u001b[0mcheck_response\u001b[0m\u001b[1;33m(\u001b[0m\u001b[0mresponse\u001b[0m\u001b[1;33m)\u001b[0m\u001b[1;33m\u001b[0m\u001b[1;33m\u001b[0m\u001b[0m\n\u001b[0m\u001b[0;32m    322\u001b[0m             response['value'] = self._unwrap_value(\n\u001b[0;32m    323\u001b[0m                 response.get('value', None))\n",
      "\u001b[1;32mC:\\ProgramData\\Anaconda3\\lib\\site-packages\\selenium\\webdriver\\remote\\errorhandler.py\u001b[0m in \u001b[0;36mcheck_response\u001b[1;34m(self, response)\u001b[0m\n\u001b[0;32m    240\u001b[0m                 \u001b[0malert_text\u001b[0m \u001b[1;33m=\u001b[0m \u001b[0mvalue\u001b[0m\u001b[1;33m[\u001b[0m\u001b[1;34m'alert'\u001b[0m\u001b[1;33m]\u001b[0m\u001b[1;33m.\u001b[0m\u001b[0mget\u001b[0m\u001b[1;33m(\u001b[0m\u001b[1;34m'text'\u001b[0m\u001b[1;33m)\u001b[0m\u001b[1;33m\u001b[0m\u001b[1;33m\u001b[0m\u001b[0m\n\u001b[0;32m    241\u001b[0m             \u001b[1;32mraise\u001b[0m \u001b[0mexception_class\u001b[0m\u001b[1;33m(\u001b[0m\u001b[0mmessage\u001b[0m\u001b[1;33m,\u001b[0m \u001b[0mscreen\u001b[0m\u001b[1;33m,\u001b[0m \u001b[0mstacktrace\u001b[0m\u001b[1;33m,\u001b[0m \u001b[0malert_text\u001b[0m\u001b[1;33m)\u001b[0m\u001b[1;33m\u001b[0m\u001b[1;33m\u001b[0m\u001b[0m\n\u001b[1;32m--> 242\u001b[1;33m         \u001b[1;32mraise\u001b[0m \u001b[0mexception_class\u001b[0m\u001b[1;33m(\u001b[0m\u001b[0mmessage\u001b[0m\u001b[1;33m,\u001b[0m \u001b[0mscreen\u001b[0m\u001b[1;33m,\u001b[0m \u001b[0mstacktrace\u001b[0m\u001b[1;33m)\u001b[0m\u001b[1;33m\u001b[0m\u001b[1;33m\u001b[0m\u001b[0m\n\u001b[0m\u001b[0;32m    243\u001b[0m \u001b[1;33m\u001b[0m\u001b[0m\n\u001b[0;32m    244\u001b[0m     \u001b[1;32mdef\u001b[0m \u001b[0m_value_or_default\u001b[0m\u001b[1;33m(\u001b[0m\u001b[0mself\u001b[0m\u001b[1;33m,\u001b[0m \u001b[0mobj\u001b[0m\u001b[1;33m,\u001b[0m \u001b[0mkey\u001b[0m\u001b[1;33m,\u001b[0m \u001b[0mdefault\u001b[0m\u001b[1;33m)\u001b[0m\u001b[1;33m:\u001b[0m\u001b[1;33m\u001b[0m\u001b[1;33m\u001b[0m\u001b[0m\n",
      "\u001b[1;31mNoSuchElementException\u001b[0m: Message: no such element: Unable to locate element: {\"method\":\"css selector\",\"selector\":\"#react-root > section > main > div > div.ltEKP > article > div._97aPb.wKWK0 > div > div.pR7Pc > div.Igw0E.IwRSH.eGOV_._4EzTm.O1flK.D8xaz.fm1AK.TxciK.yiMZG > div > button._6CZji > div\"}\n  (Session info: chrome=87.0.4280.141)\n"
     ]
    }
   ],
   "source": [
    "j=0\n",
    "rep=1\n",
    "while j<rep:\n",
    "    driver.implicitly_wait(6)\n",
    "    html=driver.page_source\n",
    "    soup=BeautifulSoup(html,\"html.parser\")    \n",
    "    if soup.select(\"#react-root > section > main > div > div.ltEKP > article > div.eo2As > section.ltpMr.Slqrh > span.fr66n > button > div > span > svg\")[0][\"aria-label\"]==\"좋아요\":\n",
    "        likes=driver.find_element_by_css_selector(\"#react-root > section > main > div > div.ltEKP > article > div.eo2As > section.ltpMr.Slqrh > span.fr66n > button > div > span > svg\")\n",
    "        likes.click()\n",
    "        print(\"좋아요완료\")\n",
    "    j+=1\n",
    "    if j==rep:break\n",
    "    next=driver.find_element_by_css_selector(\"#react-root > section > main > div > div.ltEKP > article > div._97aPb.wKWK0 > div > div.pR7Pc > div.Igw0E.IwRSH.eGOV_._4EzTm.O1flK.D8xaz.fm1AK.TxciK.yiMZG > div > button._6CZji > div\")\n",
    "    next.click()\n"
   ]
  },
  {
   "cell_type": "markdown",
   "metadata": {},
   "source": [
    "# 완성본\n",
    "\n",
    "## 추가해야될 부분\n",
    "\n",
    "###  검색어 검색후 인기게시물 돌아다니면서 인기게시물 태그정보들과, post 시간 정보 얻기"
   ]
  },
  {
   "cell_type": "markdown",
   "metadata": {},
   "source": [
    "## 배운점:\n",
    "\n",
    "### 1.\n",
    "#### click 혹은 submit으로 창을 이동한 후에는\n",
    "#### 소스코드가 변동하여 새롭게 soup 객체를 지정해줘야 한다\n",
    "#### html=driver.page_source\n",
    "#### soup=BeautifulSoup(html,\"html.parser\")\n",
    "\n",
    "### 2.\n",
    "#### 새롭게  html=driver.page_source을 하기 직전에는 \n",
    "#### 반드시 time.sleep() 으로 충분히 컴퓨터가 준비될 시간을 설정해줘야 에러가 안남\n",
    "\n",
    "## 하나의 패키지처럼 같이 다녀야 함:\n",
    "#### click(), submit()\n",
    "#### time.sleep()\n",
    "#### html=driver.page_source\n",
    "#### soup=BeautifulSoup(html,\"html.parser\")\n"
   ]
  },
  {
   "cell_type": "code",
   "execution_count": null,
   "metadata": {
    "scrolled": true
   },
   "outputs": [
    {
     "name": "stderr",
     "output_type": "stream",
     "text": [
      "<ipython-input-76-ffae00156e26>:11: DeprecationWarning: use options instead of chrome_options\n",
      "  driver=webdriver.Chrome(\"c:/scrap/chromedriver.exe\",chrome_options=chrome_options)\n"
     ]
    },
    {
     "name": "stdout",
     "output_type": "stream",
     "text": [
      "1 hey.mr.sexy sdfg#456\n"
     ]
    }
   ],
   "source": [
    "from selenium import webdriver\n",
    "from selenium.webdriver.chrome.options import Options\n",
    "from selenium.webdriver.common.by import By\n",
    "from selenium.webdriver.support.ui import WebDriverWait\n",
    "from selenium.webdriver.support import expected_conditions as EC\n",
    "from bs4 import BeautifulSoup\n",
    "import time\n",
    "\n",
    "chrome_options=webdriver.ChromeOptions()\n",
    "chrome_options.add_argument('lang=ko_KR')\n",
    "driver=webdriver.Chrome(\"c:/scrap/chromedriver.exe\",chrome_options=chrome_options)\n",
    "url=\"https://www.instagram.com/\"\n",
    "driver.get(url)\n",
    "\n",
    "emails=[\"kelly_hipup\",\"hey.mr.sexy\",\"ggplot2021\",\"hello_limy\",\"kzy.kozy\",\"lim_b.rian\",\"kcs_koko\",\"chrisartkim\",\"injungyourart\",\"horang295\",\"yunhohoh0\",\"piz_a\",\"peak_official_kr\",\"artseekersweet\",\"theremyart\",\"bombstomach\",\"dooboopang\",\"artcodemachine\",\"artseeker88\"]\n",
    "password=['sdfg#456', 'sdfg#456', 'sdfg#456', 'asdf@345', 'asdf@345', 'asdf@345', 'asdf@345', 'qwer!234', 'qwer!234', 'dbsgh%464', 'dbsgh0!02', 'dbsgh%464', 'kyh0102', 'dbsgh%464', 'dbsgh%464', 'dbsgh%464', 'enqn1234', 'qwer!234', 'qwer!234']\n",
    "for i in range(1,19):\n",
    "    print(i,emails[i],password[i])\n",
    "    driver.implicitly_wait(6)\n",
    "    input_id=driver.find_element_by_css_selector(\"#loginForm > div > div:nth-child(1) > div > label > input\")\n",
    "    input_id.clear()\n",
    "    input_id.send_keys(emails[i])\n",
    "    input_pw=driver.find_element_by_css_selector(\"#loginForm > div > div:nth-child(2) > div > label > input\")\n",
    "    input_pw.clear()\n",
    "    input_pw.send_keys(password[i])\n",
    "    input_pw.submit()\n",
    "    time.sleep(5)\n",
    "# 검색# ===================================================================================================================\n",
    "    url=\"https://www.instagram.com/\"\n",
    "    word=\"hizzeomi\"\n",
    "    driver.get(url+word)\n",
    "# 게시물 클릭 # ===================================================================================================================\n",
    "#  rows=len(soup.select(\"div.Nnq7C.weEfm\")) 로 1페이지 행 개수 확인가능 꽉차있으면 12개가 최대, 밑으로 내려가야함\n",
    "# div:nth-child(1) > div:nth-child(2) : 1행 2열\n",
    "    driver.implicitly_wait(6)\n",
    "    post=driver.find_element_by_css_selector(\"#react-root > section > main > div > div._2z6nI > article > div:nth-child(1) > div > div:nth-child(1) > div:nth-child(1) > a > div.eLAPa > div._9AhH0\")\n",
    "    post.click()\n",
    "# 팔로우 check, 누르기=============================================================================================================\n",
    "# 본인계정으로 들어가면 코드가 달라서 오류가 발생할 수 있음! if 문으로 제외시켜주기\n",
    "    follow_status = WebDriverWait(driver, 5).until(EC.presence_of_element_located((By.CSS_SELECTOR, \"div.bY2yH\")))    \n",
    "    html=driver.page_source\n",
    "    soup=BeautifulSoup(html,\"html.parser\")\n",
    "    if soup.select(\"#react-root > section > main > div > div.ltEKP > article > header > div.o-MQd > div.PQo_0 > div.bY2yH > button\")[0].text==\"팔로우\":\n",
    "        follow=driver.find_element_by_css_selector(\"#react-root > section > main > div > div.ltEKP > article > header > div.o-MQd > div.PQo_0 > div.bY2yH > button\")\n",
    "        follow.click()\n",
    "        print(\"팔로잉완료\")\n",
    "# 좋아요 check, 누르기=============================================================================================================\n",
    "    \n",
    "    if soup.select(\"#react-root > section > main > div > div.ltEKP > article > div.eo2As > section.ltpMr.Slqrh > span.fr66n > button > div > span > svg\")[0][\"aria-label\"]==\"좋아요\":\n",
    "        likes=driver.find_element_by_css_selector(\"#react-root > section > main > div > div.ltEKP > article > div.eo2As > section.ltpMr.Slqrh > span.fr66n > button > div > span > svg\")\n",
    "        likes.click()\n",
    "        print(\"좋아요완료\")\n",
    "    next=driver.find_element_by_css_selector(\"#react-root > section > main > div > div.ltEKP > article > div._97aPb.wKWK0 > div > div.pR7Pc > div.Igw0E.IwRSH.eGOV_._4EzTm.O1flK.D8xaz.fm1AK.TxciK.yiMZG > div > button > div\")\n",
    "    next.click()\n",
    "# 좋아요 check, 누르기 while 반복문 =================================================================================================\n",
    "    j=0\n",
    "    rep=1 #반복수\n",
    "    while j<rep:\n",
    "        likes_status = WebDriverWait(driver, 5).until(EC.presence_of_element_located((By.CSS_SELECTOR, \"#react-root > section > main > div > div.ltEKP > article > div.eo2As > section.ltpMr.Slqrh > span.fr66n > button > div > span > svg\")))\n",
    "        html=driver.page_source\n",
    "        soup=BeautifulSoup(html,\"html.parser\")    \n",
    "        if soup.select(\"#react-root > section > main > div > div.ltEKP > article > div.eo2As > section.ltpMr.Slqrh > span.fr66n > button > div > span > svg\")[0][\"aria-label\"]==\"좋아요\":\n",
    "            likes=driver.find_element_by_css_selector(\"#react-root > section > main > div > div.ltEKP > article > div.eo2As > section.ltpMr.Slqrh > span.fr66n > button > div > span > svg\")\n",
    "            likes.click()\n",
    "            print(\"좋아요완료\")\n",
    "        j+=1\n",
    "        if j==rep:break\n",
    "        next=driver.find_element_by_css_selector(\"#react-root > section > main > div > div.ltEKP > article > div._97aPb.wKWK0 > div > div.pR7Pc > div.Igw0E.IwRSH.eGOV_._4EzTm.O1flK.D8xaz.fm1AK.TxciK.yiMZG > div > button._6CZji > div\")\n",
    "        next.click()\n",
    "# 게시물 창 끄기, 프로필 클릭, 로그아웃=============================================================================================\n",
    "    driver.implicitly_wait(6)\n",
    "    driver.find_element_by_css_selector(\"body > div._2dDPU.CkGkG > div.Igw0E.IwRSH.eGOV_._4EzTm.BI4qX.qJPeX.fm1AK.TxciK.yiMZG > button > div > svg\").click()\n",
    "    time.sleep(1)\n",
    "    driver.find_element_by_css_selector(\"#react-root > section > nav > div._8MQSO.Cx7Bp > div > div > div.ctQZg > div > div:nth-child(5) > span > img\").click()\n",
    "    time.sleep(2)\n",
    "    driver.find_element_by_css_selector(\"#react-root > section > nav > div._8MQSO.Cx7Bp > div > div > div.ctQZg > div > div:nth-child(5) > div.poA5q > div.uo5MA._2ciX.tWgj8.XWrBI > div._01UL2 > div:nth-child(6)\").click()\n",
    "    time.sleep(4)\n",
    "\n",
    "    \n",
    "\n"
   ]
  },
  {
   "cell_type": "code",
   "execution_count": 17,
   "metadata": {},
   "outputs": [
    {
     "name": "stdout",
     "output_type": "stream",
     "text": [
      "12\n",
      "['sdfg#456', 'sdfg#456', 'sdfg#456', 'asdf@345', 'asdf@345', 'asdf@345', 'asdf@345', 'qwer!234', 'qwer!234', 'qwer!234', 'dbsgh%464', 'dbsgh0!02', 'dbsgh0!02', 'dbsgh%464', 'kyh0102', 'dbsgh%464', 'dbsgh%464', 'dbsgh%464', 'enqn1234', 'qwer!234']\n"
     ]
    }
   ],
   "source": [
    "emails=[\"kelly_hipup\",\"hey.mr.sexy\",\"ggplot2021\",\"hello_limy\",\"kzy.kozy\",\"lim_b.rian\",\"kcs_koko\",\"artseeker88\",\"chrisartkim\",\"injungyourart\",\"horang295\",\"yunhohoh0\",\"01037407978\",\"piz_a\",\"peak_official_kr\",\"artseekersweet\",\"theremyart\",\"bombstomach\",\"dooboopang\",\"artcodemachine\"]\n",
    "password=[\"sdfg#456\",\"sdfg#456\",\"sdfg#456\",\"asdf@345\",\"asdf@345\",\"asdf@345\",\"asdf@345\",\"qwer!234\",\"qwer!234\",\"qwer!234\",\"dbsgh%464\",\"dbsgh0!02\",\"dbsgh%464\",\"dbsgh%464\",\"kyh0102\",\"dbsgh%464\",\"dbsgh%464\",\"dbsgh%464\",\"enqn1234\",\"qwer!234\"]\n",
    "print(emails.index(\"01037407978\"))\n",
    "password[12]=\"dbsgh0!02\"\n",
    "print(password)"
   ]
  },
  {
   "cell_type": "code",
   "execution_count": 11,
   "metadata": {},
   "outputs": [
    {
     "data": {
      "text/plain": [
       "18"
      ]
     },
     "execution_count": 11,
     "metadata": {},
     "output_type": "execute_result"
    }
   ],
   "source": [
    "emails=[\"ggplot2021\",\"hello_limy\",\"kzy.kozy\",\"lim_b.rian\",\"kcs_koko\",\"artseeker88\",\"chrisartkim\",\"injungyourart\",\"horang295\",\"yunhohoh0\",\"01037407978\",\"piz_a\",\"peak_official_kr\",\"artseekersweet\",\"theremyart\",\"bombstomach\",\"dooboopang\",\"artcodemachine\"]\n",
    "len(emails)"
   ]
  },
  {
   "cell_type": "code",
   "execution_count": 7,
   "metadata": {},
   "outputs": [
    {
     "data": {
      "text/plain": [
       "18"
      ]
     },
     "execution_count": 7,
     "metadata": {},
     "output_type": "execute_result"
    }
   ],
   "source": [
    "password=[\"sdfg#456\",\"asdf@345\",\"asdf@345\",\"asdf@345\",\"asdf@345\",\"qwer!234\",\"qwer!234\",\"qwer!234\",\"dbsgh%464\",\"dbsgh0!02\",\"dbsgh%464\",\"dbsgh%464\",\"kyh0102\",\"dbsgh%464\",\"dbsgh%464\",\"dbsgh%464\",\"enqn1234\",\"qwer!234\"]\n",
    "len(password)"
   ]
  },
  {
   "cell_type": "markdown",
   "metadata": {},
   "source": [
    "# 코드 오류 점검용\n",
    "## while loop 빼고 단일적용\n",
    "        first=driver.find_element_by_css_selector(\"#react-root > section > main > div > div._2z6nI > article > div:nth-child(1) > div > div:nth-child(3) > div:nth-child(2) > a > div > div._9AhH0\")\n",
    " div:nth-child(1) > div > div:nth-child(3) > div:nth-child(2): 1번째 스크롤 3행 2열 이라는 뜻\n",
    " 잘 활용하면 게시물 select 가능\n",
    "for i in range(): random하게 특정 범위에서 3개 수 뽑기 >>\n",
    "#react-root > section > main > div > div._2z6nI > article > div:nth-child(1) > div > div:nth-child(8) > div:nth-child(3) > a > div.eLAPa > div._9AhH0"
   ]
  },
  {
   "cell_type": "code",
   "execution_count": 14,
   "metadata": {},
   "outputs": [],
   "source": [
    "from selenium import webdriver\n",
    "import time\n",
    "driver=webdriver.Chrome(\"c:/scrap/chromedriver.exe\")\n",
    "url=\"https://www.instagram.com/\"\n",
    "driver.get(url)\n",
    "time.sleep(3)"
   ]
  },
  {
   "cell_type": "markdown",
   "metadata": {},
   "source": [
    "# 로그인 & 검색"
   ]
  },
  {
   "cell_type": "code",
   "execution_count": 15,
   "metadata": {},
   "outputs": [],
   "source": [
    "emails=[\"horang295\",\"yunhohoh0\",\"01037407978\",\"happyjupyy\",\"acnekimos\",\"piz_a\",\"peak_official_kr\",\"artseekersweet\",\"theremyart\",\"bombstomach\",\"dooboopang\",\"artcodemachine\"]\n",
    "newemails=emails[::-1]\n",
    "password=[\"dbsgh%464\",\"dbsgh0!02\",\"dbsgh%464\",\"dbsgh%464\",\"qwer!234\",\"dbsgh%464\",\"kyh0102\",\"dbsgh%464\",\"dbsgh%464\",\"dbsgh%464\",\"enqn1234\",\"qwer!234\"]\n",
    "newpw=password[::-1]\n",
    "input_id=driver.find_element_by_css_selector(\"#loginForm > div > div:nth-child(1) > div > label > input\")\n",
    "input_id.clear()\n",
    "input_id.send_keys(emails[-1])\n",
    "input_pw=driver.find_element_by_css_selector(\"#loginForm > div > div:nth-child(2) > div > label > input\")\n",
    "input_pw.clear()\n",
    "input_pw.send_keys(password[-1])\n",
    "input_pw.submit()\n",
    "time.sleep(3)\n",
    "def insta_searching(aa):\n",
    "    url=\"https://www.instagram.com/\"+aa\n",
    "    return url\n",
    "url=insta_searching(emails[-1])\n",
    "driver.get(url)\n",
    "time.sleep(2)"
   ]
  },
  {
   "cell_type": "markdown",
   "metadata": {},
   "source": [
    "# 게시물 접속"
   ]
  },
  {
   "cell_type": "code",
   "execution_count": null,
   "metadata": {},
   "outputs": [],
   "source": [
    "html=driver.page_source\n",
    "soup=BeautifulSoup(html,\"html.parser\")\n",
    "rows=len(soup.select(\"div.Nnq7C.weEfm\"))\n",
    "print(rows)\n",
    "first=driver.find_element_by_css_selector(\"#react-root > section > main > div > div._2z6nI > article > div:nth-child(1) > div > div:nth-child(8) > div:nth-child(2) > a > div > div._9AhH0\")\n",
    "first.click()\n",
    "time.sleep(2)\n"
   ]
  },
  {
   "cell_type": "markdown",
   "metadata": {},
   "source": [
    "# 팔로잉"
   ]
  },
  {
   "cell_type": "code",
   "execution_count": 71,
   "metadata": {},
   "outputs": [
    {
     "name": "stdout",
     "output_type": "stream",
     "text": [
      "팔로잉\n"
     ]
    }
   ],
   "source": [
    "html=driver.page_source\n",
    "soup=BeautifulSoup(html,\"html.parser\")\n",
    "folowstatus=soup.select(\"body > div._2dDPU.CkGkG > div.zZYga > div > article > header > div.o-MQd.z8cbW > div.PQo_0.RqtMr > div.bY2yH > button\")[0].text\n",
    "print(folowstatus)\n",
    "if folowstatus == \"팔로우\":\n",
    "    follow=driver.find_element_by_css_selector(\"body > div._2dDPU.CkGkG > div.zZYga > div > article > header > div.o-MQd.z8cbW > div.PQo_0.RqtMr > div.bY2yH > button\")\n",
    "    follow.click()\n"
   ]
  },
  {
   "cell_type": "markdown",
   "metadata": {},
   "source": [
    "# 좋아요"
   ]
  },
  {
   "cell_type": "code",
   "execution_count": 78,
   "metadata": {},
   "outputs": [
    {
     "name": "stdout",
     "output_type": "stream",
     "text": [
      "좋아요\n"
     ]
    }
   ],
   "source": [
    "likestatus=soup.select(\"body > div._2dDPU.CkGkG > div.zZYga > div > article > div.eo2As > section.ltpMr.Slqrh > span.fr66n > button > div > span > svg\")[0][\"aria-label\"]\n",
    "print(likestatus)\n",
    "if likestatus == \"좋아요\":\n",
    "    likes=driver.find_element_by_css_selector(\"body > div._2dDPU.CkGkG > div.zZYga > div > article > div.eo2As > section.ltpMr.Slqrh > span.fr66n > button > div > span > svg\")\n",
    "    likes.click()\n",
    "    time.sleep(2)#sec:매크로 텀\n",
    "#     next=driver.find_element_by_css_selector(\"body > div._2dDPU.CkGkG > div.EfHg9 > div > div > a\")\n",
    "next=driver.find_element_by_css_selector(\"body > div._2dDPU.CkGkG > div.EfHg9 > div > div > a._65Bje.coreSpriteRightPaginationArrow\")\n",
    "next.click()\n",
    "time.sleep(2)\n",
    "html=driver.page_source\n",
    "soup=BeautifulSoup(html,\"html.parser\")"
   ]
  },
  {
   "cell_type": "markdown",
   "metadata": {},
   "source": [
    "# 팔로우 매크로"
   ]
  },
  {
   "cell_type": "code",
   "execution_count": 21,
   "metadata": {},
   "outputs": [
    {
     "name": "stdout",
     "output_type": "stream",
     "text": [
      "0\n",
      "팔로우\n",
      "팔로우\n",
      "팔로우\n",
      "1\n",
      "팔로우\n",
      "팔로우\n",
      "팔로우\n",
      "2\n",
      "팔로우\n",
      "팔로우\n",
      "팔로우\n",
      "3\n",
      "팔로우\n",
      "팔로우\n",
      "팔로우\n",
      "4\n",
      "팔로우\n",
      "팔로우\n",
      "팔로우\n",
      "5\n",
      "팔로우\n",
      "팔로우\n",
      "팔로우\n",
      "6\n",
      "팔로우\n",
      "팔로우\n",
      "팔로우\n",
      "7\n",
      "팔로우\n",
      "팔로우\n",
      "팔로우\n",
      "8\n",
      "팔로우\n",
      "팔로우\n",
      "팔로우\n",
      "9\n",
      "팔로우\n",
      "팔로우\n",
      "팔로우\n",
      "10\n",
      "팔로우\n",
      "팔로우\n",
      "팔로우\n",
      "11\n",
      "팔로우\n",
      "팔로우\n",
      "팔로우\n",
      "12\n"
     ]
    },
    {
     "ename": "IndexError",
     "evalue": "list index out of range",
     "output_type": "error",
     "traceback": [
      "\u001b[1;31m---------------------------------------------------------------------------\u001b[0m",
      "\u001b[1;31mIndexError\u001b[0m                                Traceback (most recent call last)",
      "\u001b[1;32m<ipython-input-21-cddab3fee925>\u001b[0m in \u001b[0;36m<module>\u001b[1;34m\u001b[0m\n\u001b[0;32m     43\u001b[0m \u001b[1;31m# 본인계정으로 들어가면 코드가 달라서 오류가 발생할 수 있음! if 문으로 제외시켜주기\u001b[0m\u001b[1;33m\u001b[0m\u001b[1;33m\u001b[0m\u001b[1;33m\u001b[0m\u001b[0m\n\u001b[0;32m     44\u001b[0m     \u001b[1;32mif\u001b[0m \u001b[0memails\u001b[0m\u001b[1;33m[\u001b[0m\u001b[0mi\u001b[0m\u001b[1;33m]\u001b[0m \u001b[1;33m!=\u001b[0m \u001b[0mword\u001b[0m\u001b[1;33m:\u001b[0m\u001b[1;33m\u001b[0m\u001b[1;33m\u001b[0m\u001b[0m\n\u001b[1;32m---> 45\u001b[1;33m         \u001b[0mfolowstatus\u001b[0m\u001b[1;33m=\u001b[0m\u001b[0msoup\u001b[0m\u001b[1;33m.\u001b[0m\u001b[0mselect\u001b[0m\u001b[1;33m(\u001b[0m\u001b[1;34m\"body > div._2dDPU.CkGkG > div.zZYga > div > article > header > div.o-MQd.z8cbW > div.PQo_0.RqtMr > div.bY2yH > button\"\u001b[0m\u001b[1;33m)\u001b[0m\u001b[1;33m[\u001b[0m\u001b[1;36m0\u001b[0m\u001b[1;33m]\u001b[0m\u001b[1;33m.\u001b[0m\u001b[0mtext\u001b[0m\u001b[1;33m\u001b[0m\u001b[1;33m\u001b[0m\u001b[0m\n\u001b[0m\u001b[0;32m     46\u001b[0m         \u001b[0mprint\u001b[0m\u001b[1;33m(\u001b[0m\u001b[0mfolowstatus\u001b[0m\u001b[1;33m)\u001b[0m\u001b[1;33m\u001b[0m\u001b[1;33m\u001b[0m\u001b[0m\n\u001b[0;32m     47\u001b[0m         \u001b[1;32mif\u001b[0m \u001b[0mfolowstatus\u001b[0m \u001b[1;33m==\u001b[0m \u001b[1;34m\"팔로우\"\u001b[0m\u001b[1;33m:\u001b[0m\u001b[1;33m\u001b[0m\u001b[1;33m\u001b[0m\u001b[0m\n",
      "\u001b[1;31mIndexError\u001b[0m: list index out of range"
     ]
    }
   ],
   "source": [
    "\n",
    "from selenium import webdriver\n",
    "from bs4 import BeautifulSoup\n",
    "import time\n",
    "driver=webdriver.Chrome(\"c:/scrap/chromedriver.exe\")\n",
    "url=\"https://www.instagram.com/\"\n",
    "driver.get(url)\n",
    "time.sleep(2)\n",
    "\n",
    "emails=[\"kelly_hipup\",\"hey.mr.sexy\",\"ggplot2021\",\"hello_limy\",\"kzy.kozy\",\"lim_b.rian\",\"kcs_koko\",\"artseeker88\",\"chrisartkim\",\"injungyourart\",\"horang295\",\"yunhohoh0\",\"01037407978\",\"piz_a\",\"peak_official_kr\",\"artseekersweet\",\"theremyart\",\"bombstomach\",\"dooboopang\",\"artcodemachine\"]\n",
    "password=[\"sdfg#456\",\"sdfg#456\",\"sdfg#456\",\"asdf@345\",\"asdf@345\",\"asdf@345\",\"asdf@345\",\"qwer!234\",\"qwer!234\",\"qwer!234\",\"dbsgh%464\",\"dbsgh0!02\",\"dbsgh%464\",\"dbsgh%464\",\"kyh0102\",\"dbsgh%464\",\"dbsgh%464\",\"dbsgh%464\",\"enqn1234\",\"qwer!234\"]\n",
    "for i in range(0,20):\n",
    "    print(i)\n",
    "    input_id=driver.find_element_by_css_selector(\"#loginForm > div > div:nth-child(1) > div > label > input\")\n",
    "    input_id.clear()\n",
    "    input_id.send_keys(emails[i])\n",
    "    input_pw=driver.find_element_by_css_selector(\"#loginForm > div > div:nth-child(2) > div > label > input\")\n",
    "    input_pw.clear()\n",
    "    input_pw.send_keys(password[i])\n",
    "    input_pw.submit()\n",
    "    time.sleep(5)\n",
    "# 검색# ===================================================================================================================\n",
    "    def insta_searching(aa):\n",
    "        url=\"https://www.instagram.com/tags/\"+aa\n",
    "        return url\n",
    "    word=\"leehyebni\"\n",
    "    url=insta_searching(\"doodle\") #검색어 대입\n",
    "    driver.get(url)\n",
    "    time.sleep(4)\n",
    "    \n",
    "# 게시물 클릭 # ===================================================================================================================\n",
    "#  rows=len(soup.select(\"div.Nnq7C.weEfm\")) 로 1페이지 행 개수 확인가능 꽉차있으면 12개가 최대, 밑으로 내려가야함\n",
    "# div:nth-child(1) > div:nth-child(2) : 1행 2열\n",
    "    def select_first(driver):\n",
    "        first=driver.find_element_by_css_selector(\"#react-root > section > main > article > div.EZdmt > div > div > div:nth-child(2) > div:nth-child(2) > a > div > div._9AhH0\")\n",
    "        first.click()\n",
    "    #   첫 게시물 클릭할 때는 driver.find_element_by_css_selector(\"div._9AhH0\")\n",
    "    #         first.click()\n",
    "        time.sleep(3)\n",
    "    select_first(driver)\n",
    "    html=driver.page_source\n",
    "    soup=BeautifulSoup(html,\"html.parser\")\n",
    "# 팔로우 check, 누르기=============================================================================================================\n",
    "# 본인계정으로 들어가면 코드가 달라서 오류가 발생할 수 있음! if 문으로 제외시켜주기\n",
    "    if emails[i] != word:\n",
    "        folowstatus=soup.select(\"body > div._2dDPU.CkGkG > div.zZYga > div > article > header > div.o-MQd.z8cbW > div.PQo_0.RqtMr > div.bY2yH > button\")[0].text\n",
    "        print(folowstatus)\n",
    "        if folowstatus == \"팔로우\":\n",
    "            follow=driver.find_element_by_css_selector(\"body > div._2dDPU.CkGkG > div.zZYga > div > article > header > div.o-MQd.z8cbW > div.PQo_0.RqtMr > div.bY2yH > button\")\n",
    "            follow.click()\n",
    "            next=driver.find_element_by_css_selector(\"body > div._2dDPU.CkGkG > div.EfHg9 > div > div > a._65Bje.coreSpriteRightPaginationArrow\")\n",
    "            next.click()\n",
    "            time.sleep(2)\n",
    "# 좋아요 check, 누르기 while 반복문 =================================================================================================\n",
    "        s=0\n",
    "        while s < 2:#반복 수 지정\n",
    "            html=driver.page_source\n",
    "            soup=BeautifulSoup(html,\"html.parser\")\n",
    "            folowstatus=soup.select(\"body > div._2dDPU.CkGkG > div.zZYga > div > article > header > div.o-MQd.z8cbW > div.PQo_0.RqtMr > div.bY2yH > button\")[0].text\n",
    "            print(folowstatus)\n",
    "            if folowstatus == \"팔로우\":\n",
    "                follow=driver.find_element_by_css_selector(\"body > div._2dDPU.CkGkG > div.zZYga > div > article > header > div.o-MQd.z8cbW > div.PQo_0.RqtMr > div.bY2yH > button\")\n",
    "                follow.click()\n",
    "            next=driver.find_element_by_css_selector(\"body > div._2dDPU.CkGkG > div.EfHg9 > div > div > a._65Bje.coreSpriteRightPaginationArrow\")\n",
    "            next.click()\n",
    "            time.sleep(3)\n",
    "            s+=1\n",
    "# 게시물 창 끄기, 프로필 클릭, 로그아웃=============================================================================================\n",
    "    driver.find_element_by_css_selector(\"body > div._2dDPU.CkGkG > div.Igw0E.IwRSH.eGOV_._4EzTm.BI4qX.qJPeX.fm1AK.TxciK.yiMZG > button > div > svg\").click()\n",
    "    time.sleep(1)\n",
    "    driver.find_element_by_css_selector(\"#react-root > section > nav > div._8MQSO.Cx7Bp > div > div > div.ctQZg > div > div:nth-child(5) > span > img\").click()\n",
    "    time.sleep(2)\n",
    "    driver.find_element_by_css_selector(\"#react-root > section > nav > div._8MQSO.Cx7Bp > div > div > div.ctQZg > div > div:nth-child(5) > div.poA5q > div.uo5MA._2ciX.tWgj8.XWrBI > div._01UL2 > div:nth-child(6)\").click()\n",
    "    time.sleep(4)\n"
   ]
  },
  {
   "cell_type": "code",
   "execution_count": null,
   "metadata": {},
   "outputs": [],
   "source": [
    "#react-root > section > main > article > div.EZdmt > div > div > div:nth-child(2) > div:nth-child(2) > a > div > div._9AhH0"
   ]
  }
 ],
 "metadata": {
  "kernelspec": {
   "display_name": "Python 3",
   "language": "python",
   "name": "python3"
  },
  "language_info": {
   "codemirror_mode": {
    "name": "ipython",
    "version": 3
   },
   "file_extension": ".py",
   "mimetype": "text/x-python",
   "name": "python",
   "nbconvert_exporter": "python",
   "pygments_lexer": "ipython3",
   "version": "3.8.5"
  }
 },
 "nbformat": 4,
 "nbformat_minor": 4
}
