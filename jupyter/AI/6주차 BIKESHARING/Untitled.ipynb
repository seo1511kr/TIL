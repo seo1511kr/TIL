{
 "cells": [
  {
   "cell_type": "markdown",
   "metadata": {},
   "source": [
    "## 선형회귀\n",
    "\n",
    "1. linear_models\n",
    "cost function(MSE=> 잔차제곱평균)을 최소화 시키는 기울기를 찾는 것\n",
    "\n",
    "\n",
    "\n",
    "    * 1.1 ols\n",
    "        * 벡터 미분으로 한번에 구함\n",
    "        * 근데 sample의 개수보다 feature의 개수가 더 클때는 연산 불가능\n",
    "        \n",
    "    * 1.2 SGDregressor=> 확률적 경사하강법\n",
    "        * cost function은 항상 아래로 볼록한 모형이기 때문에\n",
    "        * 학습률을 설정해서 계속 반복하면 최저점에 도달할 수 있음\n",
    "    \n",
    "### feature가 추가될 수록 과적합 문제 발생\n",
    "### cost function에 제약을 가해서 해결\n",
    "    hyper parameter는 alpha 하나 => cost function에 제약을 가하는 정도\n",
    "    alpha가 클 수록 제약이 강해짐, 즉 feature들의 영향력이 약해짐\n",
    "    alpha가 0이면 그냥 linear regressor랑 똑같음\n",
    "    \n",
    "    * 1.3 ridge regressor => L2 제약:\n",
    "    * 1.4 lasso regressor => L1 제약: \n",
    "    * 1.5 ElasticNet=> ridge + lasso\n",
    "   \n",
    "* cross_validation & grid search:\n",
    "    \n",
    "    "
   ]
  },
  {
   "cell_type": "code",
   "execution_count": null,
   "metadata": {},
   "outputs": [],
   "source": []
  }
 ],
 "metadata": {
  "kernelspec": {
   "display_name": "Python 3",
   "language": "python",
   "name": "python3"
  },
  "language_info": {
   "codemirror_mode": {
    "name": "ipython",
    "version": 3
   },
   "file_extension": ".py",
   "mimetype": "text/x-python",
   "name": "python",
   "nbconvert_exporter": "python",
   "pygments_lexer": "ipython3",
   "version": "3.8.5"
  }
 },
 "nbformat": 4,
 "nbformat_minor": 4
}
