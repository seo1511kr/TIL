{
 "cells": [
  {
   "cell_type": "code",
   "execution_count": 77,
   "metadata": {},
   "outputs": [],
   "source": [
    "import pandas as pd\n",
    "import numpy as np\n",
    "\n",
    "import matplotlib as mpl\n",
    "import matplotlib.pyplot as plt\n",
    "import seaborn as sns\n",
    "\n",
    "# 노트북 안에 그래프를 그리기 위해\n",
    "%matplotlib inline\n",
    "\n",
    "# 그래프에서 격자로 숫자 범위가 눈에 잘 띄도록 ggplot 스타일을 사용\n",
    "plt.style.use('ggplot')\n",
    "\n",
    "# 그래프에서 마이너스 폰트 깨지는 문제에 대한 대처\n",
    "mpl.rcParams['axes.unicode_minus'] = False\n",
    "\n",
    "import warnings\n",
    "warnings.filterwarnings('ignore')"
   ]
  },
  {
   "cell_type": "code",
   "execution_count": 78,
   "metadata": {},
   "outputs": [
    {
     "data": {
      "text/plain": [
       "(10886, 12)"
      ]
     },
     "execution_count": 78,
     "metadata": {},
     "output_type": "execute_result"
    }
   ],
   "source": [
    "train = pd.read_csv(\"train.csv\", parse_dates=[\"datetime\"])\n",
    "train.shape"
   ]
  },
  {
   "cell_type": "code",
   "execution_count": 79,
   "metadata": {},
   "outputs": [
    {
     "data": {
      "text/plain": [
       "(6493, 9)"
      ]
     },
     "execution_count": 79,
     "metadata": {},
     "output_type": "execute_result"
    }
   ],
   "source": [
    "test = pd.read_csv(\"test.csv\", parse_dates=[\"datetime\"])\n",
    "test.shape"
   ]
  },
  {
   "cell_type": "code",
   "execution_count": 80,
   "metadata": {},
   "outputs": [
    {
     "data": {
      "text/plain": [
       "(10886, 16)"
      ]
     },
     "execution_count": 80,
     "metadata": {},
     "output_type": "execute_result"
    }
   ],
   "source": [
    "train[\"year\"] = train[\"datetime\"].dt.year\n",
    "train[\"month\"] = train[\"datetime\"].dt.month\n",
    "train[\"hour\"] = train[\"datetime\"].dt.hour\n",
    "train[\"dayofweek\"] = train[\"datetime\"].dt.dayofweek\n",
    "train.shape"
   ]
  },
  {
   "cell_type": "code",
   "execution_count": 81,
   "metadata": {},
   "outputs": [
    {
     "data": {
      "text/plain": [
       "(6493, 13)"
      ]
     },
     "execution_count": 81,
     "metadata": {},
     "output_type": "execute_result"
    }
   ],
   "source": [
    "test[\"year\"] = test[\"datetime\"].dt.year\n",
    "test[\"month\"] = test[\"datetime\"].dt.month\n",
    "test[\"hour\"] = test[\"datetime\"].dt.hour\n",
    "test[\"dayofweek\"] = test[\"datetime\"].dt.dayofweek\n",
    "test.shape"
   ]
  },
  {
   "cell_type": "code",
   "execution_count": 82,
   "metadata": {},
   "outputs": [],
   "source": [
    "# 연속형 feature와 범주형 feature\n",
    "# 범주형 feature의 type을 category로 변경 해 준다.\n",
    "# onehotencoding 과 점수 차이 없음.\n",
    "categorical_feature_names = [\"season\",\"holiday\",\"workingday\",\"weather\",\n",
    "                             \"dayofweek\",\"month\",\"year\",\"hour\"]"
   ]
  },
  {
   "cell_type": "code",
   "execution_count": 83,
   "metadata": {},
   "outputs": [
    {
     "data": {
      "text/plain": [
       "['season',\n",
       " 'weather',\n",
       " 'atemp',\n",
       " 'humidity',\n",
       " 'year',\n",
       " 'hour',\n",
       " 'dayofweek',\n",
       " 'holiday',\n",
       " 'workingday']"
      ]
     },
     "execution_count": 83,
     "metadata": {},
     "output_type": "execute_result"
    }
   ],
   "source": [
    "feature_names = [\"season\", \"weather\",\"atemp\", \"humidity\",\n",
    "                 \"year\", \"hour\", \"dayofweek\", \"holiday\", \"workingday\"\n",
    "                ]\n",
    "\n",
    "feature_names"
   ]
  },
  {
   "cell_type": "code",
   "execution_count": 84,
   "metadata": {},
   "outputs": [
    {
     "name": "stdout",
     "output_type": "stream",
     "text": [
      "(10886, 9)\n"
     ]
    },
    {
     "data": {
      "text/html": [
       "<div>\n",
       "<style scoped>\n",
       "    .dataframe tbody tr th:only-of-type {\n",
       "        vertical-align: middle;\n",
       "    }\n",
       "\n",
       "    .dataframe tbody tr th {\n",
       "        vertical-align: top;\n",
       "    }\n",
       "\n",
       "    .dataframe thead th {\n",
       "        text-align: right;\n",
       "    }\n",
       "</style>\n",
       "<table border=\"1\" class=\"dataframe\">\n",
       "  <thead>\n",
       "    <tr style=\"text-align: right;\">\n",
       "      <th></th>\n",
       "      <th>season</th>\n",
       "      <th>weather</th>\n",
       "      <th>atemp</th>\n",
       "      <th>humidity</th>\n",
       "      <th>year</th>\n",
       "      <th>hour</th>\n",
       "      <th>dayofweek</th>\n",
       "      <th>holiday</th>\n",
       "      <th>workingday</th>\n",
       "    </tr>\n",
       "  </thead>\n",
       "  <tbody>\n",
       "    <tr>\n",
       "      <th>0</th>\n",
       "      <td>1</td>\n",
       "      <td>1</td>\n",
       "      <td>14.395</td>\n",
       "      <td>81</td>\n",
       "      <td>2011</td>\n",
       "      <td>0</td>\n",
       "      <td>5</td>\n",
       "      <td>0</td>\n",
       "      <td>0</td>\n",
       "    </tr>\n",
       "    <tr>\n",
       "      <th>1</th>\n",
       "      <td>1</td>\n",
       "      <td>1</td>\n",
       "      <td>13.635</td>\n",
       "      <td>80</td>\n",
       "      <td>2011</td>\n",
       "      <td>1</td>\n",
       "      <td>5</td>\n",
       "      <td>0</td>\n",
       "      <td>0</td>\n",
       "    </tr>\n",
       "    <tr>\n",
       "      <th>2</th>\n",
       "      <td>1</td>\n",
       "      <td>1</td>\n",
       "      <td>13.635</td>\n",
       "      <td>80</td>\n",
       "      <td>2011</td>\n",
       "      <td>2</td>\n",
       "      <td>5</td>\n",
       "      <td>0</td>\n",
       "      <td>0</td>\n",
       "    </tr>\n",
       "    <tr>\n",
       "      <th>3</th>\n",
       "      <td>1</td>\n",
       "      <td>1</td>\n",
       "      <td>14.395</td>\n",
       "      <td>75</td>\n",
       "      <td>2011</td>\n",
       "      <td>3</td>\n",
       "      <td>5</td>\n",
       "      <td>0</td>\n",
       "      <td>0</td>\n",
       "    </tr>\n",
       "    <tr>\n",
       "      <th>4</th>\n",
       "      <td>1</td>\n",
       "      <td>1</td>\n",
       "      <td>14.395</td>\n",
       "      <td>75</td>\n",
       "      <td>2011</td>\n",
       "      <td>4</td>\n",
       "      <td>5</td>\n",
       "      <td>0</td>\n",
       "      <td>0</td>\n",
       "    </tr>\n",
       "  </tbody>\n",
       "</table>\n",
       "</div>"
      ],
      "text/plain": [
       "   season  weather   atemp  humidity  year  hour  dayofweek  holiday  \\\n",
       "0       1        1  14.395        81  2011     0          5        0   \n",
       "1       1        1  13.635        80  2011     1          5        0   \n",
       "2       1        1  13.635        80  2011     2          5        0   \n",
       "3       1        1  14.395        75  2011     3          5        0   \n",
       "4       1        1  14.395        75  2011     4          5        0   \n",
       "\n",
       "   workingday  \n",
       "0           0  \n",
       "1           0  \n",
       "2           0  \n",
       "3           0  \n",
       "4           0  "
      ]
     },
     "execution_count": 84,
     "metadata": {},
     "output_type": "execute_result"
    }
   ],
   "source": [
    "X_train = train[feature_names]\n",
    "\n",
    "print(X_train.shape)\n",
    "X_train.head()"
   ]
  },
  {
   "cell_type": "code",
   "execution_count": 85,
   "metadata": {},
   "outputs": [
    {
     "name": "stdout",
     "output_type": "stream",
     "text": [
      "(6493, 9)\n"
     ]
    },
    {
     "data": {
      "text/html": [
       "<div>\n",
       "<style scoped>\n",
       "    .dataframe tbody tr th:only-of-type {\n",
       "        vertical-align: middle;\n",
       "    }\n",
       "\n",
       "    .dataframe tbody tr th {\n",
       "        vertical-align: top;\n",
       "    }\n",
       "\n",
       "    .dataframe thead th {\n",
       "        text-align: right;\n",
       "    }\n",
       "</style>\n",
       "<table border=\"1\" class=\"dataframe\">\n",
       "  <thead>\n",
       "    <tr style=\"text-align: right;\">\n",
       "      <th></th>\n",
       "      <th>season</th>\n",
       "      <th>weather</th>\n",
       "      <th>atemp</th>\n",
       "      <th>humidity</th>\n",
       "      <th>year</th>\n",
       "      <th>hour</th>\n",
       "      <th>dayofweek</th>\n",
       "      <th>holiday</th>\n",
       "      <th>workingday</th>\n",
       "    </tr>\n",
       "  </thead>\n",
       "  <tbody>\n",
       "    <tr>\n",
       "      <th>0</th>\n",
       "      <td>1</td>\n",
       "      <td>1</td>\n",
       "      <td>11.365</td>\n",
       "      <td>56</td>\n",
       "      <td>2011</td>\n",
       "      <td>0</td>\n",
       "      <td>3</td>\n",
       "      <td>0</td>\n",
       "      <td>1</td>\n",
       "    </tr>\n",
       "    <tr>\n",
       "      <th>1</th>\n",
       "      <td>1</td>\n",
       "      <td>1</td>\n",
       "      <td>13.635</td>\n",
       "      <td>56</td>\n",
       "      <td>2011</td>\n",
       "      <td>1</td>\n",
       "      <td>3</td>\n",
       "      <td>0</td>\n",
       "      <td>1</td>\n",
       "    </tr>\n",
       "    <tr>\n",
       "      <th>2</th>\n",
       "      <td>1</td>\n",
       "      <td>1</td>\n",
       "      <td>13.635</td>\n",
       "      <td>56</td>\n",
       "      <td>2011</td>\n",
       "      <td>2</td>\n",
       "      <td>3</td>\n",
       "      <td>0</td>\n",
       "      <td>1</td>\n",
       "    </tr>\n",
       "    <tr>\n",
       "      <th>3</th>\n",
       "      <td>1</td>\n",
       "      <td>1</td>\n",
       "      <td>12.880</td>\n",
       "      <td>56</td>\n",
       "      <td>2011</td>\n",
       "      <td>3</td>\n",
       "      <td>3</td>\n",
       "      <td>0</td>\n",
       "      <td>1</td>\n",
       "    </tr>\n",
       "    <tr>\n",
       "      <th>4</th>\n",
       "      <td>1</td>\n",
       "      <td>1</td>\n",
       "      <td>12.880</td>\n",
       "      <td>56</td>\n",
       "      <td>2011</td>\n",
       "      <td>4</td>\n",
       "      <td>3</td>\n",
       "      <td>0</td>\n",
       "      <td>1</td>\n",
       "    </tr>\n",
       "  </tbody>\n",
       "</table>\n",
       "</div>"
      ],
      "text/plain": [
       "   season  weather   atemp  humidity  year  hour  dayofweek  holiday  \\\n",
       "0       1        1  11.365        56  2011     0          3        0   \n",
       "1       1        1  13.635        56  2011     1          3        0   \n",
       "2       1        1  13.635        56  2011     2          3        0   \n",
       "3       1        1  12.880        56  2011     3          3        0   \n",
       "4       1        1  12.880        56  2011     4          3        0   \n",
       "\n",
       "   workingday  \n",
       "0           1  \n",
       "1           1  \n",
       "2           1  \n",
       "3           1  \n",
       "4           1  "
      ]
     },
     "execution_count": 85,
     "metadata": {},
     "output_type": "execute_result"
    }
   ],
   "source": [
    "X_test = test[feature_names]\n",
    "\n",
    "print(X_test.shape)\n",
    "X_test.head()"
   ]
  },
  {
   "cell_type": "code",
   "execution_count": 86,
   "metadata": {},
   "outputs": [
    {
     "name": "stdout",
     "output_type": "stream",
     "text": [
      "(10886,)\n"
     ]
    },
    {
     "data": {
      "text/plain": [
       "0    16\n",
       "1    40\n",
       "2    32\n",
       "3    13\n",
       "4     1\n",
       "Name: count, dtype: int64"
      ]
     },
     "execution_count": 86,
     "metadata": {},
     "output_type": "execute_result"
    }
   ],
   "source": [
    "label_name = \"count\"\n",
    "\n",
    "y_train = train[label_name]\n",
    "\n",
    "print(y_train.shape)\n",
    "y_train.head()"
   ]
  },
  {
   "cell_type": "code",
   "execution_count": 87,
   "metadata": {},
   "outputs": [],
   "source": [
    "from sklearn.metrics import make_scorer\n",
    "\n",
    "def rmsle(predicted_values, actual_values, convertExp=True):\n",
    "\n",
    "    if convertExp:\n",
    "        predicted_values = np.exp(predicted_values),\n",
    "        actual_values = np.exp(actual_values)\n",
    "        \n",
    "    # 넘파이로 배열 형태로 바꿔준다.\n",
    "    predicted_values = np.array(predicted_values)\n",
    "    actual_values = np.array(actual_values)\n",
    "    \n",
    "    # 예측값과 실제 값에 1을 더하고 로그를 씌워준다.\n",
    "    # 값이 0일 수도 있어서 로그를 취했을 때 마이너스 무한대가 될 수도 있기 때문에 1을 더해 줌\n",
    "    # 로그를 씌워주는 것은 정규분포로 만들어주기 위해\n",
    "    log_predict = np.log(predicted_values + 1)\n",
    "    log_actual = np.log(actual_values + 1)\n",
    "    \n",
    "    # 위에서 계산한 예측값에서 실제값을 빼주고 제곱을 해준다.\n",
    "    difference = log_predict - log_actual\n",
    "    difference = np.square(difference)\n",
    "    \n",
    "    # 평균을 낸다.\n",
    "    mean_difference = difference.mean()\n",
    "    \n",
    "    # 다시 루트를 씌운다.\n",
    "    score = np.sqrt(mean_difference)\n",
    "    \n",
    "    return score"
   ]
  },
  {
   "cell_type": "markdown",
   "metadata": {},
   "source": [
    "### 1. 선형회귀"
   ]
  },
  {
   "cell_type": "code",
   "execution_count": 88,
   "metadata": {},
   "outputs": [
    {
     "name": "stdout",
     "output_type": "stream",
     "text": [
      "RMSLE Value For Linear Regression:  0.9804701634207558\n"
     ]
    }
   ],
   "source": [
    "from sklearn.linear_model import LinearRegression, Ridge, Lasso\n",
    "from sklearn.model_selection import GridSearchCV\n",
    "from sklearn import metrics\n",
    "import warnings\n",
    "pd.options.mode.chained_assignment = None\n",
    "warnings.filterwarnings(\"ignore\", category=DeprecationWarning)\n",
    "\n",
    "# 선형회귀 모델을 초기화\n",
    "lModel = LinearRegression()\n",
    "\n",
    "# 모델을 학습시킨다.\n",
    "y_train_log = np.log1p(y_train)\n",
    "lModel.fit(X_train, y_train_log)\n",
    "\n",
    "# 예측하고 정확도를 평가한다.\n",
    "preds = lModel.predict(X_train)\n",
    "print (\"RMSLE Value For Linear Regression: \",\n",
    "       rmsle(np.exp(y_train_log),np.exp(preds), False))"
   ]
  },
  {
   "cell_type": "markdown",
   "metadata": {},
   "source": [
    "### 2. 릿지회귀(overfit 제어, l2규제로 가중치를 0에 가깝게)"
   ]
  },
  {
   "cell_type": "code",
   "execution_count": 89,
   "metadata": {
    "scrolled": true
   },
   "outputs": [
    {
     "name": "stdout",
     "output_type": "stream",
     "text": [
      "{'alpha': 0.01, 'max_iter': 3000}\n",
      "RMSLE Value For Ridge Regression:  0.9804701613377754\n"
     ]
    },
    {
     "data": {
      "text/html": [
       "<div>\n",
       "<style scoped>\n",
       "    .dataframe tbody tr th:only-of-type {\n",
       "        vertical-align: middle;\n",
       "    }\n",
       "\n",
       "    .dataframe tbody tr th {\n",
       "        vertical-align: top;\n",
       "    }\n",
       "\n",
       "    .dataframe thead th {\n",
       "        text-align: right;\n",
       "    }\n",
       "</style>\n",
       "<table border=\"1\" class=\"dataframe\">\n",
       "  <thead>\n",
       "    <tr style=\"text-align: right;\">\n",
       "      <th></th>\n",
       "      <th>mean_fit_time</th>\n",
       "      <th>std_fit_time</th>\n",
       "      <th>mean_score_time</th>\n",
       "      <th>std_score_time</th>\n",
       "      <th>param_alpha</th>\n",
       "      <th>param_max_iter</th>\n",
       "      <th>params</th>\n",
       "      <th>split0_test_score</th>\n",
       "      <th>split1_test_score</th>\n",
       "      <th>split2_test_score</th>\n",
       "      <th>split3_test_score</th>\n",
       "      <th>split4_test_score</th>\n",
       "      <th>mean_test_score</th>\n",
       "      <th>std_test_score</th>\n",
       "      <th>rank_test_score</th>\n",
       "    </tr>\n",
       "  </thead>\n",
       "  <tbody>\n",
       "    <tr>\n",
       "      <th>0</th>\n",
       "      <td>0.003195</td>\n",
       "      <td>7.450665e-04</td>\n",
       "      <td>0.001598</td>\n",
       "      <td>4.881551e-04</td>\n",
       "      <td>0.01</td>\n",
       "      <td>3000</td>\n",
       "      <td>{'alpha': 0.01, 'max_iter': 3000}</td>\n",
       "      <td>-1.003555</td>\n",
       "      <td>-0.906011</td>\n",
       "      <td>-1.029700</td>\n",
       "      <td>-1.015862</td>\n",
       "      <td>-0.980816</td>\n",
       "      <td>-0.987189</td>\n",
       "      <td>0.043652</td>\n",
       "      <td>1</td>\n",
       "    </tr>\n",
       "    <tr>\n",
       "      <th>1</th>\n",
       "      <td>0.002583</td>\n",
       "      <td>4.905599e-04</td>\n",
       "      <td>0.001401</td>\n",
       "      <td>4.949129e-04</td>\n",
       "      <td>0.1</td>\n",
       "      <td>3000</td>\n",
       "      <td>{'alpha': 0.1, 'max_iter': 3000}</td>\n",
       "      <td>-1.003558</td>\n",
       "      <td>-0.906011</td>\n",
       "      <td>-1.029700</td>\n",
       "      <td>-1.015861</td>\n",
       "      <td>-0.980818</td>\n",
       "      <td>-0.987190</td>\n",
       "      <td>0.043653</td>\n",
       "      <td>2</td>\n",
       "    </tr>\n",
       "    <tr>\n",
       "      <th>2</th>\n",
       "      <td>0.002395</td>\n",
       "      <td>4.900210e-04</td>\n",
       "      <td>0.000996</td>\n",
       "      <td>2.151587e-06</td>\n",
       "      <td>1</td>\n",
       "      <td>3000</td>\n",
       "      <td>{'alpha': 1, 'max_iter': 3000}</td>\n",
       "      <td>-1.003585</td>\n",
       "      <td>-0.906008</td>\n",
       "      <td>-1.029699</td>\n",
       "      <td>-1.015852</td>\n",
       "      <td>-0.980834</td>\n",
       "      <td>-0.987196</td>\n",
       "      <td>0.043654</td>\n",
       "      <td>3</td>\n",
       "    </tr>\n",
       "    <tr>\n",
       "      <th>3</th>\n",
       "      <td>0.001995</td>\n",
       "      <td>3.568323e-07</td>\n",
       "      <td>0.000998</td>\n",
       "      <td>2.431402e-07</td>\n",
       "      <td>2</td>\n",
       "      <td>3000</td>\n",
       "      <td>{'alpha': 2, 'max_iter': 3000}</td>\n",
       "      <td>-1.003615</td>\n",
       "      <td>-0.906006</td>\n",
       "      <td>-1.029699</td>\n",
       "      <td>-1.015842</td>\n",
       "      <td>-0.980853</td>\n",
       "      <td>-0.987203</td>\n",
       "      <td>0.043655</td>\n",
       "      <td>4</td>\n",
       "    </tr>\n",
       "    <tr>\n",
       "      <th>4</th>\n",
       "      <td>0.001995</td>\n",
       "      <td>6.675720e-07</td>\n",
       "      <td>0.000997</td>\n",
       "      <td>7.776979e-07</td>\n",
       "      <td>3</td>\n",
       "      <td>3000</td>\n",
       "      <td>{'alpha': 3, 'max_iter': 3000}</td>\n",
       "      <td>-1.003645</td>\n",
       "      <td>-0.906004</td>\n",
       "      <td>-1.029698</td>\n",
       "      <td>-1.015832</td>\n",
       "      <td>-0.980871</td>\n",
       "      <td>-0.987210</td>\n",
       "      <td>0.043656</td>\n",
       "      <td>5</td>\n",
       "    </tr>\n",
       "  </tbody>\n",
       "</table>\n",
       "</div>"
      ],
      "text/plain": [
       "   mean_fit_time  std_fit_time  mean_score_time  std_score_time param_alpha  \\\n",
       "0       0.003195  7.450665e-04         0.001598    4.881551e-04        0.01   \n",
       "1       0.002583  4.905599e-04         0.001401    4.949129e-04         0.1   \n",
       "2       0.002395  4.900210e-04         0.000996    2.151587e-06           1   \n",
       "3       0.001995  3.568323e-07         0.000998    2.431402e-07           2   \n",
       "4       0.001995  6.675720e-07         0.000997    7.776979e-07           3   \n",
       "\n",
       "  param_max_iter                             params  split0_test_score  \\\n",
       "0           3000  {'alpha': 0.01, 'max_iter': 3000}          -1.003555   \n",
       "1           3000   {'alpha': 0.1, 'max_iter': 3000}          -1.003558   \n",
       "2           3000     {'alpha': 1, 'max_iter': 3000}          -1.003585   \n",
       "3           3000     {'alpha': 2, 'max_iter': 3000}          -1.003615   \n",
       "4           3000     {'alpha': 3, 'max_iter': 3000}          -1.003645   \n",
       "\n",
       "   split1_test_score  split2_test_score  split3_test_score  split4_test_score  \\\n",
       "0          -0.906011          -1.029700          -1.015862          -0.980816   \n",
       "1          -0.906011          -1.029700          -1.015861          -0.980818   \n",
       "2          -0.906008          -1.029699          -1.015852          -0.980834   \n",
       "3          -0.906006          -1.029699          -1.015842          -0.980853   \n",
       "4          -0.906004          -1.029698          -1.015832          -0.980871   \n",
       "\n",
       "   mean_test_score  std_test_score  rank_test_score  \n",
       "0        -0.987189        0.043652                1  \n",
       "1        -0.987190        0.043653                2  \n",
       "2        -0.987196        0.043654                3  \n",
       "3        -0.987203        0.043655                4  \n",
       "4        -0.987210        0.043656                5  "
      ]
     },
     "execution_count": 89,
     "metadata": {},
     "output_type": "execute_result"
    }
   ],
   "source": [
    "ridge_m_ = Ridge()\n",
    "ridge_params_ = { 'max_iter':[3000],'alpha':[0.01, 0.1, 1, 2, 3, 4, 10, 30,100,200,300,400,800,900,1000]}\n",
    "rmsle_scorer = metrics.make_scorer(rmsle, greater_is_better=False)\n",
    "grid_ridge_m = GridSearchCV( ridge_m_,\n",
    "                          ridge_params_,\n",
    "                          scoring = rmsle_scorer,\n",
    "                          cv=5)\n",
    "\n",
    "y_train_log = np.log1p(y_train)\n",
    "grid_ridge_m.fit( X_train, y_train_log )\n",
    "preds = grid_ridge_m.predict(X_train)\n",
    "print (grid_ridge_m.best_params_)\n",
    "print (\"RMSLE Value For Ridge Regression: \", rmsle(np.exp(y_train_log),np.exp(preds), False))\n",
    "\n",
    "df = pd.DataFrame(grid_ridge_m.cv_results_)\n",
    "df.head()"
   ]
  },
  {
   "cell_type": "markdown",
   "metadata": {},
   "source": [
    "### 3. 라쏘회귀(overfit 제어, l1규제로 가중치를 0으로 만들며 feature selection 가능)"
   ]
  },
  {
   "cell_type": "code",
   "execution_count": 90,
   "metadata": {},
   "outputs": [
    {
     "name": "stdout",
     "output_type": "stream",
     "text": [
      "{'alpha': 0.001, 'max_iter': 3000}\n",
      "RMSLE Value For Lasso Regression:  0.9804806206129761\n"
     ]
    },
    {
     "data": {
      "text/html": [
       "<div>\n",
       "<style scoped>\n",
       "    .dataframe tbody tr th:only-of-type {\n",
       "        vertical-align: middle;\n",
       "    }\n",
       "\n",
       "    .dataframe tbody tr th {\n",
       "        vertical-align: top;\n",
       "    }\n",
       "\n",
       "    .dataframe thead th {\n",
       "        text-align: right;\n",
       "    }\n",
       "</style>\n",
       "<table border=\"1\" class=\"dataframe\">\n",
       "  <thead>\n",
       "    <tr style=\"text-align: right;\">\n",
       "      <th></th>\n",
       "      <th>alpha</th>\n",
       "      <th>rmsle</th>\n",
       "    </tr>\n",
       "  </thead>\n",
       "  <tbody>\n",
       "    <tr>\n",
       "      <th>0</th>\n",
       "      <td>10.000000</td>\n",
       "      <td>1.397124</td>\n",
       "    </tr>\n",
       "    <tr>\n",
       "      <th>1</th>\n",
       "      <td>1.000000</td>\n",
       "      <td>1.071947</td>\n",
       "    </tr>\n",
       "    <tr>\n",
       "      <th>2</th>\n",
       "      <td>0.500000</td>\n",
       "      <td>1.061681</td>\n",
       "    </tr>\n",
       "    <tr>\n",
       "      <th>3</th>\n",
       "      <td>0.333333</td>\n",
       "      <td>1.059981</td>\n",
       "    </tr>\n",
       "    <tr>\n",
       "      <th>4</th>\n",
       "      <td>0.250000</td>\n",
       "      <td>1.060063</td>\n",
       "    </tr>\n",
       "  </tbody>\n",
       "</table>\n",
       "</div>"
      ],
      "text/plain": [
       "       alpha     rmsle\n",
       "0  10.000000  1.397124\n",
       "1   1.000000  1.071947\n",
       "2   0.500000  1.061681\n",
       "3   0.333333  1.059981\n",
       "4   0.250000  1.060063"
      ]
     },
     "execution_count": 90,
     "metadata": {},
     "output_type": "execute_result"
    }
   ],
   "source": [
    "lasso_m_ = Lasso()\n",
    "\n",
    "alpha  = 1/np.array([0.1, 1, 2, 3, 4, 10, 30,100,200,300,400,800,900,1000])\n",
    "lasso_params_ = { 'max_iter':[3000],'alpha':alpha}\n",
    "\n",
    "grid_lasso_m = GridSearchCV( lasso_m_,lasso_params_,scoring = rmsle_scorer,cv=5)\n",
    "y_train_log = np.log1p(y_train)\n",
    "grid_lasso_m.fit( X_train , y_train_log )\n",
    "preds = grid_lasso_m.predict(X_train)\n",
    "print (grid_lasso_m.best_params_)\n",
    "print (\"RMSLE Value For Lasso Regression: \",rmsle(np.exp(y_train_log),np.exp(preds),False))\n",
    "\n",
    "df = pd.DataFrame(grid_lasso_m.cv_results_)\n",
    "df[\"alpha\"] = df[\"params\"].apply(lambda x:x[\"alpha\"])\n",
    "df[\"rmsle\"] = df[\"mean_test_score\"].apply(lambda x:-x)\n",
    "\n",
    "df[[\"alpha\", \"rmsle\"]].head()"
   ]
  },
  {
   "cell_type": "markdown",
   "metadata": {},
   "source": [
    "### 점수가 엄청 저조함=> 대부분의 feature가 label과 선형 관계가 아님\n",
    "\n",
    "###  4. GAM"
   ]
  },
  {
   "cell_type": "code",
   "execution_count": 197,
   "metadata": {},
   "outputs": [
    {
     "name": "stdout",
     "output_type": "stream",
     "text": [
      "(10886, 7)\n",
      "(6493, 7)\n",
      "(10886,)\n"
     ]
    },
    {
     "data": {
      "text/plain": [
       "0    16\n",
       "1    40\n",
       "2    32\n",
       "3    13\n",
       "4     1\n",
       "Name: count, dtype: int64"
      ]
     },
     "execution_count": 197,
     "metadata": {},
     "output_type": "execute_result"
    }
   ],
   "source": [
    "feature_names = [\"season\", \"weather\",\"atemp\", \"humidity\",\n",
    "                 \"year\", \"hour\",  \"workingday\"\n",
    "                ]\n",
    "\n",
    "X_train = train[feature_names]\n",
    "\n",
    "print(X_train.shape)\n",
    "X_train.head()\n",
    "\n",
    "\n",
    "X_test = test[feature_names]\n",
    "\n",
    "print(X_test.shape)\n",
    "X_test.head()\n",
    "\n",
    "label_name = \"count\"\n",
    "\n",
    "y_train = train[label_name]\n",
    "\n",
    "print(y_train.shape)\n",
    "y_train.head()"
   ]
  },
  {
   "cell_type": "code",
   "execution_count": 198,
   "metadata": {},
   "outputs": [
    {
     "name": "stderr",
     "output_type": "stream",
     "text": [
      "100% (11 of 11) |########################| Elapsed Time: 0:00:01 Time:  0:00:01\n"
     ]
    }
   ],
   "source": [
    "from pygam import LinearGAM,s,f\n",
    "y_train_log = np.log1p(y_train)\n",
    "from sklearn.model_selection import train_test_split\n",
    "\n",
    "X= X_train.values\n",
    "y=y_train_log.values\n",
    "\n",
    "X_train, X_test, y_train, y_test = train_test_split(X, y, test_size=0.33, random_state=42)\n",
    "\n",
    "\n",
    "gam = LinearGAM(f(0)+f(1)+s(2)+s(3)+f(4)+s(5)+s(5,by=6)+f(6)).gridsearch(X_train, y_train)\n"
   ]
  },
  {
   "cell_type": "code",
   "execution_count": 199,
   "metadata": {},
   "outputs": [
    {
     "name": "stdout",
     "output_type": "stream",
     "text": [
      "LinearGAM                                                                                                 \n",
      "=============================================== ==========================================================\n",
      "Distribution:                        NormalDist Effective DoF:                                      72.527\n",
      "Link Function:                     IdentityLink Log Likelihood:                                -20819.5795\n",
      "Number of Samples:                         7293 AIC:                                             41786.213\n",
      "                                                AICc:                                           41787.7313\n",
      "                                                GCV:                                                 0.125\n",
      "                                                Scale:                                              0.1227\n",
      "                                                Pseudo R-Squared:                                   0.9399\n",
      "==========================================================================================================\n",
      "Feature Function                  Lambda               Rank         EDoF         P > x        Sig. Code   \n",
      "================================= ==================== ============ ============ ============ ============\n",
      "f(0)                              [0.2512]             4            4.0          1.11e-16     ***         \n",
      "f(1)                              [0.2512]             4            2.9          1.11e-16     ***         \n",
      "s(2)                              [0.2512]             20           16.0         1.11e-16     ***         \n",
      "s(3)                              [0.2512]             20           15.3         1.11e-16     ***         \n",
      "f(4)                              [0.2512]             2            1.0          1.11e-16     ***         \n",
      "s(5)                              [0.2512]             20           17.4         1.11e-16     ***         \n",
      "s(5)                              [0.2512]             20           16.0         1.11e-16     ***         \n",
      "f(6)                              [0.2512]             2            0.0          1.11e-16     ***         \n",
      "intercept                                              1            0.0          1.11e-16     ***         \n",
      "==========================================================================================================\n",
      "Significance codes:  0 '***' 0.001 '**' 0.01 '*' 0.05 '.' 0.1 ' ' 1\n",
      "\n",
      "WARNING: Fitting splines and a linear function to a feature introduces a model identifiability problem\n",
      "         which can cause p-values to appear significant when they are not.\n",
      "\n",
      "WARNING: p-values calculated in this manner behave correctly for un-penalized models or models with\n",
      "         known smoothing parameters, but when smoothing parameters have been estimated, the p-values\n",
      "         are typically lower than they should be, meaning that the tests reject the null too readily.\n"
     ]
    }
   ],
   "source": [
    "gam.summary()"
   ]
  },
  {
   "cell_type": "code",
   "execution_count": 202,
   "metadata": {},
   "outputs": [
    {
     "ename": "ValueError",
     "evalue": "X data is out of domain for categorical feature 1. Expected data on [1.0, 4.0], but found data on [0.0, 0.0]",
     "output_type": "error",
     "traceback": [
      "\u001b[1;31m---------------------------------------------------------------------------\u001b[0m",
      "\u001b[1;31mValueError\u001b[0m                                Traceback (most recent call last)",
      "\u001b[1;32m<ipython-input-202-817053b070d1>\u001b[0m in \u001b[0;36m<module>\u001b[1;34m\u001b[0m\n\u001b[0;32m      4\u001b[0m \u001b[1;33m\u001b[0m\u001b[0m\n\u001b[0;32m      5\u001b[0m     \u001b[0mXX\u001b[0m \u001b[1;33m=\u001b[0m \u001b[0mgam\u001b[0m\u001b[1;33m.\u001b[0m\u001b[0mgenerate_X_grid\u001b[0m\u001b[1;33m(\u001b[0m\u001b[0mterm\u001b[0m\u001b[1;33m=\u001b[0m\u001b[0mi\u001b[0m\u001b[1;33m)\u001b[0m\u001b[1;33m\u001b[0m\u001b[1;33m\u001b[0m\u001b[0m\n\u001b[1;32m----> 6\u001b[1;33m     \u001b[0mpdep\u001b[0m\u001b[1;33m,\u001b[0m \u001b[0mconfi\u001b[0m \u001b[1;33m=\u001b[0m \u001b[0mgam\u001b[0m\u001b[1;33m.\u001b[0m\u001b[0mpartial_dependence\u001b[0m\u001b[1;33m(\u001b[0m\u001b[0mterm\u001b[0m\u001b[1;33m=\u001b[0m\u001b[0mi\u001b[0m\u001b[1;33m,\u001b[0m \u001b[0mX\u001b[0m\u001b[1;33m=\u001b[0m\u001b[0mXX\u001b[0m\u001b[1;33m,\u001b[0m \u001b[0mwidth\u001b[0m\u001b[1;33m=\u001b[0m\u001b[1;36m0.95\u001b[0m\u001b[1;33m)\u001b[0m\u001b[1;33m\u001b[0m\u001b[1;33m\u001b[0m\u001b[0m\n\u001b[0m\u001b[0;32m      7\u001b[0m \u001b[1;33m\u001b[0m\u001b[0m\n\u001b[0;32m      8\u001b[0m     \u001b[0mplt\u001b[0m\u001b[1;33m.\u001b[0m\u001b[0mfigure\u001b[0m\u001b[1;33m(\u001b[0m\u001b[1;33m)\u001b[0m\u001b[1;33m\u001b[0m\u001b[1;33m\u001b[0m\u001b[0m\n",
      "\u001b[1;32mC:\\ProgramData\\Anaconda3\\lib\\site-packages\\pygam\\pygam.py\u001b[0m in \u001b[0;36mpartial_dependence\u001b[1;34m(self, term, X, width, quantiles, meshgrid)\u001b[0m\n\u001b[0;32m   1542\u001b[0m                         features=self.feature, verbose=self.verbose)\n\u001b[0;32m   1543\u001b[0m \u001b[1;33m\u001b[0m\u001b[0m\n\u001b[1;32m-> 1544\u001b[1;33m         \u001b[0mmodelmat\u001b[0m \u001b[1;33m=\u001b[0m \u001b[0mself\u001b[0m\u001b[1;33m.\u001b[0m\u001b[0m_modelmat\u001b[0m\u001b[1;33m(\u001b[0m\u001b[0mX\u001b[0m\u001b[1;33m,\u001b[0m \u001b[0mterm\u001b[0m\u001b[1;33m=\u001b[0m\u001b[0mterm\u001b[0m\u001b[1;33m)\u001b[0m\u001b[1;33m\u001b[0m\u001b[1;33m\u001b[0m\u001b[0m\n\u001b[0m\u001b[0;32m   1545\u001b[0m         \u001b[0mpdep\u001b[0m \u001b[1;33m=\u001b[0m \u001b[0mself\u001b[0m\u001b[1;33m.\u001b[0m\u001b[0m_linear_predictor\u001b[0m\u001b[1;33m(\u001b[0m\u001b[0mmodelmat\u001b[0m\u001b[1;33m=\u001b[0m\u001b[0mmodelmat\u001b[0m\u001b[1;33m,\u001b[0m \u001b[0mterm\u001b[0m\u001b[1;33m=\u001b[0m\u001b[0mterm\u001b[0m\u001b[1;33m)\u001b[0m\u001b[1;33m\u001b[0m\u001b[1;33m\u001b[0m\u001b[0m\n\u001b[0;32m   1546\u001b[0m         \u001b[0mout\u001b[0m \u001b[1;33m=\u001b[0m \u001b[1;33m[\u001b[0m\u001b[0mpdep\u001b[0m\u001b[1;33m]\u001b[0m\u001b[1;33m\u001b[0m\u001b[1;33m\u001b[0m\u001b[0m\n",
      "\u001b[1;32mC:\\ProgramData\\Anaconda3\\lib\\site-packages\\pygam\\pygam.py\u001b[0m in \u001b[0;36m_modelmat\u001b[1;34m(self, X, term)\u001b[0m\n\u001b[0;32m    453\u001b[0m             \u001b[0mcontaining\u001b[0m \u001b[0mmodel\u001b[0m \u001b[0mmatrix\u001b[0m \u001b[0mof\u001b[0m \u001b[0mthe\u001b[0m \u001b[0mspline\u001b[0m \u001b[0mbasis\u001b[0m \u001b[1;32mfor\u001b[0m \u001b[0mselected\u001b[0m \u001b[0mfeatures\u001b[0m\u001b[1;33m\u001b[0m\u001b[1;33m\u001b[0m\u001b[0m\n\u001b[0;32m    454\u001b[0m         \"\"\"\n\u001b[1;32m--> 455\u001b[1;33m         X = check_X(X, n_feats=self.statistics_['m_features'],\n\u001b[0m\u001b[0;32m    456\u001b[0m                     \u001b[0medge_knots\u001b[0m\u001b[1;33m=\u001b[0m\u001b[0mself\u001b[0m\u001b[1;33m.\u001b[0m\u001b[0medge_knots_\u001b[0m\u001b[1;33m,\u001b[0m \u001b[0mdtypes\u001b[0m\u001b[1;33m=\u001b[0m\u001b[0mself\u001b[0m\u001b[1;33m.\u001b[0m\u001b[0mdtype\u001b[0m\u001b[1;33m,\u001b[0m\u001b[1;33m\u001b[0m\u001b[1;33m\u001b[0m\u001b[0m\n\u001b[0;32m    457\u001b[0m                     features=self.feature, verbose=self.verbose)\n",
      "\u001b[1;32mC:\\ProgramData\\Anaconda3\\lib\\site-packages\\pygam\\utils.py\u001b[0m in \u001b[0;36mcheck_X\u001b[1;34m(X, n_feats, min_samples, edge_knots, dtypes, features, verbose)\u001b[0m\n\u001b[0;32m    298\u001b[0m                     \u001b[0mmin_\u001b[0m \u001b[1;33m+=\u001b[0m \u001b[1;36m.5\u001b[0m\u001b[1;33m\u001b[0m\u001b[1;33m\u001b[0m\u001b[0m\n\u001b[0;32m    299\u001b[0m                     \u001b[0mmax_\u001b[0m \u001b[1;33m-=\u001b[0m \u001b[1;36m0.5\u001b[0m\u001b[1;33m\u001b[0m\u001b[1;33m\u001b[0m\u001b[0m\n\u001b[1;32m--> 300\u001b[1;33m                     raise ValueError('X data is out of domain for categorical '\\\n\u001b[0m\u001b[0;32m    301\u001b[0m                                      \u001b[1;34m'feature {}. Expected data on [{}, {}], '\u001b[0m\u001b[0;31m\\\u001b[0m\u001b[1;33m\u001b[0m\u001b[1;33m\u001b[0m\u001b[0m\n\u001b[0;32m    302\u001b[0m                                      \u001b[1;34m'but found data on [{}, {}]'\u001b[0m\u001b[0;31m\\\u001b[0m\u001b[1;33m\u001b[0m\u001b[1;33m\u001b[0m\u001b[0m\n",
      "\u001b[1;31mValueError\u001b[0m: X data is out of domain for categorical feature 1. Expected data on [1.0, 4.0], but found data on [0.0, 0.0]"
     ]
    }
   ],
   "source": [
    "for i, term in enumerate(gam.terms):\n",
    "    if term.isintercept:\n",
    "        continue\n",
    "\n",
    "    XX = gam.generate_X_grid(term=i)\n",
    "    pdep, confi = gam.partial_dependence(term=i, X=XX, width=0.95)\n",
    "\n",
    "    plt.figure()\n",
    "    plt.plot(XX[:, term.feature], pdep)\n",
    "    plt.plot(XX[:, term.feature], confi, c='r', ls='--')\n",
    "    plt.title(repr(term))\n",
    "    plt.show()"
   ]
  },
  {
   "cell_type": "markdown",
   "metadata": {},
   "source": [
    "* summary\n",
    "* GCV:\n",
    "* R-Squared:\n",
    "1. rank:\n",
    "2. EDOF:(자유도)\n",
    "3. Pvalue\n"
   ]
  },
  {
   "cell_type": "code",
   "execution_count": 196,
   "metadata": {},
   "outputs": [
    {
     "data": {
      "text/plain": [
       "0.33438211332939105"
      ]
     },
     "execution_count": 196,
     "metadata": {},
     "output_type": "execute_result"
    },
    {
     "data": {
      "image/png": "[encoded data removed]",
      "text/plain": [
       "<Figure size 432x288 with 1 Axes>"
      ]
     },
     "metadata": {},
     "output_type": "display_data"
    }
   ],
   "source": [
    "plt.plot(y_test, gam.predict(X_test),\"*\")\n",
    "plt.xlabel(\"Predicted Value\")\n",
    "plt.ylabel(\"Actual value\")\n",
    "rmsle(y_test, gam.predict(X_test))"
   ]
  },
  {
   "cell_type": "markdown",
   "metadata": {},
   "source": [
    "### "
   ]
  },
  {
   "cell_type": "code",
   "execution_count": null,
   "metadata": {},
   "outputs": [],
   "source": []
  }
 ],
 "metadata": {
  "kernelspec": {
   "display_name": "Python 3",
   "language": "python",
   "name": "python3"
  },
  "language_info": {
   "codemirror_mode": {
    "name": "ipython",
    "version": 3
   },
   "file_extension": ".py",
   "mimetype": "text/x-python",
   "name": "python",
   "nbconvert_exporter": "python",
   "pygments_lexer": "ipython3",
   "version": "3.8.5"
  }
 },
 "nbformat": 4,
 "nbformat_minor": 4
}
