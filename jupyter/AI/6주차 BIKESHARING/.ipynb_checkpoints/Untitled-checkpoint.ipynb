{
 "cells": [
  {
   "cell_type": "markdown",
   "metadata": {},
   "source": [
    "## 선형회귀\n",
    "\n",
    "1. linear_models\n",
    "    * 1.1 ols\n",
    "    * 1.2 SGDregressor\n",
    "    \n",
    "### feature가 추가될 수록 과적합 문제 발생\n",
    "### cost function에 제약을 가해서 해결\n",
    "    * 1.3 ridge regressor => L2 제약:\n",
    "    * 1.4 lasso regressor => L1 제약:\n",
    "    * 1.5 ElasticNet=> ridge + lasso\n",
    "    "
   ]
  },
  {
   "cell_type": "code",
   "execution_count": null,
   "metadata": {},
   "outputs": [],
   "source": []
  }
 ],
 "metadata": {
  "kernelspec": {
   "display_name": "Python 3",
   "language": "python",
   "name": "python3"
  },
  "language_info": {
   "codemirror_mode": {
    "name": "ipython",
    "version": 3
   },
   "file_extension": ".py",
   "mimetype": "text/x-python",
   "name": "python",
   "nbconvert_exporter": "python",
   "pygments_lexer": "ipython3",
   "version": "3.8.5"
  }
 },
 "nbformat": 4,
 "nbformat_minor": 4
}
