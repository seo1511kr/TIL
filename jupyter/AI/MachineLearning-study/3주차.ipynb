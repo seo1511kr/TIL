{
 "cells": [
  {
   "cell_type": "markdown",
   "metadata": {},
   "source": [
    "# pandas & plotnine 응용"
   ]
  },
  {
   "cell_type": "markdown",
   "metadata": {},
   "source": [
    "#### 1.특정 범주형 변수를 categorical로 바꿔서 개수별로 오름차순 정렬하는법"
   ]
  },
  {
   "cell_type": "code",
   "execution_count": null,
   "metadata": {},
   "outputs": [],
   "source": [
    "I_NOC=list(Olympic_viz[\"NOC\"].value_counts().index)\n",
    "NOC_cat=pd.Categorical(Olympic_viz[\"NOC\"],categories=I_NOC)\n",
    "Olympic_viz[\"NOC_cat\"]=NOC_cat\n",
    "(ggplot(Olympic_viz,aes(x=\"NOC_cat\",fill=\"Medal\"))+ geom_bar(stat=\"count\"))\n"
   ]
  },
  {
   "cell_type": "markdown",
   "metadata": {},
   "source": [
    "#### 2. dtype별로 column 고르기 \n",
    "https://kongdols-room.tistory.com/172 참고\n",
    "\n",
    "\n",
    "select_dtypes(include=['',''], exclude=['',''])를 활용"
   ]
  },
  {
   "cell_type": "code",
   "execution_count": null,
   "metadata": {},
   "outputs": [],
   "source": [
    "\n",
    "df.select_dtypes(include=['number', 'bool'])\n",
    "train_df.describe(include=['O'])\n"
   ]
  }
 ],
 "metadata": {
  "kernelspec": {
   "display_name": "Python 3",
   "language": "python",
   "name": "python3"
  },
  "language_info": {
   "codemirror_mode": {
    "name": "ipython",
    "version": 3
   },
   "file_extension": ".py",
   "mimetype": "text/x-python",
   "name": "python",
   "nbconvert_exporter": "python",
   "pygments_lexer": "ipython3",
   "version": "3.8.5"
  }
 },
 "nbformat": 4,
 "nbformat_minor": 4
}
