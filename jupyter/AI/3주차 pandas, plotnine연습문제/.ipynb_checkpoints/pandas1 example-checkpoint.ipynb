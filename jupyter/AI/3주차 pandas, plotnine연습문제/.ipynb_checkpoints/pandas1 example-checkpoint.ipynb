{
 "cells": [
  {
   "cell_type": "markdown",
   "metadata": {},
   "source": [
    "# package load"
   ]
  },
  {
   "cell_type": "code",
   "execution_count": 3,
   "metadata": {},
   "outputs": [],
   "source": [
    "import pandas as pd\n",
    "import matplotlib.pyplot as plt\n",
    "import seaborn as sns\n",
    "\n",
    "import warnings\n",
    "warnings.filterwarnings(action=\"ignore\")"
   ]
  },
  {
   "cell_type": "markdown",
   "metadata": {},
   "source": [
    "# 1. 데이터확인"
   ]
  },
  {
   "cell_type": "code",
   "execution_count": 4,
   "metadata": {
    "scrolled": true
   },
   "outputs": [
    {
     "data": {
      "text/html": [
       "<div>\n",
       "<style scoped>\n",
       "    .dataframe tbody tr th:only-of-type {\n",
       "        vertical-align: middle;\n",
       "    }\n",
       "\n",
       "    .dataframe tbody tr th {\n",
       "        vertical-align: top;\n",
       "    }\n",
       "\n",
       "    .dataframe thead th {\n",
       "        text-align: right;\n",
       "    }\n",
       "</style>\n",
       "<table border=\"1\" class=\"dataframe\">\n",
       "  <thead>\n",
       "    <tr style=\"text-align: right;\">\n",
       "      <th></th>\n",
       "      <th>Name</th>\n",
       "      <th>Sex</th>\n",
       "      <th>Age</th>\n",
       "      <th>Height</th>\n",
       "      <th>Weight</th>\n",
       "      <th>Team</th>\n",
       "      <th>NOC</th>\n",
       "      <th>Year</th>\n",
       "      <th>Medal</th>\n",
       "    </tr>\n",
       "  </thead>\n",
       "  <tbody>\n",
       "    <tr>\n",
       "      <th>0</th>\n",
       "      <td>A Lamusi</td>\n",
       "      <td>M</td>\n",
       "      <td>23</td>\n",
       "      <td>170</td>\n",
       "      <td>60.0</td>\n",
       "      <td>China</td>\n",
       "      <td>CHN</td>\n",
       "      <td>2012</td>\n",
       "      <td>None</td>\n",
       "    </tr>\n",
       "    <tr>\n",
       "      <th>1</th>\n",
       "      <td>Juhamatti Tapio Aaltonen</td>\n",
       "      <td>M</td>\n",
       "      <td>28</td>\n",
       "      <td>184</td>\n",
       "      <td>85.0</td>\n",
       "      <td>Finland</td>\n",
       "      <td>FIN</td>\n",
       "      <td>2014</td>\n",
       "      <td>Bronze</td>\n",
       "    </tr>\n",
       "    <tr>\n",
       "      <th>2</th>\n",
       "      <td>Andreea Aanei</td>\n",
       "      <td>F</td>\n",
       "      <td>22</td>\n",
       "      <td>170</td>\n",
       "      <td>125.0</td>\n",
       "      <td>Romania</td>\n",
       "      <td>ROU</td>\n",
       "      <td>2016</td>\n",
       "      <td>None</td>\n",
       "    </tr>\n",
       "    <tr>\n",
       "      <th>3</th>\n",
       "      <td>Jamale (Djamel-) Aarrass (Ahrass-)</td>\n",
       "      <td>M</td>\n",
       "      <td>30</td>\n",
       "      <td>187</td>\n",
       "      <td>76.0</td>\n",
       "      <td>France</td>\n",
       "      <td>FRA</td>\n",
       "      <td>2012</td>\n",
       "      <td>None</td>\n",
       "    </tr>\n",
       "    <tr>\n",
       "      <th>4</th>\n",
       "      <td>Nstor Abad Sanjun</td>\n",
       "      <td>M</td>\n",
       "      <td>23</td>\n",
       "      <td>167</td>\n",
       "      <td>64.0</td>\n",
       "      <td>Spain</td>\n",
       "      <td>ESP</td>\n",
       "      <td>2016</td>\n",
       "      <td>None</td>\n",
       "    </tr>\n",
       "  </tbody>\n",
       "</table>\n",
       "</div>"
      ],
      "text/plain": [
       "                                 Name Sex  Age  Height  Weight     Team  NOC  \\\n",
       "0                            A Lamusi   M   23     170    60.0    China  CHN   \n",
       "1            Juhamatti Tapio Aaltonen   M   28     184    85.0  Finland  FIN   \n",
       "2                       Andreea Aanei   F   22     170   125.0  Romania  ROU   \n",
       "3  Jamale (Djamel-) Aarrass (Ahrass-)   M   30     187    76.0   France  FRA   \n",
       "4                   Nstor Abad Sanjun   M   23     167    64.0    Spain  ESP   \n",
       "\n",
       "   Year   Medal  \n",
       "0  2012    None  \n",
       "1  2014  Bronze  \n",
       "2  2016    None  \n",
       "3  2012    None  \n",
       "4  2016    None  "
      ]
     },
     "execution_count": 4,
     "metadata": {},
     "output_type": "execute_result"
    }
   ],
   "source": [
    "Olympic = pd.read_csv(\"../data/Olympic.csv\")\n",
    "Olympic.head()"
   ]
  },
  {
   "cell_type": "markdown",
   "metadata": {},
   "source": [
    "### 1.1 데이터 행과 열 개수 확인하시오.\n"
   ]
  },
  {
   "cell_type": "code",
   "execution_count": 44,
   "metadata": {},
   "outputs": [
    {
     "data": {
      "text/plain": [
       "(35018, 9)"
      ]
     },
     "execution_count": 44,
     "metadata": {},
     "output_type": "execute_result"
    }
   ],
   "source": [
    "Olympic.shape"
   ]
  },
  {
   "cell_type": "markdown",
   "metadata": {},
   "source": [
    "### 1.2 중복제거 후 행과 열 개수 확인하시오.\n"
   ]
  },
  {
   "cell_type": "code",
   "execution_count": 45,
   "metadata": {},
   "outputs": [
    {
     "data": {
      "text/plain": [
       "0        False\n",
       "1        False\n",
       "2        False\n",
       "3        False\n",
       "4        False\n",
       "         ...  \n",
       "35013    False\n",
       "35014    False\n",
       "35015    False\n",
       "35016    False\n",
       "35017     True\n",
       "Length: 35018, dtype: bool"
      ]
     },
     "execution_count": 45,
     "metadata": {},
     "output_type": "execute_result"
    }
   ],
   "source": [
    "Olympic.duplicated()"
   ]
  },
  {
   "cell_type": "code",
   "execution_count": 46,
   "metadata": {},
   "outputs": [
    {
     "data": {
      "text/html": [
       "<div>\n",
       "<style scoped>\n",
       "    .dataframe tbody tr th:only-of-type {\n",
       "        vertical-align: middle;\n",
       "    }\n",
       "\n",
       "    .dataframe tbody tr th {\n",
       "        vertical-align: top;\n",
       "    }\n",
       "\n",
       "    .dataframe thead th {\n",
       "        text-align: right;\n",
       "    }\n",
       "</style>\n",
       "<table border=\"1\" class=\"dataframe\">\n",
       "  <thead>\n",
       "    <tr style=\"text-align: right;\">\n",
       "      <th></th>\n",
       "      <th>Name</th>\n",
       "      <th>Sex</th>\n",
       "      <th>Age</th>\n",
       "      <th>Height</th>\n",
       "      <th>Weight</th>\n",
       "      <th>Team</th>\n",
       "      <th>NOC</th>\n",
       "      <th>Year</th>\n",
       "      <th>Medal</th>\n",
       "    </tr>\n",
       "  </thead>\n",
       "  <tbody>\n",
       "    <tr>\n",
       "      <th>0</th>\n",
       "      <td>A Lamusi</td>\n",
       "      <td>M</td>\n",
       "      <td>23</td>\n",
       "      <td>170</td>\n",
       "      <td>60.0</td>\n",
       "      <td>China</td>\n",
       "      <td>CHN</td>\n",
       "      <td>2012</td>\n",
       "      <td>None</td>\n",
       "    </tr>\n",
       "    <tr>\n",
       "      <th>1</th>\n",
       "      <td>Juhamatti Tapio Aaltonen</td>\n",
       "      <td>M</td>\n",
       "      <td>28</td>\n",
       "      <td>184</td>\n",
       "      <td>85.0</td>\n",
       "      <td>Finland</td>\n",
       "      <td>FIN</td>\n",
       "      <td>2014</td>\n",
       "      <td>Bronze</td>\n",
       "    </tr>\n",
       "    <tr>\n",
       "      <th>2</th>\n",
       "      <td>Andreea Aanei</td>\n",
       "      <td>F</td>\n",
       "      <td>22</td>\n",
       "      <td>170</td>\n",
       "      <td>125.0</td>\n",
       "      <td>Romania</td>\n",
       "      <td>ROU</td>\n",
       "      <td>2016</td>\n",
       "      <td>None</td>\n",
       "    </tr>\n",
       "    <tr>\n",
       "      <th>3</th>\n",
       "      <td>Jamale (Djamel-) Aarrass (Ahrass-)</td>\n",
       "      <td>M</td>\n",
       "      <td>30</td>\n",
       "      <td>187</td>\n",
       "      <td>76.0</td>\n",
       "      <td>France</td>\n",
       "      <td>FRA</td>\n",
       "      <td>2012</td>\n",
       "      <td>None</td>\n",
       "    </tr>\n",
       "    <tr>\n",
       "      <th>4</th>\n",
       "      <td>Nstor Abad Sanjun</td>\n",
       "      <td>M</td>\n",
       "      <td>23</td>\n",
       "      <td>167</td>\n",
       "      <td>64.0</td>\n",
       "      <td>Spain</td>\n",
       "      <td>ESP</td>\n",
       "      <td>2016</td>\n",
       "      <td>None</td>\n",
       "    </tr>\n",
       "    <tr>\n",
       "      <th>...</th>\n",
       "      <td>...</td>\n",
       "      <td>...</td>\n",
       "      <td>...</td>\n",
       "      <td>...</td>\n",
       "      <td>...</td>\n",
       "      <td>...</td>\n",
       "      <td>...</td>\n",
       "      <td>...</td>\n",
       "      <td>...</td>\n",
       "    </tr>\n",
       "    <tr>\n",
       "      <th>35010</th>\n",
       "      <td>Viktoriya Viktorovna Zyabkina</td>\n",
       "      <td>F</td>\n",
       "      <td>23</td>\n",
       "      <td>174</td>\n",
       "      <td>62.0</td>\n",
       "      <td>Kazakhstan</td>\n",
       "      <td>KAZ</td>\n",
       "      <td>2016</td>\n",
       "      <td>None</td>\n",
       "    </tr>\n",
       "    <tr>\n",
       "      <th>35013</th>\n",
       "      <td>Dominik ycki</td>\n",
       "      <td>M</td>\n",
       "      <td>38</td>\n",
       "      <td>192</td>\n",
       "      <td>95.0</td>\n",
       "      <td>Poland</td>\n",
       "      <td>POL</td>\n",
       "      <td>2012</td>\n",
       "      <td>None</td>\n",
       "    </tr>\n",
       "    <tr>\n",
       "      <th>35014</th>\n",
       "      <td>ukasz Tomasz ygado</td>\n",
       "      <td>M</td>\n",
       "      <td>32</td>\n",
       "      <td>200</td>\n",
       "      <td>89.0</td>\n",
       "      <td>Poland</td>\n",
       "      <td>POL</td>\n",
       "      <td>2012</td>\n",
       "      <td>None</td>\n",
       "    </tr>\n",
       "    <tr>\n",
       "      <th>35015</th>\n",
       "      <td>Olga Igorevna Zyuzkova</td>\n",
       "      <td>F</td>\n",
       "      <td>33</td>\n",
       "      <td>171</td>\n",
       "      <td>69.0</td>\n",
       "      <td>Belarus</td>\n",
       "      <td>BLR</td>\n",
       "      <td>2016</td>\n",
       "      <td>None</td>\n",
       "    </tr>\n",
       "    <tr>\n",
       "      <th>35016</th>\n",
       "      <td>Piotr ya</td>\n",
       "      <td>M</td>\n",
       "      <td>27</td>\n",
       "      <td>176</td>\n",
       "      <td>59.0</td>\n",
       "      <td>Poland</td>\n",
       "      <td>POL</td>\n",
       "      <td>2014</td>\n",
       "      <td>None</td>\n",
       "    </tr>\n",
       "  </tbody>\n",
       "</table>\n",
       "<p>27721 rows × 9 columns</p>\n",
       "</div>"
      ],
      "text/plain": [
       "                                     Name Sex  Age  Height  Weight  \\\n",
       "0                                A Lamusi   M   23     170    60.0   \n",
       "1                Juhamatti Tapio Aaltonen   M   28     184    85.0   \n",
       "2                           Andreea Aanei   F   22     170   125.0   \n",
       "3      Jamale (Djamel-) Aarrass (Ahrass-)   M   30     187    76.0   \n",
       "4                       Nstor Abad Sanjun   M   23     167    64.0   \n",
       "...                                   ...  ..  ...     ...     ...   \n",
       "35010       Viktoriya Viktorovna Zyabkina   F   23     174    62.0   \n",
       "35013                        Dominik ycki   M   38     192    95.0   \n",
       "35014                  ukasz Tomasz ygado   M   32     200    89.0   \n",
       "35015              Olga Igorevna Zyuzkova   F   33     171    69.0   \n",
       "35016                            Piotr ya   M   27     176    59.0   \n",
       "\n",
       "             Team  NOC  Year   Medal  \n",
       "0           China  CHN  2012    None  \n",
       "1         Finland  FIN  2014  Bronze  \n",
       "2         Romania  ROU  2016    None  \n",
       "3          France  FRA  2012    None  \n",
       "4           Spain  ESP  2016    None  \n",
       "...           ...  ...   ...     ...  \n",
       "35010  Kazakhstan  KAZ  2016    None  \n",
       "35013      Poland  POL  2012    None  \n",
       "35014      Poland  POL  2012    None  \n",
       "35015     Belarus  BLR  2016    None  \n",
       "35016      Poland  POL  2014    None  \n",
       "\n",
       "[27721 rows x 9 columns]"
      ]
     },
     "execution_count": 46,
     "metadata": {},
     "output_type": "execute_result"
    }
   ],
   "source": [
    "Olympic[~Olympic.duplicated()]"
   ]
  },
  {
   "cell_type": "code",
   "execution_count": 47,
   "metadata": {
    "scrolled": true
   },
   "outputs": [],
   "source": [
    "Olympic=Olympic[~Olympic.duplicated()]"
   ]
  },
  {
   "cell_type": "code",
   "execution_count": 48,
   "metadata": {},
   "outputs": [
    {
     "data": {
      "text/plain": [
       "(27721, 9)"
      ]
     },
     "execution_count": 48,
     "metadata": {},
     "output_type": "execute_result"
    }
   ],
   "source": [
    "Olympic.shape"
   ]
  },
  {
   "cell_type": "markdown",
   "metadata": {},
   "source": [
    "### 1.3 데이터 인덱스(index) 확인하시오.\n"
   ]
  },
  {
   "cell_type": "code",
   "execution_count": 53,
   "metadata": {
    "scrolled": true
   },
   "outputs": [],
   "source": [
    "Olympic=Olympic.reset_index(drop=True)"
   ]
  },
  {
   "cell_type": "code",
   "execution_count": 54,
   "metadata": {
    "scrolled": false
   },
   "outputs": [
    {
     "data": {
      "text/plain": [
       "RangeIndex(start=0, stop=27721, step=1)"
      ]
     },
     "execution_count": 54,
     "metadata": {},
     "output_type": "execute_result"
    }
   ],
   "source": [
    "Olympic.index"
   ]
  },
  {
   "cell_type": "code",
   "execution_count": 55,
   "metadata": {},
   "outputs": [
    {
     "data": {
      "text/plain": [
       "Index(['Name', 'Sex', 'Age', 'Height', 'Weight', 'Team', 'NOC', 'Year',\n",
       "       'Medal'],\n",
       "      dtype='object')"
      ]
     },
     "execution_count": 55,
     "metadata": {},
     "output_type": "execute_result"
    }
   ],
   "source": [
    "Olympic.columns"
   ]
  },
  {
   "cell_type": "code",
   "execution_count": 60,
   "metadata": {},
   "outputs": [
    {
     "data": {
      "text/plain": [
       "Name       object\n",
       "Sex        object\n",
       "Age         int64\n",
       "Height      int64\n",
       "Weight    float64\n",
       "Team       object\n",
       "NOC        object\n",
       "Year        int64\n",
       "Medal      object\n",
       "dtype: object"
      ]
     },
     "execution_count": 60,
     "metadata": {},
     "output_type": "execute_result"
    }
   ],
   "source": [
    "Olympic.dtypes"
   ]
  },
  {
   "cell_type": "code",
   "execution_count": 62,
   "metadata": {},
   "outputs": [
    {
     "name": "stdout",
     "output_type": "stream",
     "text": [
      "<class 'pandas.core.frame.DataFrame'>\n",
      "RangeIndex: 27721 entries, 0 to 27720\n",
      "Data columns (total 9 columns):\n",
      " #   Column  Non-Null Count  Dtype  \n",
      "---  ------  --------------  -----  \n",
      " 0   Name    27721 non-null  object \n",
      " 1   Sex     27721 non-null  object \n",
      " 2   Age     27721 non-null  int64  \n",
      " 3   Height  27721 non-null  int64  \n",
      " 4   Weight  27721 non-null  float64\n",
      " 5   Team    27721 non-null  object \n",
      " 6   NOC     27721 non-null  object \n",
      " 7   Year    27721 non-null  int64  \n",
      " 8   Medal   27721 non-null  object \n",
      "dtypes: float64(1), int64(3), object(5)\n",
      "memory usage: 1.9+ MB\n"
     ]
    }
   ],
   "source": [
    "Olympic.info()"
   ]
  },
  {
   "cell_type": "markdown",
   "metadata": {},
   "source": [
    "# 문제 2. 데이터 다루기\n"
   ]
  },
  {
   "cell_type": "code",
   "execution_count": 63,
   "metadata": {
    "scrolled": true
   },
   "outputs": [
    {
     "data": {
      "text/html": [
       "<div>\n",
       "<style scoped>\n",
       "    .dataframe tbody tr th:only-of-type {\n",
       "        vertical-align: middle;\n",
       "    }\n",
       "\n",
       "    .dataframe tbody tr th {\n",
       "        vertical-align: top;\n",
       "    }\n",
       "\n",
       "    .dataframe thead th {\n",
       "        text-align: right;\n",
       "    }\n",
       "</style>\n",
       "<table border=\"1\" class=\"dataframe\">\n",
       "  <thead>\n",
       "    <tr style=\"text-align: right;\">\n",
       "      <th></th>\n",
       "      <th>Name</th>\n",
       "      <th>Sex</th>\n",
       "      <th>Age</th>\n",
       "      <th>Height</th>\n",
       "      <th>Weight</th>\n",
       "      <th>Team</th>\n",
       "      <th>NOC</th>\n",
       "      <th>Year</th>\n",
       "      <th>Medal</th>\n",
       "    </tr>\n",
       "  </thead>\n",
       "  <tbody>\n",
       "    <tr>\n",
       "      <th>0</th>\n",
       "      <td>A Lamusi</td>\n",
       "      <td>M</td>\n",
       "      <td>23</td>\n",
       "      <td>170</td>\n",
       "      <td>60.0</td>\n",
       "      <td>China</td>\n",
       "      <td>CHN</td>\n",
       "      <td>2012</td>\n",
       "      <td>None</td>\n",
       "    </tr>\n",
       "    <tr>\n",
       "      <th>1</th>\n",
       "      <td>Juhamatti Tapio Aaltonen</td>\n",
       "      <td>M</td>\n",
       "      <td>28</td>\n",
       "      <td>184</td>\n",
       "      <td>85.0</td>\n",
       "      <td>Finland</td>\n",
       "      <td>FIN</td>\n",
       "      <td>2014</td>\n",
       "      <td>Bronze</td>\n",
       "    </tr>\n",
       "    <tr>\n",
       "      <th>2</th>\n",
       "      <td>Andreea Aanei</td>\n",
       "      <td>F</td>\n",
       "      <td>22</td>\n",
       "      <td>170</td>\n",
       "      <td>125.0</td>\n",
       "      <td>Romania</td>\n",
       "      <td>ROU</td>\n",
       "      <td>2016</td>\n",
       "      <td>None</td>\n",
       "    </tr>\n",
       "    <tr>\n",
       "      <th>3</th>\n",
       "      <td>Jamale (Djamel-) Aarrass (Ahrass-)</td>\n",
       "      <td>M</td>\n",
       "      <td>30</td>\n",
       "      <td>187</td>\n",
       "      <td>76.0</td>\n",
       "      <td>France</td>\n",
       "      <td>FRA</td>\n",
       "      <td>2012</td>\n",
       "      <td>None</td>\n",
       "    </tr>\n",
       "    <tr>\n",
       "      <th>4</th>\n",
       "      <td>Nstor Abad Sanjun</td>\n",
       "      <td>M</td>\n",
       "      <td>23</td>\n",
       "      <td>167</td>\n",
       "      <td>64.0</td>\n",
       "      <td>Spain</td>\n",
       "      <td>ESP</td>\n",
       "      <td>2016</td>\n",
       "      <td>None</td>\n",
       "    </tr>\n",
       "  </tbody>\n",
       "</table>\n",
       "</div>"
      ],
      "text/plain": [
       "                                 Name Sex  Age  Height  Weight     Team  NOC  \\\n",
       "0                            A Lamusi   M   23     170    60.0    China  CHN   \n",
       "1            Juhamatti Tapio Aaltonen   M   28     184    85.0  Finland  FIN   \n",
       "2                       Andreea Aanei   F   22     170   125.0  Romania  ROU   \n",
       "3  Jamale (Djamel-) Aarrass (Ahrass-)   M   30     187    76.0   France  FRA   \n",
       "4                   Nstor Abad Sanjun   M   23     167    64.0    Spain  ESP   \n",
       "\n",
       "   Year   Medal  \n",
       "0  2012    None  \n",
       "1  2014  Bronze  \n",
       "2  2016    None  \n",
       "3  2012    None  \n",
       "4  2016    None  "
      ]
     },
     "execution_count": 63,
     "metadata": {},
     "output_type": "execute_result"
    }
   ],
   "source": [
    "Olympic.head()\n"
   ]
  },
  {
   "cell_type": "markdown",
   "metadata": {},
   "source": [
    "### 2.1 Year별 Data수를 확인하시오."
   ]
  },
  {
   "cell_type": "code",
   "execution_count": 96,
   "metadata": {
    "scrolled": true
   },
   "outputs": [
    {
     "data": {
      "text/plain": [
       "2016    11409\n",
       "2012    10658\n",
       "2014     2902\n",
       "2010     2752\n",
       "Name: Year, dtype: int64"
      ]
     },
     "execution_count": 96,
     "metadata": {},
     "output_type": "execute_result"
    }
   ],
   "source": [
    "Olympic[\"Year\"].value_counts()"
   ]
  },
  {
   "cell_type": "code",
   "execution_count": 97,
   "metadata": {},
   "outputs": [
    {
     "data": {
      "text/html": [
       "<div>\n",
       "<style scoped>\n",
       "    .dataframe tbody tr th:only-of-type {\n",
       "        vertical-align: middle;\n",
       "    }\n",
       "\n",
       "    .dataframe tbody tr th {\n",
       "        vertical-align: top;\n",
       "    }\n",
       "\n",
       "    .dataframe thead th {\n",
       "        text-align: right;\n",
       "    }\n",
       "</style>\n",
       "<table border=\"1\" class=\"dataframe\">\n",
       "  <thead>\n",
       "    <tr style=\"text-align: right;\">\n",
       "      <th></th>\n",
       "      <th>Name</th>\n",
       "      <th>Sex</th>\n",
       "      <th>Age</th>\n",
       "      <th>Height</th>\n",
       "      <th>Weight</th>\n",
       "      <th>Team</th>\n",
       "      <th>NOC</th>\n",
       "      <th>Medal</th>\n",
       "    </tr>\n",
       "    <tr>\n",
       "      <th>Year</th>\n",
       "      <th></th>\n",
       "      <th></th>\n",
       "      <th></th>\n",
       "      <th></th>\n",
       "      <th></th>\n",
       "      <th></th>\n",
       "      <th></th>\n",
       "      <th></th>\n",
       "    </tr>\n",
       "  </thead>\n",
       "  <tbody>\n",
       "    <tr>\n",
       "      <th>2010</th>\n",
       "      <td>2752</td>\n",
       "      <td>2752</td>\n",
       "      <td>2752</td>\n",
       "      <td>2752</td>\n",
       "      <td>2752</td>\n",
       "      <td>2752</td>\n",
       "      <td>2752</td>\n",
       "      <td>2752</td>\n",
       "    </tr>\n",
       "    <tr>\n",
       "      <th>2012</th>\n",
       "      <td>10658</td>\n",
       "      <td>10658</td>\n",
       "      <td>10658</td>\n",
       "      <td>10658</td>\n",
       "      <td>10658</td>\n",
       "      <td>10658</td>\n",
       "      <td>10658</td>\n",
       "      <td>10658</td>\n",
       "    </tr>\n",
       "    <tr>\n",
       "      <th>2014</th>\n",
       "      <td>2902</td>\n",
       "      <td>2902</td>\n",
       "      <td>2902</td>\n",
       "      <td>2902</td>\n",
       "      <td>2902</td>\n",
       "      <td>2902</td>\n",
       "      <td>2902</td>\n",
       "      <td>2902</td>\n",
       "    </tr>\n",
       "    <tr>\n",
       "      <th>2016</th>\n",
       "      <td>11409</td>\n",
       "      <td>11409</td>\n",
       "      <td>11409</td>\n",
       "      <td>11409</td>\n",
       "      <td>11409</td>\n",
       "      <td>11409</td>\n",
       "      <td>11409</td>\n",
       "      <td>11409</td>\n",
       "    </tr>\n",
       "  </tbody>\n",
       "</table>\n",
       "</div>"
      ],
      "text/plain": [
       "       Name    Sex    Age  Height  Weight   Team    NOC  Medal\n",
       "Year                                                          \n",
       "2010   2752   2752   2752    2752    2752   2752   2752   2752\n",
       "2012  10658  10658  10658   10658   10658  10658  10658  10658\n",
       "2014   2902   2902   2902    2902    2902   2902   2902   2902\n",
       "2016  11409  11409  11409   11409   11409  11409  11409  11409"
      ]
     },
     "execution_count": 97,
     "metadata": {},
     "output_type": "execute_result"
    }
   ],
   "source": [
    "Olympic_gY=Olympic.groupby(\"Year\")\n",
    "Olympic_gY.count()"
   ]
  },
  {
   "cell_type": "markdown",
   "metadata": {},
   "source": [
    "### 2.2 NOC가 KOR인 선수들 별 출전 횟수를 출력하시오.\n"
   ]
  },
  {
   "cell_type": "code",
   "execution_count": 98,
   "metadata": {},
   "outputs": [],
   "source": [
    "O_KOR=Olympic[Olympic[\"NOC\"]==\"KOR\"]"
   ]
  },
  {
   "cell_type": "code",
   "execution_count": 101,
   "metadata": {},
   "outputs": [
    {
     "data": {
      "text/plain": [
       "(615, 9)"
      ]
     },
     "execution_count": 101,
     "metadata": {},
     "output_type": "execute_result"
    }
   ],
   "source": [
    "O_KOR.shape"
   ]
  },
  {
   "cell_type": "code",
   "execution_count": 104,
   "metadata": {},
   "outputs": [
    {
     "data": {
      "text/plain": [
       "Lee Seung-Hun     5\n",
       "Mo Tae-Beom       4\n",
       "Shim Seok-Hui     4\n",
       "Kim Jong-Hyeon    4\n",
       "Park Seung-Hui    4\n",
       "Lee Sang-Hwa      4\n",
       "Jin Jong-O        3\n",
       "Lee Yong-Dae      3\n",
       "Gu Bon-Gil        3\n",
       "Nam Hyeon-Hui     3\n",
       "Name: Name, dtype: int64"
      ]
     },
     "execution_count": 104,
     "metadata": {},
     "output_type": "execute_result"
    }
   ],
   "source": [
    "O_KOR[\"Name\"].value_counts().head(10)"
   ]
  },
  {
   "cell_type": "markdown",
   "metadata": {},
   "source": [
    "### 2.3 Year가 2012이고 NOC가 KOR이며 Medal은 Gold인 선수들의 이름,나이,성별,키,몸무게,메달 을 출력하시오.\n"
   ]
  },
  {
   "cell_type": "code",
   "execution_count": 131,
   "metadata": {},
   "outputs": [],
   "source": [
    "O_ob=O_KOR[(O_KOR[\"Year\"]==2012) & (O_KOR[\"Medal\"]==\"Gold\")][[\"Name\",\"Sex\",\"Age\",\"Height\",\"Weight\",\"Medal\"]]\n",
    "O_ob=O_KOR[O_KOR[\"Year\"]==2012][Olympic[\"Medal\"]==\"Gold\"][[\"Name\",\"Sex\",\"Age\",\"Height\",\"Weight\",\"Medal\"]]"
   ]
  },
  {
   "cell_type": "code",
   "execution_count": 132,
   "metadata": {},
   "outputs": [],
   "source": [
    "O_ob=O_ob.reset_index(drop=True)"
   ]
  },
  {
   "cell_type": "code",
   "execution_count": 133,
   "metadata": {},
   "outputs": [
    {
     "data": {
      "text/html": [
       "<div>\n",
       "<style scoped>\n",
       "    .dataframe tbody tr th:only-of-type {\n",
       "        vertical-align: middle;\n",
       "    }\n",
       "\n",
       "    .dataframe tbody tr th {\n",
       "        vertical-align: top;\n",
       "    }\n",
       "\n",
       "    .dataframe thead th {\n",
       "        text-align: right;\n",
       "    }\n",
       "</style>\n",
       "<table border=\"1\" class=\"dataframe\">\n",
       "  <thead>\n",
       "    <tr style=\"text-align: right;\">\n",
       "      <th></th>\n",
       "      <th>Name</th>\n",
       "      <th>Sex</th>\n",
       "      <th>Age</th>\n",
       "      <th>Height</th>\n",
       "      <th>Weight</th>\n",
       "      <th>Medal</th>\n",
       "    </tr>\n",
       "  </thead>\n",
       "  <tbody>\n",
       "    <tr>\n",
       "      <th>0</th>\n",
       "      <td>Choi Hyeon-Ju</td>\n",
       "      <td>F</td>\n",
       "      <td>27</td>\n",
       "      <td>172</td>\n",
       "      <td>65.0</td>\n",
       "      <td>Gold</td>\n",
       "    </tr>\n",
       "    <tr>\n",
       "      <th>1</th>\n",
       "      <td>Gu Bon-Gil</td>\n",
       "      <td>M</td>\n",
       "      <td>23</td>\n",
       "      <td>182</td>\n",
       "      <td>70.0</td>\n",
       "      <td>Gold</td>\n",
       "    </tr>\n",
       "    <tr>\n",
       "      <th>2</th>\n",
       "      <td>Hwang Gyeong-Seon</td>\n",
       "      <td>F</td>\n",
       "      <td>26</td>\n",
       "      <td>175</td>\n",
       "      <td>67.0</td>\n",
       "      <td>Gold</td>\n",
       "    </tr>\n",
       "    <tr>\n",
       "      <th>3</th>\n",
       "      <td>Jin Jong-O</td>\n",
       "      <td>M</td>\n",
       "      <td>32</td>\n",
       "      <td>175</td>\n",
       "      <td>78.0</td>\n",
       "      <td>Gold</td>\n",
       "    </tr>\n",
       "    <tr>\n",
       "      <th>4</th>\n",
       "      <td>Ki Bo-Bae</td>\n",
       "      <td>F</td>\n",
       "      <td>24</td>\n",
       "      <td>167</td>\n",
       "      <td>57.0</td>\n",
       "      <td>Gold</td>\n",
       "    </tr>\n",
       "  </tbody>\n",
       "</table>\n",
       "</div>"
      ],
      "text/plain": [
       "                Name Sex  Age  Height  Weight Medal\n",
       "0      Choi Hyeon-Ju   F   27     172    65.0  Gold\n",
       "1         Gu Bon-Gil   M   23     182    70.0  Gold\n",
       "2  Hwang Gyeong-Seon   F   26     175    67.0  Gold\n",
       "3         Jin Jong-O   M   32     175    78.0  Gold\n",
       "4          Ki Bo-Bae   F   24     167    57.0  Gold"
      ]
     },
     "execution_count": 133,
     "metadata": {},
     "output_type": "execute_result"
    }
   ],
   "source": [
    "O_ob.head(5)"
   ]
  },
  {
   "cell_type": "code",
   "execution_count": 139,
   "metadata": {},
   "outputs": [
    {
     "data": {
      "text/html": [
       "<div>\n",
       "<style scoped>\n",
       "    .dataframe tbody tr th:only-of-type {\n",
       "        vertical-align: middle;\n",
       "    }\n",
       "\n",
       "    .dataframe tbody tr th {\n",
       "        vertical-align: top;\n",
       "    }\n",
       "\n",
       "    .dataframe thead th {\n",
       "        text-align: right;\n",
       "    }\n",
       "</style>\n",
       "<table border=\"1\" class=\"dataframe\">\n",
       "  <thead>\n",
       "    <tr style=\"text-align: right;\">\n",
       "      <th></th>\n",
       "      <th>Age</th>\n",
       "      <th>Height</th>\n",
       "      <th>Weight</th>\n",
       "    </tr>\n",
       "  </thead>\n",
       "  <tbody>\n",
       "    <tr>\n",
       "      <th>count</th>\n",
       "      <td>16.000000</td>\n",
       "      <td>16.000000</td>\n",
       "      <td>16.000000</td>\n",
       "    </tr>\n",
       "    <tr>\n",
       "      <th>mean</th>\n",
       "      <td>26.312500</td>\n",
       "      <td>173.312500</td>\n",
       "      <td>70.312500</td>\n",
       "    </tr>\n",
       "    <tr>\n",
       "      <th>std</th>\n",
       "      <td>4.126641</td>\n",
       "      <td>7.997656</td>\n",
       "      <td>12.757841</td>\n",
       "    </tr>\n",
       "    <tr>\n",
       "      <th>min</th>\n",
       "      <td>19.000000</td>\n",
       "      <td>159.000000</td>\n",
       "      <td>53.000000</td>\n",
       "    </tr>\n",
       "    <tr>\n",
       "      <th>25%</th>\n",
       "      <td>23.750000</td>\n",
       "      <td>166.500000</td>\n",
       "      <td>63.000000</td>\n",
       "    </tr>\n",
       "    <tr>\n",
       "      <th>50%</th>\n",
       "      <td>27.000000</td>\n",
       "      <td>175.000000</td>\n",
       "      <td>68.500000</td>\n",
       "    </tr>\n",
       "    <tr>\n",
       "      <th>75%</th>\n",
       "      <td>29.250000</td>\n",
       "      <td>180.250000</td>\n",
       "      <td>78.000000</td>\n",
       "    </tr>\n",
       "    <tr>\n",
       "      <th>max</th>\n",
       "      <td>33.000000</td>\n",
       "      <td>182.000000</td>\n",
       "      <td>100.000000</td>\n",
       "    </tr>\n",
       "  </tbody>\n",
       "</table>\n",
       "</div>"
      ],
      "text/plain": [
       "             Age      Height      Weight\n",
       "count  16.000000   16.000000   16.000000\n",
       "mean   26.312500  173.312500   70.312500\n",
       "std     4.126641    7.997656   12.757841\n",
       "min    19.000000  159.000000   53.000000\n",
       "25%    23.750000  166.500000   63.000000\n",
       "50%    27.000000  175.000000   68.500000\n",
       "75%    29.250000  180.250000   78.000000\n",
       "max    33.000000  182.000000  100.000000"
      ]
     },
     "execution_count": 139,
     "metadata": {},
     "output_type": "execute_result"
    }
   ],
   "source": [
    "O_ob.describe()"
   ]
  },
  {
   "cell_type": "markdown",
   "metadata": {},
   "source": [
    "### 2.4 Medal이 Gold, Silver이며 NOC가 KOR,USA,CHN인 데이터만 head()로 출력하시오.\n"
   ]
  },
  {
   "cell_type": "code",
   "execution_count": 14,
   "metadata": {},
   "outputs": [
    {
     "data": {
      "text/plain": [
       "None      30004\n",
       "Bronze     1729\n",
       "Gold       1647\n",
       "Silver     1638\n",
       "Name: Medal, dtype: int64"
      ]
     },
     "execution_count": 14,
     "metadata": {},
     "output_type": "execute_result"
    }
   ],
   "source": [
    "Olympic[\"Medal\"].value_counts()"
   ]
  },
  {
   "cell_type": "code",
   "execution_count": 15,
   "metadata": {},
   "outputs": [],
   "source": [
    "Ol_M=Olympic[(Olympic[\"Medal\"]== \"Gold\") |(Olympic[\"Medal\"]== \"Silver\")]"
   ]
  },
  {
   "cell_type": "code",
   "execution_count": 21,
   "metadata": {
    "scrolled": true
   },
   "outputs": [
    {
     "data": {
      "text/html": [
       "<div>\n",
       "<style scoped>\n",
       "    .dataframe tbody tr th:only-of-type {\n",
       "        vertical-align: middle;\n",
       "    }\n",
       "\n",
       "    .dataframe tbody tr th {\n",
       "        vertical-align: top;\n",
       "    }\n",
       "\n",
       "    .dataframe thead th {\n",
       "        text-align: right;\n",
       "    }\n",
       "</style>\n",
       "<table border=\"1\" class=\"dataframe\">\n",
       "  <thead>\n",
       "    <tr style=\"text-align: right;\">\n",
       "      <th></th>\n",
       "      <th>Name</th>\n",
       "      <th>Sex</th>\n",
       "      <th>Age</th>\n",
       "      <th>Height</th>\n",
       "      <th>Weight</th>\n",
       "      <th>Team</th>\n",
       "      <th>NOC</th>\n",
       "      <th>Year</th>\n",
       "      <th>Medal</th>\n",
       "    </tr>\n",
       "  </thead>\n",
       "  <tbody>\n",
       "    <tr>\n",
       "      <th>266</th>\n",
       "      <td>Nathan Ghar-Jun Adrian</td>\n",
       "      <td>M</td>\n",
       "      <td>23</td>\n",
       "      <td>198</td>\n",
       "      <td>100.0</td>\n",
       "      <td>United States</td>\n",
       "      <td>USA</td>\n",
       "      <td>2012</td>\n",
       "      <td>Gold</td>\n",
       "    </tr>\n",
       "    <tr>\n",
       "      <th>267</th>\n",
       "      <td>Nathan Ghar-Jun Adrian</td>\n",
       "      <td>M</td>\n",
       "      <td>23</td>\n",
       "      <td>198</td>\n",
       "      <td>100.0</td>\n",
       "      <td>United States</td>\n",
       "      <td>USA</td>\n",
       "      <td>2012</td>\n",
       "      <td>Silver</td>\n",
       "    </tr>\n",
       "    <tr>\n",
       "      <th>268</th>\n",
       "      <td>Nathan Ghar-Jun Adrian</td>\n",
       "      <td>M</td>\n",
       "      <td>23</td>\n",
       "      <td>198</td>\n",
       "      <td>100.0</td>\n",
       "      <td>United States</td>\n",
       "      <td>USA</td>\n",
       "      <td>2012</td>\n",
       "      <td>Gold</td>\n",
       "    </tr>\n",
       "    <tr>\n",
       "      <th>271</th>\n",
       "      <td>Nathan Ghar-Jun Adrian</td>\n",
       "      <td>M</td>\n",
       "      <td>27</td>\n",
       "      <td>198</td>\n",
       "      <td>100.0</td>\n",
       "      <td>United States</td>\n",
       "      <td>USA</td>\n",
       "      <td>2016</td>\n",
       "      <td>Gold</td>\n",
       "    </tr>\n",
       "    <tr>\n",
       "      <th>272</th>\n",
       "      <td>Nathan Ghar-Jun Adrian</td>\n",
       "      <td>M</td>\n",
       "      <td>27</td>\n",
       "      <td>198</td>\n",
       "      <td>100.0</td>\n",
       "      <td>United States</td>\n",
       "      <td>USA</td>\n",
       "      <td>2016</td>\n",
       "      <td>Gold</td>\n",
       "    </tr>\n",
       "  </tbody>\n",
       "</table>\n",
       "</div>"
      ],
      "text/plain": [
       "                       Name Sex  Age  Height  Weight           Team  NOC  \\\n",
       "266  Nathan Ghar-Jun Adrian   M   23     198   100.0  United States  USA   \n",
       "267  Nathan Ghar-Jun Adrian   M   23     198   100.0  United States  USA   \n",
       "268  Nathan Ghar-Jun Adrian   M   23     198   100.0  United States  USA   \n",
       "271  Nathan Ghar-Jun Adrian   M   27     198   100.0  United States  USA   \n",
       "272  Nathan Ghar-Jun Adrian   M   27     198   100.0  United States  USA   \n",
       "\n",
       "     Year   Medal  \n",
       "266  2012    Gold  \n",
       "267  2012  Silver  \n",
       "268  2012    Gold  \n",
       "271  2016    Gold  \n",
       "272  2016    Gold  "
      ]
     },
     "execution_count": 21,
     "metadata": {},
     "output_type": "execute_result"
    }
   ],
   "source": [
    "Ol_M[(Ol_M[\"NOC\"]==\"KOR\") | (Ol_M[\"NOC\"]==\"USA\") | (Ol_M[\"NOC\"]==\"CHN\")].head()"
   ]
  },
  {
   "cell_type": "markdown",
   "metadata": {},
   "source": [
    "# 문제 3. 데이터 시각화\n"
   ]
  },
  {
   "cell_type": "code",
   "execution_count": 22,
   "metadata": {},
   "outputs": [
    {
     "data": {
      "text/html": [
       "<div>\n",
       "<style scoped>\n",
       "    .dataframe tbody tr th:only-of-type {\n",
       "        vertical-align: middle;\n",
       "    }\n",
       "\n",
       "    .dataframe tbody tr th {\n",
       "        vertical-align: top;\n",
       "    }\n",
       "\n",
       "    .dataframe thead th {\n",
       "        text-align: right;\n",
       "    }\n",
       "</style>\n",
       "<table border=\"1\" class=\"dataframe\">\n",
       "  <thead>\n",
       "    <tr style=\"text-align: right;\">\n",
       "      <th></th>\n",
       "      <th>Name</th>\n",
       "      <th>Sex</th>\n",
       "      <th>Age</th>\n",
       "      <th>Height</th>\n",
       "      <th>Weight</th>\n",
       "      <th>Team</th>\n",
       "      <th>NOC</th>\n",
       "      <th>Year</th>\n",
       "      <th>Medal</th>\n",
       "    </tr>\n",
       "  </thead>\n",
       "  <tbody>\n",
       "    <tr>\n",
       "      <th>0</th>\n",
       "      <td>Luc Abalo</td>\n",
       "      <td>M</td>\n",
       "      <td>27</td>\n",
       "      <td>182</td>\n",
       "      <td>86.0</td>\n",
       "      <td>France</td>\n",
       "      <td>FRA</td>\n",
       "      <td>2012</td>\n",
       "      <td>Gold</td>\n",
       "    </tr>\n",
       "    <tr>\n",
       "      <th>1</th>\n",
       "      <td>Luc Abalo</td>\n",
       "      <td>M</td>\n",
       "      <td>31</td>\n",
       "      <td>182</td>\n",
       "      <td>86.0</td>\n",
       "      <td>France</td>\n",
       "      <td>FRA</td>\n",
       "      <td>2016</td>\n",
       "      <td>Silver</td>\n",
       "    </tr>\n",
       "    <tr>\n",
       "      <th>2</th>\n",
       "      <td>Jeremy Abbott</td>\n",
       "      <td>M</td>\n",
       "      <td>28</td>\n",
       "      <td>175</td>\n",
       "      <td>70.0</td>\n",
       "      <td>United States</td>\n",
       "      <td>USA</td>\n",
       "      <td>2014</td>\n",
       "      <td>Bronze</td>\n",
       "    </tr>\n",
       "    <tr>\n",
       "      <th>3</th>\n",
       "      <td>Jennifer Abel</td>\n",
       "      <td>F</td>\n",
       "      <td>20</td>\n",
       "      <td>160</td>\n",
       "      <td>62.0</td>\n",
       "      <td>Canada</td>\n",
       "      <td>CAN</td>\n",
       "      <td>2012</td>\n",
       "      <td>Bronze</td>\n",
       "    </tr>\n",
       "    <tr>\n",
       "      <th>4</th>\n",
       "      <td>Denis Mikhaylovich Ablyazin</td>\n",
       "      <td>M</td>\n",
       "      <td>19</td>\n",
       "      <td>161</td>\n",
       "      <td>62.0</td>\n",
       "      <td>Russia</td>\n",
       "      <td>RUS</td>\n",
       "      <td>2012</td>\n",
       "      <td>Bronze</td>\n",
       "    </tr>\n",
       "  </tbody>\n",
       "</table>\n",
       "</div>"
      ],
      "text/plain": [
       "                          Name Sex  Age  Height  Weight           Team  NOC  \\\n",
       "0                    Luc Abalo   M   27     182    86.0         France  FRA   \n",
       "1                    Luc Abalo   M   31     182    86.0         France  FRA   \n",
       "2                Jeremy Abbott   M   28     175    70.0  United States  USA   \n",
       "3                Jennifer Abel   F   20     160    62.0         Canada  CAN   \n",
       "4  Denis Mikhaylovich Ablyazin   M   19     161    62.0         Russia  RUS   \n",
       "\n",
       "   Year   Medal  \n",
       "0  2012    Gold  \n",
       "1  2016  Silver  \n",
       "2  2014  Bronze  \n",
       "3  2012  Bronze  \n",
       "4  2012  Bronze  "
      ]
     },
     "execution_count": 22,
     "metadata": {},
     "output_type": "execute_result"
    }
   ],
   "source": [
    "Olympic_viz = pd.read_csv('../data/Olympic_viz.csv')\n",
    "Olympic_viz.head()"
   ]
  },
  {
   "cell_type": "code",
   "execution_count": 28,
   "metadata": {},
   "outputs": [
    {
     "name": "stdout",
     "output_type": "stream",
     "text": [
      "<class 'pandas.core.frame.DataFrame'>\n",
      "RangeIndex: 2790 entries, 0 to 2789\n",
      "Data columns (total 9 columns):\n",
      " #   Column  Non-Null Count  Dtype  \n",
      "---  ------  --------------  -----  \n",
      " 0   Name    2790 non-null   object \n",
      " 1   Sex     2790 non-null   object \n",
      " 2   Age     2790 non-null   int64  \n",
      " 3   Height  2790 non-null   int64  \n",
      " 4   Weight  2790 non-null   float64\n",
      " 5   Team    2790 non-null   object \n",
      " 6   NOC     2790 non-null   object \n",
      " 7   Year    2790 non-null   int64  \n",
      " 8   Medal   2790 non-null   object \n",
      "dtypes: float64(1), int64(3), object(5)\n",
      "memory usage: 196.3+ KB\n"
     ]
    }
   ],
   "source": [
    "Olympic_viz.info()"
   ]
  },
  {
   "cell_type": "code",
   "execution_count": 23,
   "metadata": {
    "scrolled": true
   },
   "outputs": [
    {
     "data": {
      "text/html": [
       "<div>\n",
       "<style scoped>\n",
       "    .dataframe tbody tr th:only-of-type {\n",
       "        vertical-align: middle;\n",
       "    }\n",
       "\n",
       "    .dataframe tbody tr th {\n",
       "        vertical-align: top;\n",
       "    }\n",
       "\n",
       "    .dataframe thead th {\n",
       "        text-align: right;\n",
       "    }\n",
       "</style>\n",
       "<table border=\"1\" class=\"dataframe\">\n",
       "  <thead>\n",
       "    <tr style=\"text-align: right;\">\n",
       "      <th></th>\n",
       "      <th>Age</th>\n",
       "      <th>Height</th>\n",
       "      <th>Weight</th>\n",
       "      <th>Year</th>\n",
       "    </tr>\n",
       "  </thead>\n",
       "  <tbody>\n",
       "    <tr>\n",
       "      <th>count</th>\n",
       "      <td>2790.000000</td>\n",
       "      <td>2790.000000</td>\n",
       "      <td>2790.000000</td>\n",
       "      <td>2790.000000</td>\n",
       "    </tr>\n",
       "    <tr>\n",
       "      <th>mean</th>\n",
       "      <td>26.136559</td>\n",
       "      <td>177.822581</td>\n",
       "      <td>73.176165</td>\n",
       "      <td>2013.547670</td>\n",
       "    </tr>\n",
       "    <tr>\n",
       "      <th>std</th>\n",
       "      <td>5.085112</td>\n",
       "      <td>11.325099</td>\n",
       "      <td>15.367561</td>\n",
       "      <td>2.178249</td>\n",
       "    </tr>\n",
       "    <tr>\n",
       "      <th>min</th>\n",
       "      <td>15.000000</td>\n",
       "      <td>140.000000</td>\n",
       "      <td>33.000000</td>\n",
       "      <td>2010.000000</td>\n",
       "    </tr>\n",
       "    <tr>\n",
       "      <th>25%</th>\n",
       "      <td>23.000000</td>\n",
       "      <td>170.000000</td>\n",
       "      <td>62.000000</td>\n",
       "      <td>2012.000000</td>\n",
       "    </tr>\n",
       "    <tr>\n",
       "      <th>50%</th>\n",
       "      <td>26.000000</td>\n",
       "      <td>178.000000</td>\n",
       "      <td>72.000000</td>\n",
       "      <td>2014.000000</td>\n",
       "    </tr>\n",
       "    <tr>\n",
       "      <th>75%</th>\n",
       "      <td>29.000000</td>\n",
       "      <td>185.000000</td>\n",
       "      <td>82.000000</td>\n",
       "      <td>2016.000000</td>\n",
       "    </tr>\n",
       "    <tr>\n",
       "      <th>max</th>\n",
       "      <td>58.000000</td>\n",
       "      <td>219.000000</td>\n",
       "      <td>160.000000</td>\n",
       "      <td>2016.000000</td>\n",
       "    </tr>\n",
       "  </tbody>\n",
       "</table>\n",
       "</div>"
      ],
      "text/plain": [
       "               Age       Height       Weight         Year\n",
       "count  2790.000000  2790.000000  2790.000000  2790.000000\n",
       "mean     26.136559   177.822581    73.176165  2013.547670\n",
       "std       5.085112    11.325099    15.367561     2.178249\n",
       "min      15.000000   140.000000    33.000000  2010.000000\n",
       "25%      23.000000   170.000000    62.000000  2012.000000\n",
       "50%      26.000000   178.000000    72.000000  2014.000000\n",
       "75%      29.000000   185.000000    82.000000  2016.000000\n",
       "max      58.000000   219.000000   160.000000  2016.000000"
      ]
     },
     "execution_count": 23,
     "metadata": {},
     "output_type": "execute_result"
    }
   ],
   "source": [
    "Olympic_viz.describe()"
   ]
  },
  {
   "cell_type": "code",
   "execution_count": 32,
   "metadata": {
    "scrolled": true
   },
   "outputs": [],
   "source": [
    "Ol_G=Olympic.groupby(\"NOC\")"
   ]
  },
  {
   "cell_type": "code",
   "execution_count": 34,
   "metadata": {},
   "outputs": [
    {
     "ename": "AttributeError",
     "evalue": "'DataFrameGroupBy' object has no attribute 'value_counts'",
     "output_type": "error",
     "traceback": [
      "\u001b[1;31m---------------------------------------------------------------------------\u001b[0m",
      "\u001b[1;31mAttributeError\u001b[0m                            Traceback (most recent call last)",
      "\u001b[1;32m<ipython-input-34-ac29a2ebb07c>\u001b[0m in \u001b[0;36m<module>\u001b[1;34m\u001b[0m\n\u001b[1;32m----> 1\u001b[1;33m \u001b[0mOl_G\u001b[0m\u001b[1;33m.\u001b[0m\u001b[0mvalue_counts\u001b[0m\u001b[1;33m(\u001b[0m\u001b[1;34m\"Medal\"\u001b[0m\u001b[1;33m)\u001b[0m\u001b[1;33m\u001b[0m\u001b[1;33m\u001b[0m\u001b[0m\n\u001b[0m",
      "\u001b[1;32mC:\\ProgramData\\Anaconda3\\lib\\site-packages\\pandas\\core\\groupby\\groupby.py\u001b[0m in \u001b[0;36m__getattr__\u001b[1;34m(self, attr)\u001b[0m\n\u001b[0;32m    701\u001b[0m             \u001b[1;32mreturn\u001b[0m \u001b[0mself\u001b[0m\u001b[1;33m[\u001b[0m\u001b[0mattr\u001b[0m\u001b[1;33m]\u001b[0m\u001b[1;33m\u001b[0m\u001b[1;33m\u001b[0m\u001b[0m\n\u001b[0;32m    702\u001b[0m \u001b[1;33m\u001b[0m\u001b[0m\n\u001b[1;32m--> 703\u001b[1;33m         raise AttributeError(\n\u001b[0m\u001b[0;32m    704\u001b[0m             \u001b[1;34mf\"'{type(self).__name__}' object has no attribute '{attr}'\"\u001b[0m\u001b[1;33m\u001b[0m\u001b[1;33m\u001b[0m\u001b[0m\n\u001b[0;32m    705\u001b[0m         )\n",
      "\u001b[1;31mAttributeError\u001b[0m: 'DataFrameGroupBy' object has no attribute 'value_counts'"
     ]
    }
   ],
   "source": [
    "Ol_G.counts(\"Medal\")"
   ]
  },
  {
   "cell_type": "code",
   "execution_count": 35,
   "metadata": {},
   "outputs": [
    {
     "data": {
      "text/plain": [
       "Gold      1117\n",
       "Silver     858\n",
       "Bronze     815\n",
       "Name: Medal, dtype: int64"
      ]
     },
     "execution_count": 35,
     "metadata": {},
     "output_type": "execute_result"
    }
   ],
   "source": [
    "Olympic_viz[\"Medal\"].value_counts()\n",
    "#리스트 내의 모든 사람이 메달 수상"
   ]
  },
  {
   "cell_type": "code",
   "execution_count": 37,
   "metadata": {},
   "outputs": [
    {
     "data": {
      "image/png": "[encoded data removed]",
      "text/plain": [
       "<Figure size 640x480 with 1 Axes>"
      ]
     },
     "metadata": {},
     "output_type": "display_data"
    },
    {
     "data": {
      "text/plain": [
       "<ggplot: (161200431472)>"
      ]
     },
     "execution_count": 37,
     "metadata": {},
     "output_type": "execute_result"
    }
   ],
   "source": [
    "(ggplot(Olympic_viz,aes(x=\"NOC\", fill=\"Medal\")) + geom_bar(stat=\"count\"))"
   ]
  },
  {
   "cell_type": "markdown",
   "metadata": {},
   "source": [
    "### 3.2 Seaborn countplot을 이용하여 NOC별 메달 수를 높은순으로 다음과 같이 그리시오.\n"
   ]
  },
  {
   "cell_type": "code",
   "execution_count": 91,
   "metadata": {
    "scrolled": true
   },
   "outputs": [
    {
     "data": {
      "image/png": "[encoded data removed]",
      "text/plain": [
       "<Figure size 640x480 with 1 Axes>"
      ]
     },
     "metadata": {},
     "output_type": "display_data"
    },
    {
     "data": {
      "text/plain": [
       "<ggplot: (161201580421)>"
      ]
     },
     "execution_count": 91,
     "metadata": {},
     "output_type": "execute_result"
    }
   ],
   "source": [
    "I_NOC=list(Olympic_viz[\"NOC\"].value_counts().index)\n",
    "NOC_cat=pd.Categorical(Olympic_viz[\"NOC\"],categories=I_NOC)\n",
    "Olympic_viz[\"NOC_cat\"]=NOC_cat\n",
    "(ggplot(Olympic_viz,aes(x=\"NOC_cat\",fill=\"Medal\"))+ geom_bar(stat=\"count\"))"
   ]
  },
  {
   "cell_type": "code",
   "execution_count": 90,
   "metadata": {},
   "outputs": [
    {
     "data": {
      "image/png": "[encoded data removed]",
      "text/plain": [
       "<Figure size 640x480 with 1 Axes>"
      ]
     },
     "metadata": {},
     "output_type": "display_data"
    },
    {
     "data": {
      "text/plain": [
       "<ggplot: (161201623604)>"
      ]
     },
     "execution_count": 90,
     "metadata": {},
     "output_type": "execute_result"
    }
   ],
   "source": [
    "I_NOC=list(Olympic_viz[\"NOC\"].value_counts().index)[::-1]\n",
    "NOC_cat=pd.Categorical(Olympic_viz[\"NOC\"],I_NOC)\n",
    "Olympic_viz[\"NOC_cat\"]=NOC_cat\n",
    "(ggplot(Olympic_viz,aes(x=\"NOC_cat\", fill=\"Medal\")) + geom_bar(stat=\"count\")+ coord_flip())"
   ]
  },
  {
   "cell_type": "code",
   "execution_count": 96,
   "metadata": {
    "scrolled": true
   },
   "outputs": [
    {
     "data": {
      "image/png": "[encoded data removed]",
      "text/plain": [
       "<Figure size 640x480 with 1 Axes>"
      ]
     },
     "metadata": {},
     "output_type": "display_data"
    },
    {
     "data": {
      "text/plain": [
       "<ggplot: (161202051744)>"
      ]
     },
     "execution_count": 96,
     "metadata": {},
     "output_type": "execute_result"
    }
   ],
   "source": [
    "I_NOC=list(Olympic_viz[\"NOC\"].value_counts().index)[::-1]\n",
    "NOC_cat=pd.Categorical(Olympic_viz[\"NOC\"],I_NOC)\n",
    "Olympic_viz[\"NOC_cat\"]=NOC_cat\n",
    "(ggplot(Olympic_viz,aes(x=\"NOC_cat\", fill=\"Medal\")) + geom_bar(stat=\"count\"))"
   ]
  },
  {
   "cell_type": "markdown",
   "metadata": {},
   "source": [
    "### 3.5 NOC별 메달 수를 비율로 다음과 같이 출력 후 시각화 하시오.\n"
   ]
  },
  {
   "cell_type": "code",
   "execution_count": 216,
   "metadata": {},
   "outputs": [
    {
     "data": {
      "text/html": [
       "<div>\n",
       "<style scoped>\n",
       "    .dataframe tbody tr th:only-of-type {\n",
       "        vertical-align: middle;\n",
       "    }\n",
       "\n",
       "    .dataframe tbody tr th {\n",
       "        vertical-align: top;\n",
       "    }\n",
       "\n",
       "    .dataframe thead th {\n",
       "        text-align: right;\n",
       "    }\n",
       "</style>\n",
       "<table border=\"1\" class=\"dataframe\">\n",
       "  <thead>\n",
       "    <tr style=\"text-align: right;\">\n",
       "      <th>Medal</th>\n",
       "      <th>Bronze</th>\n",
       "      <th>Gold</th>\n",
       "      <th>Silver</th>\n",
       "    </tr>\n",
       "    <tr>\n",
       "      <th>NOC</th>\n",
       "      <th></th>\n",
       "      <th></th>\n",
       "      <th></th>\n",
       "    </tr>\n",
       "  </thead>\n",
       "  <tbody>\n",
       "    <tr>\n",
       "      <th>BRA</th>\n",
       "      <td>17</td>\n",
       "      <td>50</td>\n",
       "      <td>41</td>\n",
       "    </tr>\n",
       "    <tr>\n",
       "      <th>CAN</th>\n",
       "      <td>107</td>\n",
       "      <td>131</td>\n",
       "      <td>62</td>\n",
       "    </tr>\n",
       "    <tr>\n",
       "      <th>CHN</th>\n",
       "      <td>78</td>\n",
       "      <td>114</td>\n",
       "      <td>77</td>\n",
       "    </tr>\n",
       "    <tr>\n",
       "      <th>FRA</th>\n",
       "      <td>58</td>\n",
       "      <td>56</td>\n",
       "      <td>95</td>\n",
       "    </tr>\n",
       "    <tr>\n",
       "      <th>GBR</th>\n",
       "      <td>77</td>\n",
       "      <td>111</td>\n",
       "      <td>89</td>\n",
       "    </tr>\n",
       "    <tr>\n",
       "      <th>GER</th>\n",
       "      <td>113</td>\n",
       "      <td>124</td>\n",
       "      <td>106</td>\n",
       "    </tr>\n",
       "    <tr>\n",
       "      <th>KOR</th>\n",
       "      <td>44</td>\n",
       "      <td>44</td>\n",
       "      <td>31</td>\n",
       "    </tr>\n",
       "    <tr>\n",
       "      <th>NED</th>\n",
       "      <td>47</td>\n",
       "      <td>47</td>\n",
       "      <td>62</td>\n",
       "    </tr>\n",
       "    <tr>\n",
       "      <th>RUS</th>\n",
       "      <td>111</td>\n",
       "      <td>135</td>\n",
       "      <td>91</td>\n",
       "    </tr>\n",
       "    <tr>\n",
       "      <th>USA</th>\n",
       "      <td>163</td>\n",
       "      <td>305</td>\n",
       "      <td>204</td>\n",
       "    </tr>\n",
       "  </tbody>\n",
       "</table>\n",
       "</div>"
      ],
      "text/plain": [
       "Medal  Bronze  Gold  Silver\n",
       "NOC                        \n",
       "BRA        17    50      41\n",
       "CAN       107   131      62\n",
       "CHN        78   114      77\n",
       "FRA        58    56      95\n",
       "GBR        77   111      89\n",
       "GER       113   124     106\n",
       "KOR        44    44      31\n",
       "NED        47    47      62\n",
       "RUS       111   135      91\n",
       "USA       163   305     204"
      ]
     },
     "execution_count": 216,
     "metadata": {},
     "output_type": "execute_result"
    }
   ],
   "source": [
    "ol_g=Olympic_viz.groupby([\"NOC\",\"Medal\"])\n",
    "ol_g.size().unstack()"
   ]
  },
  {
   "cell_type": "code",
   "execution_count": 217,
   "metadata": {},
   "outputs": [
    {
     "data": {
      "image/png": "[encoded data removed]",
      "text/plain": [
       "<Figure size 640x480 with 1 Axes>"
      ]
     },
     "metadata": {},
     "output_type": "display_data"
    },
    {
     "data": {
      "text/plain": [
       "<ggplot: (161204268978)>"
      ]
     },
     "execution_count": 217,
     "metadata": {},
     "output_type": "execute_result"
    }
   ],
   "source": [
    "(ggplot(Olympic_viz, aes(\"NOC\", fill = \"Medal\")) +\n",
    "    geom_bar(position = \"fill\"))"
   ]
  },
  {
   "cell_type": "code",
   "execution_count": 218,
   "metadata": {
    "scrolled": true
   },
   "outputs": [
    {
     "name": "stdout",
     "output_type": "stream",
     "text": [
      "USA    672\n",
      "GER    343\n",
      "RUS    337\n",
      "CAN    300\n",
      "GBR    277\n",
      "CHN    269\n",
      "FRA    209\n",
      "NED    156\n",
      "KOR    119\n",
      "BRA    108\n",
      "Name: NOC, dtype: int64\n"
     ]
    }
   ],
   "source": [
    "NOC_Medal=Olympic_viz[\"NOC\"].value_counts()\n",
    "print(NOC_Medal)"
   ]
  },
  {
   "cell_type": "code",
   "execution_count": 219,
   "metadata": {
    "scrolled": true
   },
   "outputs": [
    {
     "name": "stdout",
     "output_type": "stream",
     "text": [
      "    Medal       USA\n",
      "0    Gold  0.453869\n",
      "1  Silver  0.303571\n",
      "2  Bronze  0.242560\n",
      "    Medal       GER\n",
      "0    Gold  0.361516\n",
      "1  Silver  0.309038\n",
      "2  Bronze  0.329446\n",
      "    Medal       RUS\n",
      "0    Gold  0.400593\n",
      "1  Silver  0.270030\n",
      "2  Bronze  0.329377\n",
      "    Medal       CAN\n",
      "0    Gold  0.436667\n",
      "1  Silver  0.206667\n",
      "2  Bronze  0.356667\n",
      "    Medal       GBR\n",
      "0    Gold  0.400722\n",
      "1  Silver  0.321300\n",
      "2  Bronze  0.277978\n",
      "    Medal       CHN\n",
      "0    Gold  0.423792\n",
      "1  Silver  0.286245\n",
      "2  Bronze  0.289963\n",
      "    Medal       FRA\n",
      "0    Gold  0.267943\n",
      "1  Silver  0.454545\n",
      "2  Bronze  0.277512\n",
      "    Medal       NED\n",
      "0    Gold  0.301282\n",
      "1  Silver  0.397436\n",
      "2  Bronze  0.301282\n",
      "    Medal       KOR\n",
      "0    Gold  0.369748\n",
      "1  Silver  0.260504\n",
      "2  Bronze  0.369748\n",
      "    Medal       BRA\n",
      "0    Gold  0.462963\n",
      "1  Silver  0.379630\n",
      "2  Bronze  0.157407\n"
     ]
    }
   ],
   "source": [
    "solve=pd.DataFrame({\"Medal\":[\"Gold\",\"Silver\",\"Bronze\"]})\n",
    "for i in list(Olympic_viz[\"NOC\"].value_counts().index):\n",
    "    a=Olympic_viz[Olympic_viz[\"NOC\"]== i][\"Medal\"].value_counts()/NOC_Medal[i]\n",
    "    df=pd.DataFrame({\"Medal\":[\"Gold\",\"Silver\",\"Bronze\"],i:[a[\"Gold\"],a[\"Silver\"],a[\"Bronze\"]]})\n",
    "    print(df)\n",
    "    solve=pd.merge(solve,df, on=\"Medal\", how = \"inner\")"
   ]
  },
  {
   "cell_type": "code",
   "execution_count": 221,
   "metadata": {},
   "outputs": [
    {
     "name": "stdout",
     "output_type": "stream",
     "text": [
      "    Medal       USA       GER       RUS       CAN       GBR       CHN  \\\n",
      "0    Gold  0.453869  0.361516  0.400593  0.436667  0.400722  0.423792   \n",
      "1  Silver  0.303571  0.309038  0.270030  0.206667  0.321300  0.286245   \n",
      "2  Bronze  0.242560  0.329446  0.329377  0.356667  0.277978  0.289963   \n",
      "\n",
      "        FRA       NED       KOR       BRA  \n",
      "0  0.267943  0.301282  0.369748  0.462963  \n",
      "1  0.454545  0.397436  0.260504  0.379630  \n",
      "2  0.277512  0.301282  0.369748  0.157407  \n"
     ]
    }
   ],
   "source": [
    "print(solve)"
   ]
  },
  {
   "cell_type": "code",
   "execution_count": 222,
   "metadata": {},
   "outputs": [],
   "source": [
    "solve=pd.concat([solve.stack()[0],solve.stack()[1],solve.stack()[2]],axis=1)"
   ]
  },
  {
   "cell_type": "code",
   "execution_count": 223,
   "metadata": {},
   "outputs": [
    {
     "data": {
      "text/plain": [
       "Index(['Medal', 'USA', 'GER', 'RUS', 'CAN', 'GBR', 'CHN', 'FRA', 'NED', 'KOR',\n",
       "       'BRA'],\n",
       "      dtype='object')"
      ]
     },
     "execution_count": 223,
     "metadata": {},
     "output_type": "execute_result"
    }
   ],
   "source": [
    "solve.index"
   ]
  },
  {
   "cell_type": "code",
   "execution_count": 224,
   "metadata": {},
   "outputs": [
    {
     "name": "stdout",
     "output_type": "stream",
     "text": [
      "<class 'pandas.core.frame.DataFrame'>\n"
     ]
    }
   ],
   "source": [
    "print(type(solve))"
   ]
  }
 ],
 "metadata": {
  "kernelspec": {
   "display_name": "Python 3",
   "language": "python",
   "name": "python3"
  },
  "language_info": {
   "codemirror_mode": {
    "name": "ipython",
    "version": 3
   },
   "file_extension": ".py",
   "mimetype": "text/x-python",
   "name": "python",
   "nbconvert_exporter": "python",
   "pygments_lexer": "ipython3",
   "version": "3.8.5"
  }
 },
 "nbformat": 4,
 "nbformat_minor": 4
}
