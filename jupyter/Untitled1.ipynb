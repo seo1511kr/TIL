{
 "cells": [
  {
   "cell_type": "code",
   "execution_count": 1,
   "metadata": {},
   "outputs": [],
   "source": [
    "from selenium import webdriver\n",
    "from bs4 import BeautifulSoup\n",
    "import urllib.request\n",
    "from selenium.webdriver.chrome.options import Options# 한국어 설정\n",
    "from selenium.webdriver.common.keys import Keys#엔터키\n",
    "import time"
   ]
  },
  {
   "cell_type": "code",
   "execution_count": 2,
   "metadata": {},
   "outputs": [
    {
     "name": "stderr",
     "output_type": "stream",
     "text": [
      "<ipython-input-2-82990fe1f604>:3: DeprecationWarning: use options instead of chrome_options\n",
      "  driver=webdriver.Chrome(\"c:/scrap/chromedriver.exe\",chrome_options=chrome_options)\n"
     ]
    }
   ],
   "source": [
    "chrome_options=webdriver.ChromeOptions()\n",
    "chrome_options.add_argument('lang=ko_KR')\n",
    "driver=webdriver.Chrome(\"c:/scrap/chromedriver.exe\",chrome_options=chrome_options)"
   ]
  },
  {
   "cell_type": "code",
   "execution_count": 4,
   "metadata": {},
   "outputs": [],
   "source": [
    "driver.get('https://namu.wiki/w/%EB%8F%99%EB%AC%BC%EC%83%81')\n",
    "html=driver.page_source\n",
    "soup=BeautifulSoup(html,'html.parser')\n"
   ]
  },
  {
   "cell_type": "code",
   "execution_count": null,
   "metadata": {},
   "outputs": [],
   "source": [
    "#app > div > div:nth-child(2) > article > div:nth-child(5) > div:nth-child(2) > div > div > h5:nth-child(9)\n",
    "soup.select('#app > div > div:nth-child(2) > article > div:nth-child(5) > div:nth-child(2) > div > div > div:nth-child(10) > div')\n",
    "\n",
    "#app > div > div:nth-child(2) > article > div:nth-child(5) > div:nth-child(2) > div > div > div:nth-child(10) > ul"
   ]
  }
 ],
 "metadata": {
  "kernelspec": {
   "display_name": "Python 3",
   "language": "python",
   "name": "python3"
  },
  "language_info": {
   "codemirror_mode": {
    "name": "ipython",
    "version": 3
   },
   "file_extension": ".py",
   "mimetype": "text/x-python",
   "name": "python",
   "nbconvert_exporter": "python",
   "pygments_lexer": "ipython3",
   "version": "3.8.5"
  }
 },
 "nbformat": 4,
 "nbformat_minor": 4
}
