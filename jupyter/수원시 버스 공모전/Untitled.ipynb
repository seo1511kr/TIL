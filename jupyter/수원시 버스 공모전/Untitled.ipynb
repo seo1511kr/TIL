{
 "cells": [
  {
   "cell_type": "code",
   "execution_count": 57,
   "metadata": {},
   "outputs": [],
   "source": [
    "import pandas as pd\n",
    "import copy"
   ]
  },
  {
   "cell_type": "code",
   "execution_count": 55,
   "metadata": {},
   "outputs": [],
   "source": [
    "traffic_origin=pd.read_csv(\"C:/Users/19178/Desktop\\suwoon/도로별 통행량/TMAP_DATA.csv\",header=None)"
   ]
  },
  {
   "cell_type": "code",
   "execution_count": 71,
   "metadata": {},
   "outputs": [],
   "source": [
    "traffic=copy.copy(traffic_origin)"
   ]
  },
  {
   "cell_type": "code",
   "execution_count": 59,
   "metadata": {},
   "outputs": [
    {
     "data": {
      "text/plain": [
       "(3146567, 6)"
      ]
     },
     "execution_count": 59,
     "metadata": {},
     "output_type": "execute_result"
    }
   ],
   "source": [
    "traffic.shape"
   ]
  },
  {
   "cell_type": "code",
   "execution_count": 60,
   "metadata": {},
   "outputs": [
    {
     "data": {
      "text/plain": [
       "Int64Index([0, 1, 2, 3, 4, 5], dtype='int64')"
      ]
     },
     "execution_count": 60,
     "metadata": {},
     "output_type": "execute_result"
    }
   ],
   "source": [
    "traffic.columns"
   ]
  },
  {
   "cell_type": "code",
   "execution_count": 17,
   "metadata": {},
   "outputs": [
    {
     "data": {
      "text/html": [
       "<div>\n",
       "<style scoped>\n",
       "    .dataframe tbody tr th:only-of-type {\n",
       "        vertical-align: middle;\n",
       "    }\n",
       "\n",
       "    .dataframe tbody tr th {\n",
       "        vertical-align: top;\n",
       "    }\n",
       "\n",
       "    .dataframe thead th {\n",
       "        text-align: right;\n",
       "    }\n",
       "</style>\n",
       "<table border=\"1\" class=\"dataframe\">\n",
       "  <thead>\n",
       "    <tr style=\"text-align: right;\">\n",
       "      <th></th>\n",
       "      <th>0</th>\n",
       "      <th>1</th>\n",
       "      <th>2</th>\n",
       "      <th>3</th>\n",
       "      <th>4</th>\n",
       "      <th>5</th>\n",
       "    </tr>\n",
       "  </thead>\n",
       "  <tbody>\n",
       "    <tr>\n",
       "      <th>0</th>\n",
       "      <td>201910310000</td>\n",
       "      <td>1000000301</td>\n",
       "      <td>151</td>\n",
       "      <td>27.39</td>\n",
       "      <td>19.84</td>\n",
       "      <td>5</td>\n",
       "    </tr>\n",
       "    <tr>\n",
       "      <th>1</th>\n",
       "      <td>201910310000</td>\n",
       "      <td>1000000302</td>\n",
       "      <td>105</td>\n",
       "      <td>27.39</td>\n",
       "      <td>13.80</td>\n",
       "      <td>5</td>\n",
       "    </tr>\n",
       "    <tr>\n",
       "      <th>2</th>\n",
       "      <td>201910310000</td>\n",
       "      <td>1000000303</td>\n",
       "      <td>67</td>\n",
       "      <td>27.39</td>\n",
       "      <td>8.80</td>\n",
       "      <td>5</td>\n",
       "    </tr>\n",
       "    <tr>\n",
       "      <th>3</th>\n",
       "      <td>201910310000</td>\n",
       "      <td>1000000401</td>\n",
       "      <td>151</td>\n",
       "      <td>17.52</td>\n",
       "      <td>31.02</td>\n",
       "      <td>9</td>\n",
       "    </tr>\n",
       "    <tr>\n",
       "      <th>4</th>\n",
       "      <td>201910310000</td>\n",
       "      <td>1000000402</td>\n",
       "      <td>105</td>\n",
       "      <td>17.52</td>\n",
       "      <td>21.57</td>\n",
       "      <td>9</td>\n",
       "    </tr>\n",
       "  </tbody>\n",
       "</table>\n",
       "</div>"
      ],
      "text/plain": [
       "              0           1    2      3      4  5\n",
       "0  201910310000  1000000301  151  27.39  19.84  5\n",
       "1  201910310000  1000000302  105  27.39  13.80  5\n",
       "2  201910310000  1000000303   67  27.39   8.80  5\n",
       "3  201910310000  1000000401  151  17.52  31.02  9\n",
       "4  201910310000  1000000402  105  17.52  21.57  9"
      ]
     },
     "execution_count": 17,
     "metadata": {},
     "output_type": "execute_result"
    }
   ],
   "source": [
    "traffic.head()"
   ]
  },
  {
   "cell_type": "code",
   "execution_count": 19,
   "metadata": {},
   "outputs": [],
   "source": [
    "note=pd.read_excel(\"C:/Users/19178/Desktop/suwoon/도로별 통행량/TR081900010001_v2.0.xlsx\")"
   ]
  },
  {
   "cell_type": "code",
   "execution_count": 21,
   "metadata": {},
   "outputs": [
    {
     "data": {
      "text/html": [
       "<div>\n",
       "<style scoped>\n",
       "    .dataframe tbody tr th:only-of-type {\n",
       "        vertical-align: middle;\n",
       "    }\n",
       "\n",
       "    .dataframe tbody tr th {\n",
       "        vertical-align: top;\n",
       "    }\n",
       "\n",
       "    .dataframe thead th {\n",
       "        text-align: right;\n",
       "    }\n",
       "</style>\n",
       "<table border=\"1\" class=\"dataframe\">\n",
       "  <thead>\n",
       "    <tr style=\"text-align: right;\">\n",
       "      <th></th>\n",
       "      <th>데이터셋</th>\n",
       "      <th>Unnamed: 1</th>\n",
       "      <th>Unnamed: 2</th>\n",
       "      <th>Unnamed: 3</th>\n",
       "      <th>Unnamed: 4</th>\n",
       "      <th>Unnamed: 5</th>\n",
       "      <th>Unnamed: 6</th>\n",
       "    </tr>\n",
       "  </thead>\n",
       "  <tbody>\n",
       "    <tr>\n",
       "      <th>7</th>\n",
       "      <td>NaN</td>\n",
       "      <td>NaN</td>\n",
       "      <td>NaN</td>\n",
       "      <td>NaN</td>\n",
       "      <td>NaN</td>\n",
       "      <td>NaN</td>\n",
       "      <td>NaN</td>\n",
       "    </tr>\n",
       "    <tr>\n",
       "      <th>8</th>\n",
       "      <td>테이블</td>\n",
       "      <td>NaN</td>\n",
       "      <td>NaN</td>\n",
       "      <td>NaN</td>\n",
       "      <td>NaN</td>\n",
       "      <td>NaN</td>\n",
       "      <td>NaN</td>\n",
       "    </tr>\n",
       "    <tr>\n",
       "      <th>9</th>\n",
       "      <td>테이블명(한글)</td>\n",
       "      <td>5분 단위 회전별 교통정보</td>\n",
       "      <td>NaN</td>\n",
       "      <td>NaN</td>\n",
       "      <td>테이블명(영문)</td>\n",
       "      <td>TB_COL_SK_TURN_INFO_KS</td>\n",
       "      <td>NaN</td>\n",
       "    </tr>\n",
       "    <tr>\n",
       "      <th>10</th>\n",
       "      <td>컬럼명(한글)</td>\n",
       "      <td>컬럼명(영문)</td>\n",
       "      <td>컬럼 설명</td>\n",
       "      <td>데이터 타입</td>\n",
       "      <td>코드값 여부</td>\n",
       "      <td>코드 테이블</td>\n",
       "      <td>비고</td>\n",
       "    </tr>\n",
       "    <tr>\n",
       "      <th>11</th>\n",
       "      <td>정보기준시각</td>\n",
       "      <td>base_dttm</td>\n",
       "      <td>yyyymmddhhmmss</td>\n",
       "      <td>TEXT</td>\n",
       "      <td>N</td>\n",
       "      <td>NaN</td>\n",
       "      <td>NaN</td>\n",
       "    </tr>\n",
       "    <tr>\n",
       "      <th>12</th>\n",
       "      <td>진입 표준링크 ID</td>\n",
       "      <td>ks_link_id</td>\n",
       "      <td>국가표준노드링크 기준 진입 링크ID</td>\n",
       "      <td>TEXT</td>\n",
       "      <td>N</td>\n",
       "      <td>NaN</td>\n",
       "      <td>NaN</td>\n",
       "    </tr>\n",
       "    <tr>\n",
       "      <th>13</th>\n",
       "      <td>진출 표준링크 ID</td>\n",
       "      <td>next_ks_link_id</td>\n",
       "      <td>국가표준노드링크 기준 진출(직진/좌/우회전) 링크ID</td>\n",
       "      <td>TEXT</td>\n",
       "      <td>N</td>\n",
       "      <td>NaN</td>\n",
       "      <td>NaN</td>\n",
       "    </tr>\n",
       "    <tr>\n",
       "      <th>14</th>\n",
       "      <td>평균통행시간 (sec)</td>\n",
       "      <td>travel_time</td>\n",
       "      <td>수집된 개별 통행정보의 평균 진입링크 통행 시간</td>\n",
       "      <td>INTEGER</td>\n",
       "      <td>N</td>\n",
       "      <td>NaN</td>\n",
       "      <td>NaN</td>\n",
       "    </tr>\n",
       "    <tr>\n",
       "      <th>15</th>\n",
       "      <td>평균통행속도 (km/h)</td>\n",
       "      <td>travel_speed</td>\n",
       "      <td>진입링크의 길이를 평균통행속도로 나눈 값</td>\n",
       "      <td>INTEGER</td>\n",
       "      <td>N</td>\n",
       "      <td>NaN</td>\n",
       "      <td>NaN</td>\n",
       "    </tr>\n",
       "    <tr>\n",
       "      <th>16</th>\n",
       "      <td>수량</td>\n",
       "      <td>travel_vol</td>\n",
       "      <td>수집 교통량</td>\n",
       "      <td>INTEGER</td>\n",
       "      <td>N</td>\n",
       "      <td>NaN</td>\n",
       "      <td>NaN</td>\n",
       "    </tr>\n",
       "  </tbody>\n",
       "</table>\n",
       "</div>"
      ],
      "text/plain": [
       "             데이터셋       Unnamed: 1                      Unnamed: 2 Unnamed: 3  \\\n",
       "7             NaN              NaN                             NaN        NaN   \n",
       "8             테이블              NaN                             NaN        NaN   \n",
       "9        테이블명(한글)   5분 단위 회전별 교통정보                             NaN        NaN   \n",
       "10        컬럼명(한글)          컬럼명(영문)                           컬럼 설명     데이터 타입   \n",
       "11         정보기준시각        base_dttm                  yyyymmddhhmmss       TEXT   \n",
       "12     진입 표준링크 ID       ks_link_id             국가표준노드링크 기준 진입 링크ID       TEXT   \n",
       "13     진출 표준링크 ID  next_ks_link_id   국가표준노드링크 기준 진출(직진/좌/우회전) 링크ID       TEXT   \n",
       "14   평균통행시간 (sec)      travel_time      수집된 개별 통행정보의 평균 진입링크 통행 시간    INTEGER   \n",
       "15  평균통행속도 (km/h)     travel_speed          진입링크의 길이를 평균통행속도로 나눈 값    INTEGER   \n",
       "16             수량       travel_vol                          수집 교통량    INTEGER   \n",
       "\n",
       "   Unnamed: 4              Unnamed: 5 Unnamed: 6  \n",
       "7         NaN                     NaN        NaN  \n",
       "8         NaN                     NaN        NaN  \n",
       "9    테이블명(영문)  TB_COL_SK_TURN_INFO_KS        NaN  \n",
       "10     코드값 여부                  코드 테이블         비고  \n",
       "11          N                     NaN        NaN  \n",
       "12          N                     NaN        NaN  \n",
       "13          N                     NaN        NaN  \n",
       "14          N                     NaN        NaN  \n",
       "15          N                     NaN        NaN  \n",
       "16          N                     NaN        NaN  "
      ]
     },
     "execution_count": 21,
     "metadata": {},
     "output_type": "execute_result"
    }
   ],
   "source": [
    "note.tail(10)"
   ]
  },
  {
   "cell_type": "code",
   "execution_count": 24,
   "metadata": {},
   "outputs": [],
   "source": [
    "col_info=note[10:]"
   ]
  },
  {
   "cell_type": "code",
   "execution_count": 32,
   "metadata": {},
   "outputs": [
    {
     "data": {
      "text/plain": [
       "array(['base_dttm', 'ks_link_id', 'next_ks_link_id', 'travel_time',\n",
       "       'travel_speed', 'travel_vol'], dtype=object)"
      ]
     },
     "execution_count": 32,
     "metadata": {},
     "output_type": "execute_result"
    }
   ],
   "source": [
    "col_info.iloc[:,1].values[1:]"
   ]
  },
  {
   "cell_type": "code",
   "execution_count": 73,
   "metadata": {},
   "outputs": [],
   "source": [
    "traffic.columns=col_info.iloc[:,1].values[1:]"
   ]
  },
  {
   "cell_type": "code",
   "execution_count": 62,
   "metadata": {},
   "outputs": [
    {
     "data": {
      "text/html": [
       "<div>\n",
       "<style scoped>\n",
       "    .dataframe tbody tr th:only-of-type {\n",
       "        vertical-align: middle;\n",
       "    }\n",
       "\n",
       "    .dataframe tbody tr th {\n",
       "        vertical-align: top;\n",
       "    }\n",
       "\n",
       "    .dataframe thead th {\n",
       "        text-align: right;\n",
       "    }\n",
       "</style>\n",
       "<table border=\"1\" class=\"dataframe\">\n",
       "  <thead>\n",
       "    <tr style=\"text-align: right;\">\n",
       "      <th></th>\n",
       "      <th>base_dttm</th>\n",
       "      <th>ks_link_id</th>\n",
       "      <th>next_ks_link_id</th>\n",
       "      <th>travel_time</th>\n",
       "      <th>travel_speed</th>\n",
       "      <th>travel_vol</th>\n",
       "    </tr>\n",
       "  </thead>\n",
       "  <tbody>\n",
       "    <tr>\n",
       "      <th>0</th>\n",
       "      <td>201910310000</td>\n",
       "      <td>1000000301</td>\n",
       "      <td>151</td>\n",
       "      <td>27.39</td>\n",
       "      <td>19.84</td>\n",
       "      <td>5</td>\n",
       "    </tr>\n",
       "    <tr>\n",
       "      <th>1</th>\n",
       "      <td>201910310000</td>\n",
       "      <td>1000000302</td>\n",
       "      <td>105</td>\n",
       "      <td>27.39</td>\n",
       "      <td>13.80</td>\n",
       "      <td>5</td>\n",
       "    </tr>\n",
       "    <tr>\n",
       "      <th>2</th>\n",
       "      <td>201910310000</td>\n",
       "      <td>1000000303</td>\n",
       "      <td>67</td>\n",
       "      <td>27.39</td>\n",
       "      <td>8.80</td>\n",
       "      <td>5</td>\n",
       "    </tr>\n",
       "    <tr>\n",
       "      <th>3</th>\n",
       "      <td>201910310000</td>\n",
       "      <td>1000000401</td>\n",
       "      <td>151</td>\n",
       "      <td>17.52</td>\n",
       "      <td>31.02</td>\n",
       "      <td>9</td>\n",
       "    </tr>\n",
       "    <tr>\n",
       "      <th>4</th>\n",
       "      <td>201910310000</td>\n",
       "      <td>1000000402</td>\n",
       "      <td>105</td>\n",
       "      <td>17.52</td>\n",
       "      <td>21.57</td>\n",
       "      <td>9</td>\n",
       "    </tr>\n",
       "  </tbody>\n",
       "</table>\n",
       "</div>"
      ],
      "text/plain": [
       "      base_dttm  ks_link_id  next_ks_link_id  travel_time  travel_speed  \\\n",
       "0  201910310000  1000000301              151        27.39         19.84   \n",
       "1  201910310000  1000000302              105        27.39         13.80   \n",
       "2  201910310000  1000000303               67        27.39          8.80   \n",
       "3  201910310000  1000000401              151        17.52         31.02   \n",
       "4  201910310000  1000000402              105        17.52         21.57   \n",
       "\n",
       "   travel_vol  \n",
       "0           5  \n",
       "1           5  \n",
       "2           5  \n",
       "3           9  \n",
       "4           9  "
      ]
     },
     "execution_count": 62,
     "metadata": {},
     "output_type": "execute_result"
    }
   ],
   "source": [
    "traffic.head(5)"
   ]
  },
  {
   "cell_type": "code",
   "execution_count": 37,
   "metadata": {},
   "outputs": [
    {
     "data": {
      "text/plain": [
       "13742"
      ]
     },
     "execution_count": 37,
     "metadata": {},
     "output_type": "execute_result"
    }
   ],
   "source": [
    "len(traffic.ks_link_id.unique())"
   ]
  },
  {
   "cell_type": "code",
   "execution_count": 38,
   "metadata": {},
   "outputs": [
    {
     "data": {
      "text/plain": [
       "1106"
      ]
     },
     "execution_count": 38,
     "metadata": {},
     "output_type": "execute_result"
    }
   ],
   "source": [
    "len(traffic.next_ks_link_id.unique())"
   ]
  },
  {
   "cell_type": "code",
   "execution_count": 39,
   "metadata": {},
   "outputs": [
    {
     "data": {
      "text/plain": [
       "<pandas.core.groupby.generic.DataFrameGroupBy object at 0x00000243BB682A00>"
      ]
     },
     "execution_count": 39,
     "metadata": {},
     "output_type": "execute_result"
    }
   ],
   "source": []
  },
  {
   "cell_type": "code",
   "execution_count": 41,
   "metadata": {},
   "outputs": [
    {
     "data": {
      "text/plain": [
       "base_dttm            int64\n",
       "ks_link_id           int64\n",
       "next_ks_link_id      int64\n",
       "travel_time        float64\n",
       "travel_speed       float64\n",
       "travel_vol           int64\n",
       "dtype: object"
      ]
     },
     "execution_count": 41,
     "metadata": {},
     "output_type": "execute_result"
    }
   ],
   "source": [
    "traffic.dtypes # 날짜 데이터 str로"
   ]
  },
  {
   "cell_type": "code",
   "execution_count": 74,
   "metadata": {},
   "outputs": [],
   "source": [
    "traffic.base_dttm=traffic.base_dttm.astype('str')"
   ]
  },
  {
   "cell_type": "code",
   "execution_count": 64,
   "metadata": {},
   "outputs": [
    {
     "data": {
      "text/plain": [
       "0    201910310000\n",
       "1    201910310000\n",
       "2    201910310000\n",
       "3    201910310000\n",
       "4    201910310000\n",
       "Name: base_dttm, dtype: object"
      ]
     },
     "execution_count": 64,
     "metadata": {},
     "output_type": "execute_result"
    }
   ],
   "source": [
    "traffic.base_dttm.head(5)"
   ]
  },
  {
   "cell_type": "code",
   "execution_count": 75,
   "metadata": {},
   "outputs": [],
   "source": [
    "traffic.base_dttm=pd.to_datetime(traffic.base_dttm,format='%Y%m%d%H%M')"
   ]
  },
  {
   "cell_type": "code",
   "execution_count": 76,
   "metadata": {},
   "outputs": [
    {
     "data": {
      "text/plain": [
       "base_dttm          datetime64[ns]\n",
       "ks_link_id                  int64\n",
       "next_ks_link_id             int64\n",
       "travel_time               float64\n",
       "travel_speed              float64\n",
       "travel_vol                  int64\n",
       "dtype: object"
      ]
     },
     "execution_count": 76,
     "metadata": {},
     "output_type": "execute_result"
    }
   ],
   "source": [
    "traffic.dtypes "
   ]
  },
  {
   "cell_type": "code",
   "execution_count": 80,
   "metadata": {},
   "outputs": [
    {
     "data": {
      "text/plain": [
       "0          2019\n",
       "1          2019\n",
       "2          2019\n",
       "3          2019\n",
       "4          2019\n",
       "           ... \n",
       "3146562    2019\n",
       "3146563    2019\n",
       "3146564    2019\n",
       "3146565    2019\n",
       "3146566    2019\n",
       "Name: base_dttm, Length: 3146567, dtype: int64"
      ]
     },
     "execution_count": 80,
     "metadata": {},
     "output_type": "execute_result"
    }
   ],
   "source": [
    "traffic.base_dttm.dt.year"
   ]
  },
  {
   "cell_type": "code",
   "execution_count": 53,
   "metadata": {},
   "outputs": [
    {
     "data": {
      "text/html": [
       "<div>\n",
       "<style scoped>\n",
       "    .dataframe tbody tr th:only-of-type {\n",
       "        vertical-align: middle;\n",
       "    }\n",
       "\n",
       "    .dataframe tbody tr th {\n",
       "        vertical-align: top;\n",
       "    }\n",
       "\n",
       "    .dataframe thead th {\n",
       "        text-align: right;\n",
       "    }\n",
       "</style>\n",
       "<table border=\"1\" class=\"dataframe\">\n",
       "  <thead>\n",
       "    <tr style=\"text-align: right;\">\n",
       "      <th></th>\n",
       "      <th></th>\n",
       "      <th>base_dttm</th>\n",
       "      <th>travel_time</th>\n",
       "      <th>travel_speed</th>\n",
       "      <th>travel_vol</th>\n",
       "    </tr>\n",
       "    <tr>\n",
       "      <th>ks_link_id</th>\n",
       "      <th>next_ks_link_id</th>\n",
       "      <th></th>\n",
       "      <th></th>\n",
       "      <th></th>\n",
       "      <th></th>\n",
       "    </tr>\n",
       "  </thead>\n",
       "  <tbody>\n",
       "    <tr>\n",
       "      <th>1000000301</th>\n",
       "      <th>151</th>\n",
       "      <td>278</td>\n",
       "      <td>278</td>\n",
       "      <td>278</td>\n",
       "      <td>278</td>\n",
       "    </tr>\n",
       "    <tr>\n",
       "      <th>1000000302</th>\n",
       "      <th>105</th>\n",
       "      <td>278</td>\n",
       "      <td>278</td>\n",
       "      <td>278</td>\n",
       "      <td>278</td>\n",
       "    </tr>\n",
       "    <tr>\n",
       "      <th>1000000303</th>\n",
       "      <th>67</th>\n",
       "      <td>278</td>\n",
       "      <td>278</td>\n",
       "      <td>278</td>\n",
       "      <td>278</td>\n",
       "    </tr>\n",
       "    <tr>\n",
       "      <th>1000000401</th>\n",
       "      <th>151</th>\n",
       "      <td>285</td>\n",
       "      <td>285</td>\n",
       "      <td>285</td>\n",
       "      <td>285</td>\n",
       "    </tr>\n",
       "    <tr>\n",
       "      <th>1000000402</th>\n",
       "      <th>105</th>\n",
       "      <td>285</td>\n",
       "      <td>285</td>\n",
       "      <td>285</td>\n",
       "      <td>285</td>\n",
       "    </tr>\n",
       "    <tr>\n",
       "      <th>...</th>\n",
       "      <th>...</th>\n",
       "      <td>...</td>\n",
       "      <td>...</td>\n",
       "      <td>...</td>\n",
       "      <td>...</td>\n",
       "    </tr>\n",
       "    <tr>\n",
       "      <th>1240217400</th>\n",
       "      <th>501</th>\n",
       "      <td>267</td>\n",
       "      <td>267</td>\n",
       "      <td>267</td>\n",
       "      <td>267</td>\n",
       "    </tr>\n",
       "    <tr>\n",
       "      <th>1240217500</th>\n",
       "      <th>385</th>\n",
       "      <td>259</td>\n",
       "      <td>259</td>\n",
       "      <td>259</td>\n",
       "      <td>259</td>\n",
       "    </tr>\n",
       "    <tr>\n",
       "      <th>1240217600</th>\n",
       "      <th>575</th>\n",
       "      <td>256</td>\n",
       "      <td>256</td>\n",
       "      <td>256</td>\n",
       "      <td>256</td>\n",
       "    </tr>\n",
       "    <tr>\n",
       "      <th>1240217700</th>\n",
       "      <th>247</th>\n",
       "      <td>259</td>\n",
       "      <td>259</td>\n",
       "      <td>259</td>\n",
       "      <td>259</td>\n",
       "    </tr>\n",
       "    <tr>\n",
       "      <th>1240217800</th>\n",
       "      <th>362</th>\n",
       "      <td>240</td>\n",
       "      <td>240</td>\n",
       "      <td>240</td>\n",
       "      <td>240</td>\n",
       "    </tr>\n",
       "  </tbody>\n",
       "</table>\n",
       "<p>13742 rows × 4 columns</p>\n",
       "</div>"
      ],
      "text/plain": [
       "                            base_dttm  travel_time  travel_speed  travel_vol\n",
       "ks_link_id next_ks_link_id                                                  \n",
       "1000000301 151                    278          278           278         278\n",
       "1000000302 105                    278          278           278         278\n",
       "1000000303 67                     278          278           278         278\n",
       "1000000401 151                    285          285           285         285\n",
       "1000000402 105                    285          285           285         285\n",
       "...                               ...          ...           ...         ...\n",
       "1240217400 501                    267          267           267         267\n",
       "1240217500 385                    259          259           259         259\n",
       "1240217600 575                    256          256           256         256\n",
       "1240217700 247                    259          259           259         259\n",
       "1240217800 362                    240          240           240         240\n",
       "\n",
       "[13742 rows x 4 columns]"
      ]
     },
     "execution_count": 53,
     "metadata": {},
     "output_type": "execute_result"
    }
   ],
   "source": [
    "traffic.groupby(['ks_link_id','next_ks_link_id']).count()"
   ]
  },
  {
   "cell_type": "code",
   "execution_count": 81,
   "metadata": {},
   "outputs": [
    {
     "data": {
      "text/html": [
       "<div>\n",
       "<style scoped>\n",
       "    .dataframe tbody tr th:only-of-type {\n",
       "        vertical-align: middle;\n",
       "    }\n",
       "\n",
       "    .dataframe tbody tr th {\n",
       "        vertical-align: top;\n",
       "    }\n",
       "\n",
       "    .dataframe thead th {\n",
       "        text-align: right;\n",
       "    }\n",
       "</style>\n",
       "<table border=\"1\" class=\"dataframe\">\n",
       "  <thead>\n",
       "    <tr style=\"text-align: right;\">\n",
       "      <th></th>\n",
       "      <th>base_dttm</th>\n",
       "      <th>ks_link_id</th>\n",
       "      <th>next_ks_link_id</th>\n",
       "      <th>travel_time</th>\n",
       "      <th>travel_speed</th>\n",
       "      <th>travel_vol</th>\n",
       "    </tr>\n",
       "  </thead>\n",
       "  <tbody>\n",
       "    <tr>\n",
       "      <th>3146557</th>\n",
       "      <td>2019-10-31 23:55:00</td>\n",
       "      <td>1240216900</td>\n",
       "      <td>202</td>\n",
       "      <td>54.88</td>\n",
       "      <td>13.25</td>\n",
       "      <td>9</td>\n",
       "    </tr>\n",
       "    <tr>\n",
       "      <th>3146558</th>\n",
       "      <td>2019-10-31 23:55:00</td>\n",
       "      <td>1240217000</td>\n",
       "      <td>159</td>\n",
       "      <td>52.22</td>\n",
       "      <td>10.96</td>\n",
       "      <td>3</td>\n",
       "    </tr>\n",
       "    <tr>\n",
       "      <th>3146559</th>\n",
       "      <td>2019-10-31 23:55:00</td>\n",
       "      <td>1240217100</td>\n",
       "      <td>693</td>\n",
       "      <td>44.00</td>\n",
       "      <td>56.70</td>\n",
       "      <td>1</td>\n",
       "    </tr>\n",
       "    <tr>\n",
       "      <th>3146560</th>\n",
       "      <td>2019-10-31 23:55:00</td>\n",
       "      <td>1240217200</td>\n",
       "      <td>429</td>\n",
       "      <td>55.00</td>\n",
       "      <td>28.08</td>\n",
       "      <td>1</td>\n",
       "    </tr>\n",
       "    <tr>\n",
       "      <th>3146561</th>\n",
       "      <td>2019-10-31 23:55:00</td>\n",
       "      <td>1240217300</td>\n",
       "      <td>536</td>\n",
       "      <td>44.00</td>\n",
       "      <td>43.85</td>\n",
       "      <td>1</td>\n",
       "    </tr>\n",
       "    <tr>\n",
       "      <th>3146562</th>\n",
       "      <td>2019-10-31 23:55:00</td>\n",
       "      <td>1240217400</td>\n",
       "      <td>501</td>\n",
       "      <td>44.00</td>\n",
       "      <td>40.99</td>\n",
       "      <td>3</td>\n",
       "    </tr>\n",
       "    <tr>\n",
       "      <th>3146563</th>\n",
       "      <td>2019-10-31 23:55:00</td>\n",
       "      <td>1240217500</td>\n",
       "      <td>385</td>\n",
       "      <td>44.00</td>\n",
       "      <td>31.50</td>\n",
       "      <td>8</td>\n",
       "    </tr>\n",
       "    <tr>\n",
       "      <th>3146564</th>\n",
       "      <td>2019-10-31 23:55:00</td>\n",
       "      <td>1240217600</td>\n",
       "      <td>575</td>\n",
       "      <td>55.00</td>\n",
       "      <td>37.64</td>\n",
       "      <td>5</td>\n",
       "    </tr>\n",
       "    <tr>\n",
       "      <th>3146565</th>\n",
       "      <td>2019-10-31 23:55:00</td>\n",
       "      <td>1240217700</td>\n",
       "      <td>247</td>\n",
       "      <td>43.30</td>\n",
       "      <td>20.53</td>\n",
       "      <td>3</td>\n",
       "    </tr>\n",
       "    <tr>\n",
       "      <th>3146566</th>\n",
       "      <td>2019-10-31 23:55:00</td>\n",
       "      <td>1240217800</td>\n",
       "      <td>362</td>\n",
       "      <td>44.00</td>\n",
       "      <td>29.62</td>\n",
       "      <td>3</td>\n",
       "    </tr>\n",
       "  </tbody>\n",
       "</table>\n",
       "</div>"
      ],
      "text/plain": [
       "                  base_dttm  ks_link_id  next_ks_link_id  travel_time  \\\n",
       "3146557 2019-10-31 23:55:00  1240216900              202        54.88   \n",
       "3146558 2019-10-31 23:55:00  1240217000              159        52.22   \n",
       "3146559 2019-10-31 23:55:00  1240217100              693        44.00   \n",
       "3146560 2019-10-31 23:55:00  1240217200              429        55.00   \n",
       "3146561 2019-10-31 23:55:00  1240217300              536        44.00   \n",
       "3146562 2019-10-31 23:55:00  1240217400              501        44.00   \n",
       "3146563 2019-10-31 23:55:00  1240217500              385        44.00   \n",
       "3146564 2019-10-31 23:55:00  1240217600              575        55.00   \n",
       "3146565 2019-10-31 23:55:00  1240217700              247        43.30   \n",
       "3146566 2019-10-31 23:55:00  1240217800              362        44.00   \n",
       "\n",
       "         travel_speed  travel_vol  \n",
       "3146557         13.25           9  \n",
       "3146558         10.96           3  \n",
       "3146559         56.70           1  \n",
       "3146560         28.08           1  \n",
       "3146561         43.85           1  \n",
       "3146562         40.99           3  \n",
       "3146563         31.50           8  \n",
       "3146564         37.64           5  \n",
       "3146565         20.53           3  \n",
       "3146566         29.62           3  "
      ]
     },
     "execution_count": 81,
     "metadata": {},
     "output_type": "execute_result"
    }
   ],
   "source": [
    "traffic.tail(10)"
   ]
  },
  {
   "cell_type": "code",
   "execution_count": null,
   "metadata": {},
   "outputs": [],
   "source": []
  }
 ],
 "metadata": {
  "kernelspec": {
   "display_name": "Python 3",
   "language": "python",
   "name": "python3"
  },
  "language_info": {
   "codemirror_mode": {
    "name": "ipython",
    "version": 3
   },
   "file_extension": ".py",
   "mimetype": "text/x-python",
   "name": "python",
   "nbconvert_exporter": "python",
   "pygments_lexer": "ipython3",
   "version": "3.8.5"
  }
 },
 "nbformat": 4,
 "nbformat_minor": 4
}
