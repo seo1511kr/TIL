{
 "cells": [
  {
   "cell_type": "code",
   "execution_count": 4,
   "metadata": {},
   "outputs": [],
   "source": [
    "from selenium import webdriver\n",
    "import time\n",
    "from bs4 import BeautifulSoup\n",
    "driver=webdriver.Chrome(\"c:/scrap/chromedriver.exe\")\n",
    "url=\"https://www.instagram.com/\"\n",
    "driver.get(url)\n"
   ]
  },
  {
   "cell_type": "code",
   "execution_count": 6,
   "metadata": {},
   "outputs": [],
   "source": [
    "joinBtn=\"#react-root > section > main > article > div.rgFsT > div:nth-child(2) > div > p > a > span\"\n",
    "driver.find_element_by_css_selector(joinBtn).click()"
   ]
  },
  {
   "cell_type": "code",
   "execution_count": 7,
   "metadata": {},
   "outputs": [],
   "source": [
    "mailBtn=\"#react-root > section > main > div > div > div:nth-child(1) > div > form > div:nth-child(4) > div > label > input\"\n",
    "nameBtn=\"#react-root > section > main > div > div > div:nth-child(1) > div > form > div:nth-child(5) > div > label > input\"\n",
    "idBtn=\"#react-root > section > main > div > div > div:nth-child(1) > div > form > div:nth-child(6) > div > label > input\"\n",
    "pwBtn=\"#react-root > section > main > div > div > div:nth-child(1) > div > form > div:nth-child(7) > div > label > input\"\n",
    "doBtn=\"#react-root > section > main > div > div > div:nth-child(1) > div > form > div:nth-child(8) > div\"\n"
   ]
  },
  {
   "cell_type": "code",
   "execution_count": 23,
   "metadata": {},
   "outputs": [],
   "source": [
    "inputMail=driver.find_element_by_css_selector(mailBtn)\n",
    "inputMail.clear()\n",
    "inputMail.send_keys(\"theremyart@gmail.com\")\n",
    "\n",
    "\n",
    "inputName=driver.find_element_by_css_selector(nameBtn)\n",
    "inputName.clear()\n",
    "inputName.send_keys(\"김민수\")\n",
    "\n",
    "\n",
    "inputId=driver.find_element_by_css_selector(idBtn)\n",
    "inputId.clear()\n",
    "inputId.send_keys(\"theremyart\")\n",
    "\n",
    "\n",
    "inputPw=driver.find_element_by_css_selector(pwBtn)\n",
    "inputPw.clear()\n",
    "inputPw.send_keys(\"dbsgh%464\")\n",
    "\n"
   ]
  },
  {
   "cell_type": "code",
   "execution_count": 24,
   "metadata": {},
   "outputs": [],
   "source": [
    "driver.find_element_by_css_selector(doBtn).click()\n"
   ]
  },
  {
   "cell_type": "code",
   "execution_count": 25,
   "metadata": {},
   "outputs": [],
   "source": [
    "month=\"#react-root > section > main > div > div > div:nth-child(1) > div > div.Igw0E.IwRSH.eGOV_._4EzTm.bkEs3.DhRcB > div > div > span > span:nth-child(1) > select\"\n",
    "day=\"#react-root > section > main > div > div > div:nth-child(1) > div > div.Igw0E.IwRSH.eGOV_._4EzTm.bkEs3.DhRcB > div > div > span > span:nth-child(2) > select\"\n",
    "year=\"#react-root > section > main > div > div > div:nth-child(1) > div > div.Igw0E.IwRSH.eGOV_._4EzTm.bkEs3.DhRcB > div > div > span > span:nth-child(3) > select\"\n",
    "doBtnn=\"#react-root > section > main > div > div > div:nth-child(1) > div > div.Igw0E.IwRSH.eGOV_._4EzTm.lC6p0.g6RW6\""
   ]
  },
  {
   "cell_type": "code",
   "execution_count": 26,
   "metadata": {
    "scrolled": true
   },
   "outputs": [
    {
     "data": {
      "text/plain": [
       "<bound method WebElement.click of <selenium.webdriver.remote.webelement.WebElement (session=\"6b45c23c62b38a03edf685eec1316f13\", element=\"a78a34ba-68e9-4821-b480-fde73d5a170d\")>>"
      ]
     },
     "execution_count": 26,
     "metadata": {},
     "output_type": "execute_result"
    }
   ],
   "source": [
    "driver.find_element_by_css_selector(month).click\n",
    "# driver.find_element_by_css_selector(\"#react-root > section > main > div > div > div:nth-child(1) > div > div.Igw0E.IwRSH.eGOV_._4EzTm.bkEs3.DhRcB > div > div > span > span:nth-child(1) > select > option:nth-child(10)\").click\n",
    "\n",
    "\n",
    "# inputDay=driver.find_element_by_css_selector(day)\n",
    "# inputDay.clear()\n",
    "# inputDay.send_keys(\"30\")\n",
    "\n",
    "# inputYear=driver.find_element_by_css_selector(year)\n",
    "# inputYear.clear()\n",
    "# inputYear.send_keys(\"1993\")\n",
    "\n",
    "# driver.find_element_by_css_selector(doBtnn).click()\n"
   ]
  },
  {
   "cell_type": "code",
   "execution_count": 76,
   "metadata": {},
   "outputs": [],
   "source": [
    "from selenium import webdriver\n",
    "from bs4 import BeautifulSoup\n",
    "import time\n",
    "driver=webdriver.Chrome(\"c:/scrap/chromedriver.exe\")\n",
    "url=\"https://www.instagram.com/\"\n",
    "driver.get(url)\n",
    "time.sleep(3)"
   ]
  },
  {
   "cell_type": "code",
   "execution_count": 77,
   "metadata": {},
   "outputs": [],
   "source": [
    "emails=[\"horang295\",\"yunhohoh0\",\"01037407978\",\"piz_a\",\"peak_official_kr\",\"artseekersweet\",\"theremyart\",\"bombstomach\",\"dooboopang\",\"artcodemachine\"]\n",
    "password=[\"dbsgh%464\",\"dbsgh0!02\",\"dbsgh%464\",\"dbsgh%464\",\"kyh0102\",\"dbsgh%464\",\"dbsgh%464\",\"dbsgh%464\",\"enqn1234\",\"qwer!234\"]\n",
    "loginset=list(zip(emails,password))\n",
    "\n",
    "input_id=driver.find_element_by_css_selector(\"#loginForm > div > div:nth-child(1) > div > label > input\")\n",
    "input_id.clear()\n",
    "input_id.send_keys(loginset[1][0])\n",
    "input_pw=driver.find_element_by_css_selector(\"#loginForm > div > div:nth-child(2) > div > label > input\")\n",
    "input_pw.clear()\n",
    "input_pw.send_keys(loginset[1][1])\n",
    "input_pw.submit()\n",
    "time.sleep(3)\n"
   ]
  },
  {
   "cell_type": "code",
   "execution_count": 78,
   "metadata": {},
   "outputs": [],
   "source": [
    "def insta_searching(word):\n",
    "    url=\"https://www.instagram.com/\"+word\n",
    "    return url\n",
    "word=\"hizzeomi\"\n",
    "url=insta_searching(word)\n",
    "driver.get(url)\n",
    "time.sleep(2)\n",
    "\n"
   ]
  },
  {
   "cell_type": "code",
   "execution_count": 79,
   "metadata": {},
   "outputs": [],
   "source": [
    "def select_first(driver):\n",
    "    first=driver.find_element_by_css_selector(\"div._9AhH0\")\n",
    "    first.click()\n",
    "    time.sleep(3)\n",
    "select_first(driver)\n"
   ]
  },
  {
   "cell_type": "code",
   "execution_count": 82,
   "metadata": {},
   "outputs": [],
   "source": [
    "html=driver.page_source\n",
    "soup=BeautifulSoup(html,\"html.parser\")"
   ]
  },
  {
   "cell_type": "code",
   "execution_count": 107,
   "metadata": {},
   "outputs": [
    {
     "name": "stdout",
     "output_type": "stream",
     "text": [
      "좋아요 취소\n",
      "좋아요 취소\n",
      "좋아요 취소\n",
      "좋아요 취소\n",
      "좋아요 취소\n",
      "좋아요 취소\n",
      "좋아요 취소\n",
      "좋아요 취소\n",
      "좋아요 취소\n",
      "좋아요 취소\n",
      "좋아요\n"
     ]
    }
   ],
   "source": [
    "s=0\n",
    "while s < 11:\n",
    "    html=driver.page_source\n",
    "    soup=BeautifulSoup(html,\"html.parser\")\n",
    "    likestatus=soup.select(\"body > div._2dDPU.CkGkG > div.zZYga > div > article > div.eo2As > section.ltpMr.Slqrh > span.fr66n > button > div > span > svg\")[0][\"aria-label\"]\n",
    "    print(likestatus)\n",
    "    if likestatus == \"좋아요\":\n",
    "        likes=driver.find_element_by_css_selector(\"body > div._2dDPU.CkGkG > div.zZYga > div > article > div.eo2As > section.ltpMr.Slqrh > span.fr66n > button > div > span > svg\")\n",
    "        likes.click()\n",
    "        time.sleep(1)#sec:매크로 텀\n",
    "    next=driver.find_element_by_css_selector(\"body > div._2dDPU.CkGkG > div.EfHg9 > div > div > a._65Bje.coreSpriteRightPaginationArrow\")\n",
    "    next.click()\n",
    "    time.sleep(2)\n",
    "    s+=1\n"
   ]
  },
  {
   "cell_type": "code",
   "execution_count": 38,
   "metadata": {},
   "outputs": [],
   "source": [
    "driver.find_element_by_css_selector(\"body > div._2dDPU.CkGkG > div.Igw0E.IwRSH.eGOV_._4EzTm.BI4qX.qJPeX.fm1AK.TxciK.yiMZG > button > div > svg\").click()\n",
    "time.sleep(1)\n",
    "driver.find_element_by_css_selector(\"#react-root > section > nav > div._8MQSO.Cx7Bp > div > div > div.ctQZg > div > div:nth-child(5) > span > img\").click()\n",
    "time.sleep(2)\n"
   ]
  },
  {
   "cell_type": "code",
   "execution_count": 39,
   "metadata": {},
   "outputs": [],
   "source": [
    "driver.find_element_by_css_selector(\"#react-root > section > nav > div._8MQSO.Cx7Bp > div > div > div.ctQZg > div > div:nth-child(5) > div.poA5q > div.uo5MA._2ciX.tWgj8.XWrBI > div._01UL2 > div:nth-child(6)\").click()\n",
    "time.sleep(4)"
   ]
  },
  {
   "cell_type": "code",
   "execution_count": null,
   "metadata": {},
   "outputs": [],
   "source": []
  },
  {
   "cell_type": "code",
   "execution_count": null,
   "metadata": {},
   "outputs": [],
   "source": []
  },
  {
   "cell_type": "code",
   "execution_count": null,
   "metadata": {},
   "outputs": [],
   "source": []
  },
  {
   "cell_type": "code",
   "execution_count": null,
   "metadata": {},
   "outputs": [],
   "source": []
  }
 ],
 "metadata": {
  "kernelspec": {
   "display_name": "Python 3",
   "language": "python",
   "name": "python3"
  },
  "language_info": {
   "codemirror_mode": {
    "name": "ipython",
    "version": 3
   },
   "file_extension": ".py",
   "mimetype": "text/x-python",
   "name": "python",
   "nbconvert_exporter": "python",
   "pygments_lexer": "ipython3",
   "version": "3.8.5"
  }
 },
 "nbformat": 4,
 "nbformat_minor": 4
}
