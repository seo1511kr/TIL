{
 "cells": [
  {
   "cell_type": "code",
   "execution_count": 3,
   "metadata": {},
   "outputs": [],
   "source": [
    "from selenium import webdriver\n",
    "import time\n",
    "driver=webdriver.Chrome(\"c:/scrap/chromedriver.exe\")\n",
    "url=\"https://www.instagram.com/\"\n",
    "driver.get(url)\n"
   ]
  },
  {
   "cell_type": "markdown",
   "metadata": {},
   "source": [
    "# 로그인\n"
   ]
  },
  {
   "cell_type": "markdown",
   "metadata": {},
   "source": [
    "# 완성본\n",
    "\n",
    "## 추가해야될 부분\n",
    "\n",
    "###  검색어 검색후 인기게시물 돌아다니면서 인기게시물 태그정보들과, post 시간 정보 얻기"
   ]
  },
  {
   "cell_type": "markdown",
   "metadata": {},
   "source": [
    "## 배운점:\n",
    "\n",
    "### 1.\n",
    "#### click 혹은 submit으로 창을 이동한 후에는\n",
    "#### 소스코드가 변동하여 새롭게 soup 객체를 지정해줘야 한다\n",
    "#### html=driver.page_source\n",
    "#### soup=BeautifulSoup(html,\"html.parser\")\n",
    "\n",
    "### 2.\n",
    "#### 새롭게  html=driver.page_source을 하기 직전에는 \n",
    "#### 반드시 time.sleep() 으로 충분히 컴퓨터가 준비될 시간을 설정해줘야 에러가 안남\n",
    "\n",
    "## 하나의 패키지처럼 같이 다녀야 함:\n",
    "#### click(), submit()\n",
    "#### time.sleep()\n",
    "#### html=driver.page_source\n",
    "#### soup=BeautifulSoup(html,\"html.parser\")\n"
   ]
  },
  {
   "cell_type": "code",
   "execution_count": 1,
   "metadata": {
    "scrolled": true
   },
   "outputs": [
    {
     "name": "stdout",
     "output_type": "stream",
     "text": [
      "12\n",
      "팔로잉\n",
      "좋아요 취소\n",
      "13\n",
      "팔로잉\n",
      "좋아요 취소\n",
      "14\n",
      "팔로잉\n",
      "좋아요 취소\n",
      "15\n",
      "팔로잉\n",
      "좋아요 취소\n",
      "16\n",
      "팔로잉\n",
      "좋아요 취소\n",
      "17\n",
      "팔로잉\n",
      "좋아요 취소\n",
      "18\n",
      "팔로잉\n",
      "좋아요 취소\n",
      "19\n",
      "팔로우\n"
     ]
    },
    {
     "ename": "ElementClickInterceptedException",
     "evalue": "Message: element click intercepted: Element <a class=\" _65Bje  coreSpriteRightPaginationArrow\" tabindex=\"0\">...</a> is not clickable at point (938, 457). Other element would receive the click: <div class=\"RnEpo Yx5HN     \" role=\"presentation\">...</div>\n  (Session info: chrome=87.0.4280.141)\n",
     "output_type": "error",
     "traceback": [
      "\u001b[1;31m---------------------------------------------------------------------------\u001b[0m",
      "\u001b[1;31mElementClickInterceptedException\u001b[0m          Traceback (most recent call last)",
      "\u001b[1;32m<ipython-input-1-b438da34dec5>\u001b[0m in \u001b[0;36m<module>\u001b[1;34m\u001b[0m\n\u001b[0;32m     55\u001b[0m             \u001b[0mtime\u001b[0m\u001b[1;33m.\u001b[0m\u001b[0msleep\u001b[0m\u001b[1;33m(\u001b[0m\u001b[1;36m2\u001b[0m\u001b[1;33m)\u001b[0m\u001b[1;31m#sec:매크로 텀\u001b[0m\u001b[1;33m\u001b[0m\u001b[1;33m\u001b[0m\u001b[0m\n\u001b[0;32m     56\u001b[0m         \u001b[0mnext\u001b[0m\u001b[1;33m=\u001b[0m\u001b[0mdriver\u001b[0m\u001b[1;33m.\u001b[0m\u001b[0mfind_element_by_css_selector\u001b[0m\u001b[1;33m(\u001b[0m\u001b[1;34m\"body > div._2dDPU.CkGkG > div.EfHg9 > div > div > a._65Bje.coreSpriteRightPaginationArrow\"\u001b[0m\u001b[1;33m)\u001b[0m\u001b[1;33m\u001b[0m\u001b[1;33m\u001b[0m\u001b[0m\n\u001b[1;32m---> 57\u001b[1;33m         \u001b[0mnext\u001b[0m\u001b[1;33m.\u001b[0m\u001b[0mclick\u001b[0m\u001b[1;33m(\u001b[0m\u001b[1;33m)\u001b[0m\u001b[1;33m\u001b[0m\u001b[1;33m\u001b[0m\u001b[0m\n\u001b[0m\u001b[0;32m     58\u001b[0m         \u001b[0mtime\u001b[0m\u001b[1;33m.\u001b[0m\u001b[0msleep\u001b[0m\u001b[1;33m(\u001b[0m\u001b[1;36m2\u001b[0m\u001b[1;33m)\u001b[0m\u001b[1;33m\u001b[0m\u001b[1;33m\u001b[0m\u001b[0m\n\u001b[0;32m     59\u001b[0m \u001b[1;31m# 좋아요 check, 누르기 while 반복문 =================================================================================================\u001b[0m\u001b[1;33m\u001b[0m\u001b[1;33m\u001b[0m\u001b[1;33m\u001b[0m\u001b[0m\n",
      "\u001b[1;32mC:\\ProgramData\\Anaconda3\\lib\\site-packages\\selenium\\webdriver\\remote\\webelement.py\u001b[0m in \u001b[0;36mclick\u001b[1;34m(self)\u001b[0m\n\u001b[0;32m     78\u001b[0m     \u001b[1;32mdef\u001b[0m \u001b[0mclick\u001b[0m\u001b[1;33m(\u001b[0m\u001b[0mself\u001b[0m\u001b[1;33m)\u001b[0m\u001b[1;33m:\u001b[0m\u001b[1;33m\u001b[0m\u001b[1;33m\u001b[0m\u001b[0m\n\u001b[0;32m     79\u001b[0m         \u001b[1;34m\"\"\"Clicks the element.\"\"\"\u001b[0m\u001b[1;33m\u001b[0m\u001b[1;33m\u001b[0m\u001b[0m\n\u001b[1;32m---> 80\u001b[1;33m         \u001b[0mself\u001b[0m\u001b[1;33m.\u001b[0m\u001b[0m_execute\u001b[0m\u001b[1;33m(\u001b[0m\u001b[0mCommand\u001b[0m\u001b[1;33m.\u001b[0m\u001b[0mCLICK_ELEMENT\u001b[0m\u001b[1;33m)\u001b[0m\u001b[1;33m\u001b[0m\u001b[1;33m\u001b[0m\u001b[0m\n\u001b[0m\u001b[0;32m     81\u001b[0m \u001b[1;33m\u001b[0m\u001b[0m\n\u001b[0;32m     82\u001b[0m     \u001b[1;32mdef\u001b[0m \u001b[0msubmit\u001b[0m\u001b[1;33m(\u001b[0m\u001b[0mself\u001b[0m\u001b[1;33m)\u001b[0m\u001b[1;33m:\u001b[0m\u001b[1;33m\u001b[0m\u001b[1;33m\u001b[0m\u001b[0m\n",
      "\u001b[1;32mC:\\ProgramData\\Anaconda3\\lib\\site-packages\\selenium\\webdriver\\remote\\webelement.py\u001b[0m in \u001b[0;36m_execute\u001b[1;34m(self, command, params)\u001b[0m\n\u001b[0;32m    631\u001b[0m             \u001b[0mparams\u001b[0m \u001b[1;33m=\u001b[0m \u001b[1;33m{\u001b[0m\u001b[1;33m}\u001b[0m\u001b[1;33m\u001b[0m\u001b[1;33m\u001b[0m\u001b[0m\n\u001b[0;32m    632\u001b[0m         \u001b[0mparams\u001b[0m\u001b[1;33m[\u001b[0m\u001b[1;34m'id'\u001b[0m\u001b[1;33m]\u001b[0m \u001b[1;33m=\u001b[0m \u001b[0mself\u001b[0m\u001b[1;33m.\u001b[0m\u001b[0m_id\u001b[0m\u001b[1;33m\u001b[0m\u001b[1;33m\u001b[0m\u001b[0m\n\u001b[1;32m--> 633\u001b[1;33m         \u001b[1;32mreturn\u001b[0m \u001b[0mself\u001b[0m\u001b[1;33m.\u001b[0m\u001b[0m_parent\u001b[0m\u001b[1;33m.\u001b[0m\u001b[0mexecute\u001b[0m\u001b[1;33m(\u001b[0m\u001b[0mcommand\u001b[0m\u001b[1;33m,\u001b[0m \u001b[0mparams\u001b[0m\u001b[1;33m)\u001b[0m\u001b[1;33m\u001b[0m\u001b[1;33m\u001b[0m\u001b[0m\n\u001b[0m\u001b[0;32m    634\u001b[0m \u001b[1;33m\u001b[0m\u001b[0m\n\u001b[0;32m    635\u001b[0m     \u001b[1;32mdef\u001b[0m \u001b[0mfind_element\u001b[0m\u001b[1;33m(\u001b[0m\u001b[0mself\u001b[0m\u001b[1;33m,\u001b[0m \u001b[0mby\u001b[0m\u001b[1;33m=\u001b[0m\u001b[0mBy\u001b[0m\u001b[1;33m.\u001b[0m\u001b[0mID\u001b[0m\u001b[1;33m,\u001b[0m \u001b[0mvalue\u001b[0m\u001b[1;33m=\u001b[0m\u001b[1;32mNone\u001b[0m\u001b[1;33m)\u001b[0m\u001b[1;33m:\u001b[0m\u001b[1;33m\u001b[0m\u001b[1;33m\u001b[0m\u001b[0m\n",
      "\u001b[1;32mC:\\ProgramData\\Anaconda3\\lib\\site-packages\\selenium\\webdriver\\remote\\webdriver.py\u001b[0m in \u001b[0;36mexecute\u001b[1;34m(self, driver_command, params)\u001b[0m\n\u001b[0;32m    319\u001b[0m         \u001b[0mresponse\u001b[0m \u001b[1;33m=\u001b[0m \u001b[0mself\u001b[0m\u001b[1;33m.\u001b[0m\u001b[0mcommand_executor\u001b[0m\u001b[1;33m.\u001b[0m\u001b[0mexecute\u001b[0m\u001b[1;33m(\u001b[0m\u001b[0mdriver_command\u001b[0m\u001b[1;33m,\u001b[0m \u001b[0mparams\u001b[0m\u001b[1;33m)\u001b[0m\u001b[1;33m\u001b[0m\u001b[1;33m\u001b[0m\u001b[0m\n\u001b[0;32m    320\u001b[0m         \u001b[1;32mif\u001b[0m \u001b[0mresponse\u001b[0m\u001b[1;33m:\u001b[0m\u001b[1;33m\u001b[0m\u001b[1;33m\u001b[0m\u001b[0m\n\u001b[1;32m--> 321\u001b[1;33m             \u001b[0mself\u001b[0m\u001b[1;33m.\u001b[0m\u001b[0merror_handler\u001b[0m\u001b[1;33m.\u001b[0m\u001b[0mcheck_response\u001b[0m\u001b[1;33m(\u001b[0m\u001b[0mresponse\u001b[0m\u001b[1;33m)\u001b[0m\u001b[1;33m\u001b[0m\u001b[1;33m\u001b[0m\u001b[0m\n\u001b[0m\u001b[0;32m    322\u001b[0m             response['value'] = self._unwrap_value(\n\u001b[0;32m    323\u001b[0m                 response.get('value', None))\n",
      "\u001b[1;32mC:\\ProgramData\\Anaconda3\\lib\\site-packages\\selenium\\webdriver\\remote\\errorhandler.py\u001b[0m in \u001b[0;36mcheck_response\u001b[1;34m(self, response)\u001b[0m\n\u001b[0;32m    240\u001b[0m                 \u001b[0malert_text\u001b[0m \u001b[1;33m=\u001b[0m \u001b[0mvalue\u001b[0m\u001b[1;33m[\u001b[0m\u001b[1;34m'alert'\u001b[0m\u001b[1;33m]\u001b[0m\u001b[1;33m.\u001b[0m\u001b[0mget\u001b[0m\u001b[1;33m(\u001b[0m\u001b[1;34m'text'\u001b[0m\u001b[1;33m)\u001b[0m\u001b[1;33m\u001b[0m\u001b[1;33m\u001b[0m\u001b[0m\n\u001b[0;32m    241\u001b[0m             \u001b[1;32mraise\u001b[0m \u001b[0mexception_class\u001b[0m\u001b[1;33m(\u001b[0m\u001b[0mmessage\u001b[0m\u001b[1;33m,\u001b[0m \u001b[0mscreen\u001b[0m\u001b[1;33m,\u001b[0m \u001b[0mstacktrace\u001b[0m\u001b[1;33m,\u001b[0m \u001b[0malert_text\u001b[0m\u001b[1;33m)\u001b[0m\u001b[1;33m\u001b[0m\u001b[1;33m\u001b[0m\u001b[0m\n\u001b[1;32m--> 242\u001b[1;33m         \u001b[1;32mraise\u001b[0m \u001b[0mexception_class\u001b[0m\u001b[1;33m(\u001b[0m\u001b[0mmessage\u001b[0m\u001b[1;33m,\u001b[0m \u001b[0mscreen\u001b[0m\u001b[1;33m,\u001b[0m \u001b[0mstacktrace\u001b[0m\u001b[1;33m)\u001b[0m\u001b[1;33m\u001b[0m\u001b[1;33m\u001b[0m\u001b[0m\n\u001b[0m\u001b[0;32m    243\u001b[0m \u001b[1;33m\u001b[0m\u001b[0m\n\u001b[0;32m    244\u001b[0m     \u001b[1;32mdef\u001b[0m \u001b[0m_value_or_default\u001b[0m\u001b[1;33m(\u001b[0m\u001b[0mself\u001b[0m\u001b[1;33m,\u001b[0m \u001b[0mobj\u001b[0m\u001b[1;33m,\u001b[0m \u001b[0mkey\u001b[0m\u001b[1;33m,\u001b[0m \u001b[0mdefault\u001b[0m\u001b[1;33m)\u001b[0m\u001b[1;33m:\u001b[0m\u001b[1;33m\u001b[0m\u001b[1;33m\u001b[0m\u001b[0m\n",
      "\u001b[1;31mElementClickInterceptedException\u001b[0m: Message: element click intercepted: Element <a class=\" _65Bje  coreSpriteRightPaginationArrow\" tabindex=\"0\">...</a> is not clickable at point (938, 457). Other element would receive the click: <div class=\"RnEpo Yx5HN     \" role=\"presentation\">...</div>\n  (Session info: chrome=87.0.4280.141)\n"
     ]
    }
   ],
   "source": [
    "\n",
    "from selenium import webdriver\n",
    "from bs4 import BeautifulSoup\n",
    "import time\n",
    "driver=webdriver.Chrome(\"c:/scrap/chromedriver.exe\")\n",
    "url=\"https://www.instagram.com/\"\n",
    "driver.get(url)\n",
    "time.sleep(2)\n",
    "\n",
    "emails=[\"kelly_hipup\",\"hey.mr.sexy\",\"ggplot2021\",\"hello_limy\",\"kzy.kozy\",\"lim_b.rian\",\"kcs_koko\",\"chrisartkim\",\"injungyourart\",\"horang295\",\"yunhohoh0\",\"01037407978\",\"piz_a\",\"peak_official_kr\",\"artseekersweet\",\"theremyart\",\"bombstomach\",\"dooboopang\",\"artcodemachine\",\"artseeker88\"]\n",
    "password=['sdfg#456', 'sdfg#456', 'sdfg#456', 'asdf@345', 'asdf@345', 'asdf@345', 'asdf@345', 'qwer!234', 'qwer!234', 'dbsgh%464', 'dbsgh0!02', 'dbsgh0!02', 'dbsgh%464', 'kyh0102', 'dbsgh%464', 'dbsgh%464', 'dbsgh%464', 'enqn1234', 'qwer!234', 'qwer!234']\n",
    "for i in range(12,20):\n",
    "    print(i)\n",
    "    input_id=driver.find_element_by_css_selector(\"#loginForm > div > div:nth-child(1) > div > label > input\")\n",
    "    input_id.clear()\n",
    "    input_id.send_keys(emails[i])\n",
    "    input_pw=driver.find_element_by_css_selector(\"#loginForm > div > div:nth-child(2) > div > label > input\")\n",
    "    input_pw.clear()\n",
    "    input_pw.send_keys(password[i])\n",
    "    input_pw.submit()\n",
    "    time.sleep(5)\n",
    "# 검색# ===================================================================================================================\n",
    "    def insta_searching(aa):\n",
    "        url=\"https://www.instagram.com/\"+aa\n",
    "        return url\n",
    "    word=\"hizzeomi\"\n",
    "    url=insta_searching(word) #검색어 대입\n",
    "    driver.get(url)\n",
    "    time.sleep(4)\n",
    "    \n",
    "# 게시물 클릭 # ===================================================================================================================\n",
    "#  rows=len(soup.select(\"div.Nnq7C.weEfm\")) 로 1페이지 행 개수 확인가능 꽉차있으면 12개가 최대, 밑으로 내려가야함\n",
    "# div:nth-child(1) > div:nth-child(2) : 1행 2열\n",
    "    def select_first(driver):\n",
    "        first=driver.find_element_by_css_selector(\"#react-root > section > main > div > div._2z6nI > article > div:nth-child(1) > div > div:nth-child(1) > div:nth-child(1) > a > div > div._9AhH0\")\n",
    "        first.click()\n",
    "    #   첫 게시물 클릭할 때는 driver.find_element_by_css_selector(\"div._9AhH0\")\n",
    "    #         first.click()\n",
    "        time.sleep(3)\n",
    "    select_first(driver)\n",
    "    html=driver.page_source\n",
    "    soup=BeautifulSoup(html,\"html.parser\")\n",
    "# 팔로우 check, 누르기=============================================================================================================\n",
    "# 본인계정으로 들어가면 코드가 달라서 오류가 발생할 수 있음! if 문으로 제외시켜주기\n",
    "    if emails[i] != word:\n",
    "        folowstatus=soup.select(\"body > div._2dDPU.CkGkG > div.zZYga > div > article > header > div.o-MQd.z8cbW > div.PQo_0.RqtMr > div.bY2yH > button\")[0].text\n",
    "        print(folowstatus)\n",
    "        if folowstatus == \"팔로우\":\n",
    "            follow=driver.find_element_by_css_selector(\"body > div._2dDPU.CkGkG > div.zZYga > div > article > header > div.o-MQd.z8cbW > div.PQo_0.RqtMr > div.bY2yH > button\")\n",
    "            follow.click()\n",
    "# 좋아요 check, 누르기=============================================================================================================\n",
    "        likestatus=soup.select(\"body > div._2dDPU.CkGkG > div.zZYga > div > article > div.eo2As > section.ltpMr.Slqrh > span.fr66n > button > div > span > svg\")[0][\"aria-label\"]\n",
    "        if likestatus == \"좋아요\":\n",
    "            likes=driver.find_element_by_css_selector(\"body > div._2dDPU.CkGkG > div.zZYga > div > article > div.eo2As > section.ltpMr.Slqrh > span.fr66n > button > div > span > svg\")\n",
    "            likes.click()\n",
    "            time.sleep(2)#sec:매크로 텀\n",
    "        next=driver.find_element_by_css_selector(\"body > div._2dDPU.CkGkG > div.EfHg9 > div > div > a._65Bje.coreSpriteRightPaginationArrow\")\n",
    "        next.click()\n",
    "        time.sleep(2)\n",
    "# 좋아요 check, 누르기 while 반복문 =================================================================================================\n",
    "        s=0\n",
    "        while s < 1:#반복 수 지정\n",
    "            html=driver.page_source\n",
    "            soup=BeautifulSoup(html,\"html.parser\")\n",
    "            if soup.select(\"body > div._2dDPU.CkGkG > div.zZYga > div > article > div.eo2As > section.ltpMr.Slqrh > span.fr66n > button > div > span > svg\")==[]:\n",
    "                print(soup.select(\"body > div._2dDPU.CkGkG > div.zZYga > div > article > div.eo2As > section.ltpMr.Slqrh > span.fr66n > button > div > span > svg\")==[])\n",
    "                time.sleep(2)\n",
    "                html=driver.page_source\n",
    "                soup=BeautifulSoup(html,\"html.parser\")\n",
    "            likestatus=soup.select(\"body > div._2dDPU.CkGkG > div.zZYga > div > article > div.eo2As > section.ltpMr.Slqrh > span.fr66n > button > div > span > svg\")[0][\"aria-label\"]\n",
    "            print(likestatus)\n",
    "            if likestatus == \"좋아요\":\n",
    "                likes=driver.find_element_by_css_selector(\"body > div._2dDPU.CkGkG > div.zZYga > div > article > div.eo2As > section.ltpMr.Slqrh > span.fr66n > button > div > span > svg\")\n",
    "                likes.click()\n",
    "                time.sleep(1)#sec:매크로 텀\n",
    "            next=driver.find_element_by_css_selector(\"body > div._2dDPU.CkGkG > div.EfHg9 > div > div > a._65Bje.coreSpriteRightPaginationArrow\")\n",
    "            next.click()\n",
    "            time.sleep(3)\n",
    "            s+=1\n",
    "# 게시물 창 끄기, 프로필 클릭, 로그아웃=============================================================================================\n",
    "    driver.find_element_by_css_selector(\"body > div._2dDPU.CkGkG > div.Igw0E.IwRSH.eGOV_._4EzTm.BI4qX.qJPeX.fm1AK.TxciK.yiMZG > button > div > svg\").click()\n",
    "    time.sleep(1)\n",
    "    driver.find_element_by_css_selector(\"#react-root > section > nav > div._8MQSO.Cx7Bp > div > div > div.ctQZg > div > div:nth-child(5) > span > img\").click()\n",
    "    time.sleep(2)\n",
    "    driver.find_element_by_css_selector(\"#react-root > section > nav > div._8MQSO.Cx7Bp > div > div > div.ctQZg > div > div:nth-child(5) > div.poA5q > div.uo5MA._2ciX.tWgj8.XWrBI > div._01UL2 > div:nth-child(6)\").click()\n",
    "    time.sleep(4)\n",
    "\n",
    "    \n",
    "\n"
   ]
  },
  {
   "cell_type": "code",
   "execution_count": 17,
   "metadata": {},
   "outputs": [
    {
     "name": "stdout",
     "output_type": "stream",
     "text": [
      "12\n",
      "['sdfg#456', 'sdfg#456', 'sdfg#456', 'asdf@345', 'asdf@345', 'asdf@345', 'asdf@345', 'qwer!234', 'qwer!234', 'qwer!234', 'dbsgh%464', 'dbsgh0!02', 'dbsgh0!02', 'dbsgh%464', 'kyh0102', 'dbsgh%464', 'dbsgh%464', 'dbsgh%464', 'enqn1234', 'qwer!234']\n"
     ]
    }
   ],
   "source": [
    "emails=[\"kelly_hipup\",\"hey.mr.sexy\",\"ggplot2021\",\"hello_limy\",\"kzy.kozy\",\"lim_b.rian\",\"kcs_koko\",\"artseeker88\",\"chrisartkim\",\"injungyourart\",\"horang295\",\"yunhohoh0\",\"01037407978\",\"piz_a\",\"peak_official_kr\",\"artseekersweet\",\"theremyart\",\"bombstomach\",\"dooboopang\",\"artcodemachine\"]\n",
    "password=[\"sdfg#456\",\"sdfg#456\",\"sdfg#456\",\"asdf@345\",\"asdf@345\",\"asdf@345\",\"asdf@345\",\"qwer!234\",\"qwer!234\",\"qwer!234\",\"dbsgh%464\",\"dbsgh0!02\",\"dbsgh%464\",\"dbsgh%464\",\"kyh0102\",\"dbsgh%464\",\"dbsgh%464\",\"dbsgh%464\",\"enqn1234\",\"qwer!234\"]\n",
    "print(emails.index(\"01037407978\"))\n",
    "password[12]=\"dbsgh0!02\"\n",
    "print(password)"
   ]
  },
  {
   "cell_type": "code",
   "execution_count": 11,
   "metadata": {},
   "outputs": [
    {
     "data": {
      "text/plain": [
       "18"
      ]
     },
     "execution_count": 11,
     "metadata": {},
     "output_type": "execute_result"
    }
   ],
   "source": [
    "emails=[\"ggplot2021\",\"hello_limy\",\"kzy.kozy\",\"lim_b.rian\",\"kcs_koko\",\"artseeker88\",\"chrisartkim\",\"injungyourart\",\"horang295\",\"yunhohoh0\",\"01037407978\",\"piz_a\",\"peak_official_kr\",\"artseekersweet\",\"theremyart\",\"bombstomach\",\"dooboopang\",\"artcodemachine\"]\n",
    "len(emails)"
   ]
  },
  {
   "cell_type": "code",
   "execution_count": 7,
   "metadata": {},
   "outputs": [
    {
     "data": {
      "text/plain": [
       "18"
      ]
     },
     "execution_count": 7,
     "metadata": {},
     "output_type": "execute_result"
    }
   ],
   "source": [
    "password=[\"sdfg#456\",\"asdf@345\",\"asdf@345\",\"asdf@345\",\"asdf@345\",\"qwer!234\",\"qwer!234\",\"qwer!234\",\"dbsgh%464\",\"dbsgh0!02\",\"dbsgh%464\",\"dbsgh%464\",\"kyh0102\",\"dbsgh%464\",\"dbsgh%464\",\"dbsgh%464\",\"enqn1234\",\"qwer!234\"]\n",
    "len(password)"
   ]
  },
  {
   "cell_type": "markdown",
   "metadata": {},
   "source": [
    "# 코드 오류 점검용\n",
    "## while loop 빼고 단일적용\n",
    "        first=driver.find_element_by_css_selector(\"#react-root > section > main > div > div._2z6nI > article > div:nth-child(1) > div > div:nth-child(3) > div:nth-child(2) > a > div > div._9AhH0\")\n",
    " div:nth-child(1) > div > div:nth-child(3) > div:nth-child(2): 1번째 스크롤 3행 2열 이라는 뜻\n",
    " 잘 활용하면 게시물 select 가능\n",
    "for i in range(): random하게 특정 범위에서 3개 수 뽑기 >>\n",
    "#react-root > section > main > div > div._2z6nI > article > div:nth-child(1) > div > div:nth-child(8) > div:nth-child(3) > a > div.eLAPa > div._9AhH0"
   ]
  },
  {
   "cell_type": "code",
   "execution_count": 14,
   "metadata": {},
   "outputs": [],
   "source": [
    "from selenium import webdriver\n",
    "import time\n",
    "driver=webdriver.Chrome(\"c:/scrap/chromedriver.exe\")\n",
    "url=\"https://www.instagram.com/\"\n",
    "driver.get(url)\n",
    "time.sleep(3)"
   ]
  },
  {
   "cell_type": "markdown",
   "metadata": {},
   "source": [
    "# 로그인 & 검색"
   ]
  },
  {
   "cell_type": "code",
   "execution_count": 15,
   "metadata": {},
   "outputs": [],
   "source": [
    "emails=[\"horang295\",\"yunhohoh0\",\"01037407978\",\"happyjupyy\",\"acnekimos\",\"piz_a\",\"peak_official_kr\",\"artseekersweet\",\"theremyart\",\"bombstomach\",\"dooboopang\",\"artcodemachine\"]\n",
    "newemails=emails[::-1]\n",
    "password=[\"dbsgh%464\",\"dbsgh0!02\",\"dbsgh%464\",\"dbsgh%464\",\"qwer!234\",\"dbsgh%464\",\"kyh0102\",\"dbsgh%464\",\"dbsgh%464\",\"dbsgh%464\",\"enqn1234\",\"qwer!234\"]\n",
    "newpw=password[::-1]\n",
    "input_id=driver.find_element_by_css_selector(\"#loginForm > div > div:nth-child(1) > div > label > input\")\n",
    "input_id.clear()\n",
    "input_id.send_keys(emails[-1])\n",
    "input_pw=driver.find_element_by_css_selector(\"#loginForm > div > div:nth-child(2) > div > label > input\")\n",
    "input_pw.clear()\n",
    "input_pw.send_keys(password[-1])\n",
    "input_pw.submit()\n",
    "time.sleep(3)\n",
    "def insta_searching(aa):\n",
    "    url=\"https://www.instagram.com/\"+aa\n",
    "    return url\n",
    "url=insta_searching(emails[-1])\n",
    "driver.get(url)\n",
    "time.sleep(2)"
   ]
  },
  {
   "cell_type": "markdown",
   "metadata": {},
   "source": [
    "# 게시물 접속"
   ]
  },
  {
   "cell_type": "code",
   "execution_count": null,
   "metadata": {},
   "outputs": [],
   "source": [
    "html=driver.page_source\n",
    "soup=BeautifulSoup(html,\"html.parser\")\n",
    "rows=len(soup.select(\"div.Nnq7C.weEfm\"))\n",
    "print(rows)\n",
    "first=driver.find_element_by_css_selector(\"#react-root > section > main > div > div._2z6nI > article > div:nth-child(1) > div > div:nth-child(8) > div:nth-child(2) > a > div > div._9AhH0\")\n",
    "first.click()\n",
    "time.sleep(2)\n"
   ]
  },
  {
   "cell_type": "markdown",
   "metadata": {},
   "source": [
    "# 팔로잉"
   ]
  },
  {
   "cell_type": "code",
   "execution_count": 71,
   "metadata": {},
   "outputs": [
    {
     "name": "stdout",
     "output_type": "stream",
     "text": [
      "팔로잉\n"
     ]
    }
   ],
   "source": [
    "html=driver.page_source\n",
    "soup=BeautifulSoup(html,\"html.parser\")\n",
    "folowstatus=soup.select(\"body > div._2dDPU.CkGkG > div.zZYga > div > article > header > div.o-MQd.z8cbW > div.PQo_0.RqtMr > div.bY2yH > button\")[0].text\n",
    "print(folowstatus)\n",
    "if folowstatus == \"팔로우\":\n",
    "    follow=driver.find_element_by_css_selector(\"body > div._2dDPU.CkGkG > div.zZYga > div > article > header > div.o-MQd.z8cbW > div.PQo_0.RqtMr > div.bY2yH > button\")\n",
    "    follow.click()\n"
   ]
  },
  {
   "cell_type": "markdown",
   "metadata": {},
   "source": [
    "# 좋아요"
   ]
  },
  {
   "cell_type": "code",
   "execution_count": 78,
   "metadata": {},
   "outputs": [
    {
     "name": "stdout",
     "output_type": "stream",
     "text": [
      "좋아요\n"
     ]
    }
   ],
   "source": [
    "likestatus=soup.select(\"body > div._2dDPU.CkGkG > div.zZYga > div > article > div.eo2As > section.ltpMr.Slqrh > span.fr66n > button > div > span > svg\")[0][\"aria-label\"]\n",
    "print(likestatus)\n",
    "if likestatus == \"좋아요\":\n",
    "    likes=driver.find_element_by_css_selector(\"body > div._2dDPU.CkGkG > div.zZYga > div > article > div.eo2As > section.ltpMr.Slqrh > span.fr66n > button > div > span > svg\")\n",
    "    likes.click()\n",
    "    time.sleep(2)#sec:매크로 텀\n",
    "#     next=driver.find_element_by_css_selector(\"body > div._2dDPU.CkGkG > div.EfHg9 > div > div > a\")\n",
    "next=driver.find_element_by_css_selector(\"body > div._2dDPU.CkGkG > div.EfHg9 > div > div > a._65Bje.coreSpriteRightPaginationArrow\")\n",
    "next.click()\n",
    "time.sleep(2)\n",
    "html=driver.page_source\n",
    "soup=BeautifulSoup(html,\"html.parser\")"
   ]
  },
  {
   "cell_type": "markdown",
   "metadata": {},
   "source": [
    "# 팔로우 매크로"
   ]
  },
  {
   "cell_type": "code",
   "execution_count": 21,
   "metadata": {},
   "outputs": [
    {
     "name": "stdout",
     "output_type": "stream",
     "text": [
      "0\n",
      "팔로우\n",
      "팔로우\n",
      "팔로우\n",
      "1\n",
      "팔로우\n",
      "팔로우\n",
      "팔로우\n",
      "2\n",
      "팔로우\n",
      "팔로우\n",
      "팔로우\n",
      "3\n",
      "팔로우\n",
      "팔로우\n",
      "팔로우\n",
      "4\n",
      "팔로우\n",
      "팔로우\n",
      "팔로우\n",
      "5\n",
      "팔로우\n",
      "팔로우\n",
      "팔로우\n",
      "6\n",
      "팔로우\n",
      "팔로우\n",
      "팔로우\n",
      "7\n",
      "팔로우\n",
      "팔로우\n",
      "팔로우\n",
      "8\n",
      "팔로우\n",
      "팔로우\n",
      "팔로우\n",
      "9\n",
      "팔로우\n",
      "팔로우\n",
      "팔로우\n",
      "10\n",
      "팔로우\n",
      "팔로우\n",
      "팔로우\n",
      "11\n",
      "팔로우\n",
      "팔로우\n",
      "팔로우\n",
      "12\n"
     ]
    },
    {
     "ename": "IndexError",
     "evalue": "list index out of range",
     "output_type": "error",
     "traceback": [
      "\u001b[1;31m---------------------------------------------------------------------------\u001b[0m",
      "\u001b[1;31mIndexError\u001b[0m                                Traceback (most recent call last)",
      "\u001b[1;32m<ipython-input-21-cddab3fee925>\u001b[0m in \u001b[0;36m<module>\u001b[1;34m\u001b[0m\n\u001b[0;32m     43\u001b[0m \u001b[1;31m# 본인계정으로 들어가면 코드가 달라서 오류가 발생할 수 있음! if 문으로 제외시켜주기\u001b[0m\u001b[1;33m\u001b[0m\u001b[1;33m\u001b[0m\u001b[1;33m\u001b[0m\u001b[0m\n\u001b[0;32m     44\u001b[0m     \u001b[1;32mif\u001b[0m \u001b[0memails\u001b[0m\u001b[1;33m[\u001b[0m\u001b[0mi\u001b[0m\u001b[1;33m]\u001b[0m \u001b[1;33m!=\u001b[0m \u001b[0mword\u001b[0m\u001b[1;33m:\u001b[0m\u001b[1;33m\u001b[0m\u001b[1;33m\u001b[0m\u001b[0m\n\u001b[1;32m---> 45\u001b[1;33m         \u001b[0mfolowstatus\u001b[0m\u001b[1;33m=\u001b[0m\u001b[0msoup\u001b[0m\u001b[1;33m.\u001b[0m\u001b[0mselect\u001b[0m\u001b[1;33m(\u001b[0m\u001b[1;34m\"body > div._2dDPU.CkGkG > div.zZYga > div > article > header > div.o-MQd.z8cbW > div.PQo_0.RqtMr > div.bY2yH > button\"\u001b[0m\u001b[1;33m)\u001b[0m\u001b[1;33m[\u001b[0m\u001b[1;36m0\u001b[0m\u001b[1;33m]\u001b[0m\u001b[1;33m.\u001b[0m\u001b[0mtext\u001b[0m\u001b[1;33m\u001b[0m\u001b[1;33m\u001b[0m\u001b[0m\n\u001b[0m\u001b[0;32m     46\u001b[0m         \u001b[0mprint\u001b[0m\u001b[1;33m(\u001b[0m\u001b[0mfolowstatus\u001b[0m\u001b[1;33m)\u001b[0m\u001b[1;33m\u001b[0m\u001b[1;33m\u001b[0m\u001b[0m\n\u001b[0;32m     47\u001b[0m         \u001b[1;32mif\u001b[0m \u001b[0mfolowstatus\u001b[0m \u001b[1;33m==\u001b[0m \u001b[1;34m\"팔로우\"\u001b[0m\u001b[1;33m:\u001b[0m\u001b[1;33m\u001b[0m\u001b[1;33m\u001b[0m\u001b[0m\n",
      "\u001b[1;31mIndexError\u001b[0m: list index out of range"
     ]
    }
   ],
   "source": [
    "\n",
    "from selenium import webdriver\n",
    "from bs4 import BeautifulSoup\n",
    "import time\n",
    "driver=webdriver.Chrome(\"c:/scrap/chromedriver.exe\")\n",
    "url=\"https://www.instagram.com/\"\n",
    "driver.get(url)\n",
    "time.sleep(2)\n",
    "\n",
    "emails=[\"kelly_hipup\",\"hey.mr.sexy\",\"ggplot2021\",\"hello_limy\",\"kzy.kozy\",\"lim_b.rian\",\"kcs_koko\",\"artseeker88\",\"chrisartkim\",\"injungyourart\",\"horang295\",\"yunhohoh0\",\"01037407978\",\"piz_a\",\"peak_official_kr\",\"artseekersweet\",\"theremyart\",\"bombstomach\",\"dooboopang\",\"artcodemachine\"]\n",
    "password=[\"sdfg#456\",\"sdfg#456\",\"sdfg#456\",\"asdf@345\",\"asdf@345\",\"asdf@345\",\"asdf@345\",\"qwer!234\",\"qwer!234\",\"qwer!234\",\"dbsgh%464\",\"dbsgh0!02\",\"dbsgh%464\",\"dbsgh%464\",\"kyh0102\",\"dbsgh%464\",\"dbsgh%464\",\"dbsgh%464\",\"enqn1234\",\"qwer!234\"]\n",
    "for i in range(0,20):\n",
    "    print(i)\n",
    "    input_id=driver.find_element_by_css_selector(\"#loginForm > div > div:nth-child(1) > div > label > input\")\n",
    "    input_id.clear()\n",
    "    input_id.send_keys(emails[i])\n",
    "    input_pw=driver.find_element_by_css_selector(\"#loginForm > div > div:nth-child(2) > div > label > input\")\n",
    "    input_pw.clear()\n",
    "    input_pw.send_keys(password[i])\n",
    "    input_pw.submit()\n",
    "    time.sleep(5)\n",
    "# 검색# ===================================================================================================================\n",
    "    def insta_searching(aa):\n",
    "        url=\"https://www.instagram.com/tags/\"+aa\n",
    "        return url\n",
    "    word=\"leehyebni\"\n",
    "    url=insta_searching(\"doodle\") #검색어 대입\n",
    "    driver.get(url)\n",
    "    time.sleep(4)\n",
    "    \n",
    "# 게시물 클릭 # ===================================================================================================================\n",
    "#  rows=len(soup.select(\"div.Nnq7C.weEfm\")) 로 1페이지 행 개수 확인가능 꽉차있으면 12개가 최대, 밑으로 내려가야함\n",
    "# div:nth-child(1) > div:nth-child(2) : 1행 2열\n",
    "    def select_first(driver):\n",
    "        first=driver.find_element_by_css_selector(\"#react-root > section > main > article > div.EZdmt > div > div > div:nth-child(2) > div:nth-child(2) > a > div > div._9AhH0\")\n",
    "        first.click()\n",
    "    #   첫 게시물 클릭할 때는 driver.find_element_by_css_selector(\"div._9AhH0\")\n",
    "    #         first.click()\n",
    "        time.sleep(3)\n",
    "    select_first(driver)\n",
    "    html=driver.page_source\n",
    "    soup=BeautifulSoup(html,\"html.parser\")\n",
    "# 팔로우 check, 누르기=============================================================================================================\n",
    "# 본인계정으로 들어가면 코드가 달라서 오류가 발생할 수 있음! if 문으로 제외시켜주기\n",
    "    if emails[i] != word:\n",
    "        folowstatus=soup.select(\"body > div._2dDPU.CkGkG > div.zZYga > div > article > header > div.o-MQd.z8cbW > div.PQo_0.RqtMr > div.bY2yH > button\")[0].text\n",
    "        print(folowstatus)\n",
    "        if folowstatus == \"팔로우\":\n",
    "            follow=driver.find_element_by_css_selector(\"body > div._2dDPU.CkGkG > div.zZYga > div > article > header > div.o-MQd.z8cbW > div.PQo_0.RqtMr > div.bY2yH > button\")\n",
    "            follow.click()\n",
    "            next=driver.find_element_by_css_selector(\"body > div._2dDPU.CkGkG > div.EfHg9 > div > div > a._65Bje.coreSpriteRightPaginationArrow\")\n",
    "            next.click()\n",
    "            time.sleep(2)\n",
    "# 좋아요 check, 누르기 while 반복문 =================================================================================================\n",
    "        s=0\n",
    "        while s < 2:#반복 수 지정\n",
    "            html=driver.page_source\n",
    "            soup=BeautifulSoup(html,\"html.parser\")\n",
    "            folowstatus=soup.select(\"body > div._2dDPU.CkGkG > div.zZYga > div > article > header > div.o-MQd.z8cbW > div.PQo_0.RqtMr > div.bY2yH > button\")[0].text\n",
    "            print(folowstatus)\n",
    "            if folowstatus == \"팔로우\":\n",
    "                follow=driver.find_element_by_css_selector(\"body > div._2dDPU.CkGkG > div.zZYga > div > article > header > div.o-MQd.z8cbW > div.PQo_0.RqtMr > div.bY2yH > button\")\n",
    "                follow.click()\n",
    "            next=driver.find_element_by_css_selector(\"body > div._2dDPU.CkGkG > div.EfHg9 > div > div > a._65Bje.coreSpriteRightPaginationArrow\")\n",
    "            next.click()\n",
    "            time.sleep(3)\n",
    "            s+=1\n",
    "# 게시물 창 끄기, 프로필 클릭, 로그아웃=============================================================================================\n",
    "    driver.find_element_by_css_selector(\"body > div._2dDPU.CkGkG > div.Igw0E.IwRSH.eGOV_._4EzTm.BI4qX.qJPeX.fm1AK.TxciK.yiMZG > button > div > svg\").click()\n",
    "    time.sleep(1)\n",
    "    driver.find_element_by_css_selector(\"#react-root > section > nav > div._8MQSO.Cx7Bp > div > div > div.ctQZg > div > div:nth-child(5) > span > img\").click()\n",
    "    time.sleep(2)\n",
    "    driver.find_element_by_css_selector(\"#react-root > section > nav > div._8MQSO.Cx7Bp > div > div > div.ctQZg > div > div:nth-child(5) > div.poA5q > div.uo5MA._2ciX.tWgj8.XWrBI > div._01UL2 > div:nth-child(6)\").click()\n",
    "    time.sleep(4)\n"
   ]
  },
  {
   "cell_type": "code",
   "execution_count": null,
   "metadata": {},
   "outputs": [],
   "source": [
    "#react-root > section > main > article > div.EZdmt > div > div > div:nth-child(2) > div:nth-child(2) > a > div > div._9AhH0"
   ]
  }
 ],
 "metadata": {
  "kernelspec": {
   "display_name": "Python 3",
   "language": "python",
   "name": "python3"
  },
  "language_info": {
   "codemirror_mode": {
    "name": "ipython",
    "version": 3
   },
   "file_extension": ".py",
   "mimetype": "text/x-python",
   "name": "python",
   "nbconvert_exporter": "python",
   "pygments_lexer": "ipython3",
   "version": "3.8.5"
  }
 },
 "nbformat": 4,
 "nbformat_minor": 4
}
