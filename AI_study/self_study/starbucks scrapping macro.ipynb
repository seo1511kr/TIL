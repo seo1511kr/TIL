{
 "cells": [
  {
   "cell_type": "markdown",
   "metadata": {},
   "source": [
    "# 버튼 매크로 만들기(성공)\n",
    "## mCSB_2_container > ul > li:nth-child(1) > a (버튼경로)\n",
    "\n",
    "\n",
    "# 실패했던 이유\n",
    "\n",
    "## for 문 안에 url, browser.get(url)을 넣어줘야\n",
    "## 리스트 출력후 다시 초기화해서 처음 화면으로 돌아감!!"
   ]
  },
  {
   "cell_type": "code",
   "execution_count": null,
   "metadata": {},
   "outputs": [],
   "source": [
    "# import time\n",
    "\n",
    "# from selenium import webdriver\n",
    "# browser=webdriver.Chrome('c:/scrap/chromedriver.exe')\n",
    "# korea_sb_litst=[]\n",
    "\n",
    "# for i in range(1,17):\n",
    "#     url=\"https://www.istarbucks.co.kr/store/store_map.do?disp=locale\"\n",
    "#     browser.get(url)\n",
    "#     time.sleep(2)\n",
    "#     browser.find_element_by_css_selector(\"#container > div > form > fieldset > div > section > article.find_store_cont > article > article:nth-child(4) > div.loca_step1 > div.loca_step1_cont > ul > li:nth-child(%d) > a\"%i).click()\n",
    "#     time.sleep(2)\n",
    "#     allBtn=\"#mCSB_2_container > ul > li:nth-child(1) > a\"\n",
    "#     browser.find_element_by_css_selector(allBtn).click()\n",
    "#     time.sleep(2)\n",
    "#     html=browser.page_source\n",
    "#     soup=BeautifulSoup(html,\"html.parser\")\n",
    "#     sb_list=soup.select(\"li.quickResultLstCon\")\n",
    "#     for item in sb_list:\n",
    "#         name=item.select(\"strong\")[0].text\n",
    "#         sb_store=sb_list[0]\n",
    "#         lat=item['data-lat']\n",
    "#         lng=item['data-long']\n",
    "#         tel=str(item.select(\"p.result_details\")[0]).split(\"<br/>\")[1].split(\"<\")[0]\n",
    "#         addr=str(item.select(\"p.result_details\")[0]).split(\"<br/>\")[0].split(\">\")[1]\n",
    "#         sb_type=item.select(\"i\")[0]['class'][0][4:]\n",
    "#         korea_sb_litst.append([name,lat,lng,sb_type,addr,tel])\n",
    "#     print(korea_sb_litst)"
   ]
  }
 ],
 "metadata": {
  "kernelspec": {
   "display_name": "Python 3",
   "language": "python",
   "name": "python3"
  },
  "language_info": {
   "codemirror_mode": {
    "name": "ipython",
    "version": 3
   },
   "file_extension": ".py",
   "mimetype": "text/x-python",
   "name": "python",
   "nbconvert_exporter": "python",
   "pygments_lexer": "ipython3",
   "version": "3.8.5"
  }
 },
 "nbformat": 4,
 "nbformat_minor": 4
}
