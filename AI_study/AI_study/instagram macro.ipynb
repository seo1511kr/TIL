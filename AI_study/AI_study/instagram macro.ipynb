{
 "cells": [
  {
   "cell_type": "code",
   "execution_count": 3,
   "metadata": {},
   "outputs": [],
   "source": [
    "from selenium import webdriver\n",
    "import time\n",
    "driver=webdriver.Chrome(\"c:/scrap/chromedriver.exe\")\n",
    "url=\"https://www.instagram.com/\"\n",
    "driver.get(url)\n"
   ]
  },
  {
   "cell_type": "markdown",
   "metadata": {},
   "source": [
    "# 로그인\n"
   ]
  },
  {
   "cell_type": "markdown",
   "metadata": {},
   "source": [
    "# 완성본\n",
    "\n",
    "## 추가해야될 부분\n",
    "\n",
    "###  검색어 검색후 인기게시물 돌아다니면서 인기게시물 태그정보들과, post 시간 정보 얻기"
   ]
  },
  {
   "cell_type": "markdown",
   "metadata": {},
   "source": [
    "## 배운점:\n",
    "\n",
    "### 1.\n",
    "#### click 혹은 submit으로 창을 이동한 후에는\n",
    "#### 소스코드가 변동하여 새롭게 soup 객체를 지정해줘야 한다\n",
    "#### html=driver.page_source\n",
    "#### soup=BeautifulSoup(html,\"html.parser\")\n",
    "\n",
    "### 2.\n",
    "#### 새롭게  html=driver.page_source을 하기 직전에는 \n",
    "#### 반드시 time.sleep() 으로 충분히 컴퓨터가 준비될 시간을 설정해줘야 에러가 안남\n",
    "\n",
    "## 하나의 패키지처럼 같이 다녀야 함:\n",
    "#### click(), submit()\n",
    "#### time.sleep()\n",
    "#### html=driver.page_source\n",
    "#### soup=BeautifulSoup(html,\"html.parser\")\n"
   ]
  },
  {
   "cell_type": "code",
   "execution_count": 62,
   "metadata": {
    "scrolled": true
   },
   "outputs": [
    {
     "name": "stdout",
     "output_type": "stream",
     "text": [
      "[('horang295', 'dbsgh%464'), ('yunhohoh0', 'dbsgh0!02'), ('01037407978', 'dbsgh%464'), ('happyjupyy', 'dbsgh%464'), ('piz_a', 'dbsgh%464'), ('peak_official_kr', 'kyh0102'), ('artseekersweet', 'dbsgh%464'), ('theremyart', 'dbsgh%464'), ('bombstomach', 'dbsgh%464'), ('dooboopang', 'enqn1234'), ('artcodemachine', 'qwer!234')]\n",
      "팔로잉\n",
      "좋아요 취소\n",
      "좋아요 취소\n",
      "좋아요 취소\n",
      "좋아요 취소\n",
      "좋아요 취소\n",
      "좋아요 취소\n",
      "좋아요 취소\n",
      "좋아요 취소\n",
      "좋아요 취소\n",
      "팔로잉\n",
      "좋아요 취소\n",
      "좋아요 취소\n",
      "좋아요 취소\n",
      "좋아요 취소\n",
      "좋아요 취소\n",
      "좋아요 취소\n",
      "좋아요 취소\n",
      "좋아요 취소\n",
      "좋아요 취소\n",
      "팔로잉\n",
      "좋아요 취소\n",
      "좋아요 취소\n",
      "좋아요 취소\n",
      "좋아요 취소\n",
      "좋아요 취소\n",
      "좋아요 취소\n",
      "좋아요 취소\n",
      "좋아요 취소\n",
      "좋아요 취소\n",
      "팔로잉\n",
      "좋아요 취소\n",
      "좋아요 취소\n",
      "좋아요 취소\n",
      "좋아요 취소\n",
      "좋아요 취소\n",
      "좋아요 취소\n",
      "좋아요 취소\n",
      "좋아요 취소\n",
      "좋아요 취소\n",
      "팔로잉\n",
      "좋아요 취소\n",
      "좋아요 취소\n",
      "좋아요 취소\n",
      "좋아요 취소\n",
      "좋아요 취소\n",
      "좋아요 취소\n",
      "좋아요 취소\n",
      "좋아요 취소\n",
      "좋아요 취소\n",
      "팔로잉\n",
      "좋아요 취소\n",
      "좋아요 취소\n",
      "좋아요 취소\n",
      "좋아요 취소\n",
      "좋아요 취소\n",
      "좋아요 취소\n",
      "좋아요 취소\n",
      "좋아요 취소\n",
      "좋아요 취소\n",
      "팔로잉\n",
      "좋아요 취소\n",
      "좋아요 취소\n",
      "좋아요 취소\n",
      "좋아요 취소\n",
      "좋아요 취소\n",
      "좋아요 취소\n",
      "좋아요 취소\n",
      "좋아요 취소\n",
      "좋아요 취소\n",
      "팔로잉\n",
      "좋아요 취소\n",
      "좋아요 취소\n",
      "좋아요 취소\n",
      "좋아요 취소\n",
      "좋아요 취소\n",
      "좋아요 취소\n",
      "좋아요 취소\n",
      "좋아요 취소\n",
      "좋아요 취소\n",
      "팔로잉\n",
      "좋아요 취소\n",
      "좋아요 취소\n",
      "좋아요 취소\n",
      "좋아요 취소\n",
      "좋아요 취소\n",
      "좋아요 취소\n",
      "좋아요 취소\n",
      "좋아요 취소\n",
      "좋아요 취소\n"
     ]
    }
   ],
   "source": [
    "\n",
    "from selenium import webdriver\n",
    "from bs4 import BeautifulSoup\n",
    "import time\n",
    "driver=webdriver.Chrome(\"c:/scrap/chromedriver.exe\")\n",
    "url=\"https://www.instagram.com/\"\n",
    "driver.get(url)\n",
    "time.sleep(2)\n",
    "\n",
    "emails=[\"horang295\",\"yunhohoh0\",\"01037407978\",\"piz_a\",\"peak_official_kr\",\"artseekersweet\",\"theremyart\",\"bombstomach\",\"dooboopang\",\"artcodemachine\"]\n",
    "password=[\"dbsgh%464\",\"dbsgh0!02\",\"dbsgh%464\",\"dbsgh%464\",\"kyh0102\",\"dbsgh%464\",\"dbsgh%464\",\"dbsgh%464\",\"enqn1234\",\"qwer!234\"]\n",
    "for i in range(len(emails)):\n",
    "    input_id=driver.find_element_by_css_selector(\"#loginForm > div > div:nth-child(1) > div > label > input\")\n",
    "    input_id.clear()\n",
    "    input_id.send_keys(emails[i])\n",
    "    input_pw=driver.find_element_by_css_selector(\"#loginForm > div > div:nth-child(2) > div > label > input\")\n",
    "    input_pw.clear()\n",
    "    input_pw.send_keys(password[i])\n",
    "    input_pw.submit()\n",
    "    time.sleep(5)\n",
    "# 검색# ===================================================================================================================\n",
    "    def insta_searching(aa):\n",
    "        url=\"https://www.instagram.com/\"+aa\n",
    "        return url\n",
    "    word=\"hizzeomi\"\n",
    "    url=insta_searching(word) #검색어 대입\n",
    "    driver.get(url)\n",
    "    time.sleep(2)\n",
    "# 게시물 클릭 # ===================================================================================================================\n",
    "#  rows=len(soup.select(\"div.Nnq7C.weEfm\")) 로 1페이지 행 개수 확인가능 꽉차있으면 12개가 최대, 밑으로 내려가야함\n",
    "# div:nth-child(1) > div:nth-child(2) : 1행 2열\n",
    "    def select_first(driver):\n",
    "        first=driver.find_element_by_css_selector(\"#react-root > section > main > div > div._2z6nI > article > div:nth-child(1) > div > div:nth-child(1) > div:nth-child(2) > a > div > div._9AhH0\")\n",
    "        first.click()\n",
    "    #   첫 게시물 클릭할 때는 driver.find_element_by_css_selector(\"div._9AhH0\")\n",
    "    #         first.click()\n",
    "        time.sleep(3)\n",
    "    select_first(driver)\n",
    "    html=driver.page_source\n",
    "    soup=BeautifulSoup(html,\"html.parser\")\n",
    "# 팔로우 check, 누르기=============================================================================================================\n",
    "# 본인계정으로 들어가면 코드가 달라서 오류가 발생할 수 있음! if 문으로 제외시켜주기\n",
    "    if emails[i] != word:\n",
    "        folowstatus=soup.select(\"body > div._2dDPU.CkGkG > div.zZYga > div > article > header > div.o-MQd.z8cbW > div.PQo_0.RqtMr > div.bY2yH > button\")[0].text\n",
    "        print(folowstatus)\n",
    "        if folowstatus == \"팔로우\":\n",
    "            follow=driver.find_element_by_css_selector(\"body > div._2dDPU.CkGkG > div.zZYga > div > article > header > div.o-MQd.z8cbW > div.PQo_0.RqtMr > div.bY2yH > button\")\n",
    "            follow.click()\n",
    "# 좋아요 check, 누르기=============================================================================================================\n",
    "        likestatus=soup.select(\"body > div._2dDPU.CkGkG > div.zZYga > div > article > div.eo2As > section.ltpMr.Slqrh > span.fr66n > button > div > span > svg\")[0][\"aria-label\"]\n",
    "        if likestatus == \"좋아요\":\n",
    "            likes=driver.find_element_by_css_selector(\"body > div._2dDPU.CkGkG > div.zZYga > div > article > div.eo2As > section.ltpMr.Slqrh > span.fr66n > button > div > span > svg\")\n",
    "            likes.click()\n",
    "            time.sleep(2)#sec:매크로 텀\n",
    "        next=driver.find_element_by_css_selector(\"body > div._2dDPU.CkGkG > div.EfHg9 > div > div > a._65Bje.coreSpriteRightPaginationArrow\")\n",
    "        next.click()\n",
    "        time.sleep(2)\n",
    "# 좋아요 check, 누르기 while 반복문 =================================================================================================\n",
    "        s=0\n",
    "        while s < 9:#반복 수 지정\n",
    "            html=driver.page_source\n",
    "            soup=BeautifulSoup(html,\"html.parser\")\n",
    "            likestatus=soup.select(\"body > div._2dDPU.CkGkG > div.zZYga > div > article > div.eo2As > section.ltpMr.Slqrh > span.fr66n > button > div > span > svg\")[0][\"aria-label\"]\n",
    "            print(likestatus)\n",
    "            if likestatus == \"좋아요\":\n",
    "                likes=driver.find_element_by_css_selector(\"body > div._2dDPU.CkGkG > div.zZYga > div > article > div.eo2As > section.ltpMr.Slqrh > span.fr66n > button > div > span > svg\")\n",
    "                likes.click()\n",
    "                time.sleep(1)#sec:매크로 텀\n",
    "            next=driver.find_element_by_css_selector(\"body > div._2dDPU.CkGkG > div.EfHg9 > div > div > a._65Bje.coreSpriteRightPaginationArrow\")\n",
    "            next.click()\n",
    "            time.sleep(3)\n",
    "            s+=1\n",
    "# 게시물 창 끄기, 프로필 클릭, 로그아웃=============================================================================================\n",
    "    driver.find_element_by_css_selector(\"body > div._2dDPU.CkGkG > div.Igw0E.IwRSH.eGOV_._4EzTm.BI4qX.qJPeX.fm1AK.TxciK.yiMZG > button > div > svg\").click()\n",
    "    time.sleep(1)\n",
    "    driver.find_element_by_css_selector(\"#react-root > section > nav > div._8MQSO.Cx7Bp > div > div > div.ctQZg > div > div:nth-child(5) > span > img\").click()\n",
    "    time.sleep(2)\n",
    "    driver.find_element_by_css_selector(\"#react-root > section > nav > div._8MQSO.Cx7Bp > div > div > div.ctQZg > div > div:nth-child(5) > div.poA5q > div.uo5MA._2ciX.tWgj8.XWrBI > div._01UL2 > div:nth-child(6)\").click()\n",
    "    time.sleep(4)\n",
    "\n",
    "    \n",
    "\n"
   ]
  },
  {
   "cell_type": "code",
   "execution_count": null,
   "metadata": {},
   "outputs": [],
   "source": []
  },
  {
   "cell_type": "markdown",
   "metadata": {},
   "source": [
    "# 코드 오류 점검용\n",
    "## while loop 빼고 단일적용\n",
    "        first=driver.find_element_by_css_selector(\"#react-root > section > main > div > div._2z6nI > article > div:nth-child(1) > div > div:nth-child(3) > div:nth-child(2) > a > div > div._9AhH0\")\n",
    " div:nth-child(1) > div > div:nth-child(3) > div:nth-child(2): 1번째 스크롤 3행 2열 이라는 뜻\n",
    " 잘 활용하면 게시물 select 가능\n",
    "for i in range(): random하게 특정 범위에서 3개 수 뽑기 >>\n",
    "#react-root > section > main > div > div._2z6nI > article > div:nth-child(1) > div > div:nth-child(8) > div:nth-child(3) > a > div.eLAPa > div._9AhH0"
   ]
  },
  {
   "cell_type": "code",
   "execution_count": 1,
   "metadata": {},
   "outputs": [],
   "source": [
    "from selenium import webdriver\n",
    "import time\n",
    "driver=webdriver.Chrome(\"c:/scrap/chromedriver.exe\")\n",
    "url=\"https://www.instagram.com/\"\n",
    "driver.get(url)\n",
    "time.sleep(3)"
   ]
  },
  {
   "cell_type": "markdown",
   "metadata": {},
   "source": [
    "# 로그인 & 검색"
   ]
  },
  {
   "cell_type": "code",
   "execution_count": 2,
   "metadata": {},
   "outputs": [],
   "source": [
    "emails=[\"horang295\",\"yunhohoh0\",\"01037407978\",\"happyjupyy\",\"acnekimos\",\"piz_a\",\"peak_official_kr\",\"artseekersweet\",\"theremyart\",\"bombstomach\",\"dooboopang\",\"artcodemachine\"]\n",
    "newemails=emails[::-1]\n",
    "password=[\"dbsgh%464\",\"dbsgh0!02\",\"dbsgh%464\",\"dbsgh%464\",\"qwer!234\",\"dbsgh%464\",\"kyh0102\",\"dbsgh%464\",\"dbsgh%464\",\"dbsgh%464\",\"enqn1234\",\"qwer!234\"]\n",
    "newpw=password[::-1]\n",
    "input_id=driver.find_element_by_css_selector(\"#loginForm > div > div:nth-child(1) > div > label > input\")\n",
    "input_id.clear()\n",
    "input_id.send_keys(emails[4])\n",
    "input_pw=driver.find_element_by_css_selector(\"#loginForm > div > div:nth-child(2) > div > label > input\")\n",
    "input_pw.clear()\n",
    "input_pw.send_keys(password[4])\n",
    "input_pw.submit()\n",
    "time.sleep(3)\n",
    "def insta_searching(aa):\n",
    "    url=\"https://www.instagram.com/\"+aa\n",
    "    return url\n",
    "url=insta_searching(\"hizzeomi\")\n",
    "driver.get(url)\n",
    "time.sleep(2)"
   ]
  },
  {
   "cell_type": "markdown",
   "metadata": {},
   "source": [
    "# 게시물 접속"
   ]
  },
  {
   "cell_type": "code",
   "execution_count": 69,
   "metadata": {},
   "outputs": [
    {
     "name": "stdout",
     "output_type": "stream",
     "text": [
      "12\n"
     ]
    }
   ],
   "source": [
    "html=driver.page_source\n",
    "soup=BeautifulSoup(html,\"html.parser\")\n",
    "rows=len(soup.select(\"div.Nnq7C.weEfm\"))\n",
    "print(rows)\n",
    "first=driver.find_element_by_css_selector(\"#react-root > section > main > div > div._2z6nI > article > div:nth-child(1) > div > div:nth-child(8) > div:nth-child(2) > a > div > div._9AhH0\")\n",
    "first.click()\n",
    "time.sleep(2)\n"
   ]
  },
  {
   "cell_type": "markdown",
   "metadata": {},
   "source": [
    "# 팔로잉"
   ]
  },
  {
   "cell_type": "code",
   "execution_count": 71,
   "metadata": {},
   "outputs": [
    {
     "name": "stdout",
     "output_type": "stream",
     "text": [
      "팔로잉\n"
     ]
    }
   ],
   "source": [
    "html=driver.page_source\n",
    "soup=BeautifulSoup(html,\"html.parser\")\n",
    "folowstatus=soup.select(\"body > div._2dDPU.CkGkG > div.zZYga > div > article > header > div.o-MQd.z8cbW > div.PQo_0.RqtMr > div.bY2yH > button\")[0].text\n",
    "print(folowstatus)\n",
    "if folowstatus == \"팔로우\":\n",
    "    follow=driver.find_element_by_css_selector(\"body > div._2dDPU.CkGkG > div.zZYga > div > article > header > div.o-MQd.z8cbW > div.PQo_0.RqtMr > div.bY2yH > button\")\n",
    "    follow.click()\n"
   ]
  },
  {
   "cell_type": "markdown",
   "metadata": {},
   "source": [
    "# 좋아요"
   ]
  },
  {
   "cell_type": "code",
   "execution_count": 78,
   "metadata": {},
   "outputs": [
    {
     "name": "stdout",
     "output_type": "stream",
     "text": [
      "좋아요\n"
     ]
    }
   ],
   "source": [
    "likestatus=soup.select(\"body > div._2dDPU.CkGkG > div.zZYga > div > article > div.eo2As > section.ltpMr.Slqrh > span.fr66n > button > div > span > svg\")[0][\"aria-label\"]\n",
    "print(likestatus)\n",
    "if likestatus == \"좋아요\":\n",
    "    likes=driver.find_element_by_css_selector(\"body > div._2dDPU.CkGkG > div.zZYga > div > article > div.eo2As > section.ltpMr.Slqrh > span.fr66n > button > div > span > svg\")\n",
    "    likes.click()\n",
    "    time.sleep(2)#sec:매크로 텀\n",
    "#     next=driver.find_element_by_css_selector(\"body > div._2dDPU.CkGkG > div.EfHg9 > div > div > a\")\n",
    "next=driver.find_element_by_css_selector(\"body > div._2dDPU.CkGkG > div.EfHg9 > div > div > a._65Bje.coreSpriteRightPaginationArrow\")\n",
    "next.click()\n",
    "time.sleep(2)\n",
    "html=driver.page_source\n",
    "soup=BeautifulSoup(html,\"html.parser\")"
   ]
  }
 ],
 "metadata": {
  "kernelspec": {
   "display_name": "Python 3",
   "language": "python",
   "name": "python3"
  },
  "language_info": {
   "codemirror_mode": {
    "name": "ipython",
    "version": 3
   },
   "file_extension": ".py",
   "mimetype": "text/x-python",
   "name": "python",
   "nbconvert_exporter": "python",
   "pygments_lexer": "ipython3",
   "version": "3.8.5"
  }
 },
 "nbformat": 4,
 "nbformat_minor": 4
}
