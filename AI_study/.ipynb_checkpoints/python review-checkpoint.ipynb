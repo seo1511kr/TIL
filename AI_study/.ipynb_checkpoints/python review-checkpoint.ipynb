{
 "cells": [
  {
   "cell_type": "markdown",
   "metadata": {},
   "source": [
    "## 연산자\n",
    "\n",
    "## (+, -, *, /)\n",
    "\n",
    "## (//, %, **)\n",
    "\n",
    "## divmod(잿수, 피잿수) => 출력: (몫, 나머지)\n"
   ]
  },
  {
   "cell_type": "markdown",
   "metadata": {},
   "source": [
    "## \\n, \\n\\n, \\t"
   ]
  },
  {
   "cell_type": "markdown",
   "metadata": {},
   "source": [
    "##  구분자, 연결자\n",
    "\n",
    "## (, sep = \" \") , (, end= \" \")"
   ]
  },
  {
   "cell_type": "code",
   "execution_count": 4,
   "metadata": {},
   "outputs": [
    {
     "name": "stdout",
     "output_type": "stream",
     "text": [
      "naver$kakao$samsung\n",
      "naver kakao samsung\n",
      "naverkakaosamsung\n"
     ]
    }
   ],
   "source": [
    "print(\"naver\",\"kakao\",\"samsung\", sep = \"$\") # sep 옵션\n",
    "print(\"naver\",\"kakao\",\"samsung\", sep = \" \") # sep 옵션\n",
    "print(\"naver\",\"kakao\",\"samsung\", sep = \"\") # sep 옵션"
   ]
  },
  {
   "cell_type": "code",
   "execution_count": 5,
   "metadata": {},
   "outputs": [
    {
     "name": "stdout",
     "output_type": "stream",
     "text": [
      "naver kakao samsung\n"
     ]
    }
   ],
   "source": [
    "print(\"naver\",\"kakao\",\"samsung\")"
   ]
  },
  {
   "cell_type": "code",
   "execution_count": 8,
   "metadata": {},
   "outputs": [
    {
     "name": "stdout",
     "output_type": "stream",
     "text": [
      "naver\n",
      "kakao\n",
      "samsung\n",
      "naver kakaosamsung\n"
     ]
    }
   ],
   "source": [
    "print(\"naver\");print(\"kakao\");print(\"samsung\")\n",
    "print(\"naver\", end = \" \");print(\"kakao\", end = '');print(\"samsung\")"
   ]
  },
  {
   "cell_type": "markdown",
   "metadata": {},
   "source": [
    "## 변수교환 in python\n",
    "\n",
    "## x,y =y,x"
   ]
  },
  {
   "cell_type": "code",
   "execution_count": 10,
   "metadata": {},
   "outputs": [
    {
     "name": "stdout",
     "output_type": "stream",
     "text": [
      "5 6\n",
      "6 5\n"
     ]
    }
   ],
   "source": [
    "x, y =5,6\n",
    "print(x,y)\n",
    "x,y =y,x\n",
    "print(x,y)"
   ]
  },
  {
   "cell_type": "markdown",
   "metadata": {},
   "source": [
    "## accum (x=x+10)\n",
    "\n",
    "## (+=, *=, /=)"
   ]
  },
  {
   "cell_type": "markdown",
   "metadata": {},
   "source": [
    "## *변수 : 저장소 \n",
    "### a= 1\n",
    "\n",
    "## *값이 지정되지 않은 변수 만들기\n",
    "### b= None  (저장소 자체가 없음)\n",
    "### cf) b =''    (바구니는 있고 그 안에 내용물이 없음)\n",
    "\n",
    "## *변수 삭제하기\n",
    "### del a"
   ]
  },
  {
   "cell_type": "markdown",
   "metadata": {},
   "source": [
    "## .split 옵션으로 str 분리하기"
   ]
  },
  {
   "cell_type": "code",
   "execution_count": 20,
   "metadata": {},
   "outputs": [
    {
     "name": "stdout",
     "output_type": "stream",
     "text": [
      "안 녕 하 세 요\n",
      "['안', '녕', '하', '세', '요']\n"
     ]
    },
    {
     "data": {
      "text/plain": [
       "list"
      ]
     },
     "execution_count": 20,
     "metadata": {},
     "output_type": "execute_result"
    }
   ],
   "source": [
    "print(\"안 녕 하 세 요\")\n",
    "print(\"안 녕 하 세 요\".split())\n",
    "a=\"안 녕 하 세 요\".split()\n",
    "type(a)"
   ]
  },
  {
   "cell_type": "code",
   "execution_count": 21,
   "metadata": {},
   "outputs": [
    {
     "name": "stdout",
     "output_type": "stream",
     "text": [
      "숫자 두 개 입력 : 1,4\n",
      "5\n"
     ]
    }
   ],
   "source": [
    "x1,x2 = map(int, input(\"숫자 두 개 입력 : \").split(\",\"))\n",
    "print(x1+x2)"
   ]
  },
  {
   "cell_type": "markdown",
   "metadata": {},
   "source": [
    "## 따옴표 3개 사용"
   ]
  },
  {
   "cell_type": "code",
   "execution_count": 26,
   "metadata": {},
   "outputs": [
    {
     "name": "stdout",
     "output_type": "stream",
     "text": [
      "인생은\n",
      "짧다\n",
      "그래서\n",
      "파이썬이\n",
      "필요하다\n",
      "인생은\n",
      "짧다\n",
      "그래서\n",
      "파이썬이\n",
      "필요하다\n",
      "\n"
     ]
    }
   ],
   "source": [
    "\n",
    "x = \"인생은\\n짧다\\n그래서\\n파이썬이\\n필요하다\"\n",
    "\n",
    "print(x)\n",
    "x = \"\"\"인생은\n",
    "짧다\n",
    "그래서\n",
    "파이썬이\n",
    "필요하다\n",
    "\"\"\"\n",
    "print(x)"
   ]
  },
  {
   "cell_type": "markdown",
   "metadata": {},
   "source": [
    "## 포매팅\n",
    "\n",
    "### (\"%s,d,f \" % x,y,.. ) \n",
    "### (\" {0}, {1},..\".format(x,y,...))"
   ]
  },
  {
   "cell_type": "code",
   "execution_count": 32,
   "metadata": {},
   "outputs": [
    {
     "name": "stdout",
     "output_type": "stream",
     "text": [
      "숫자 두 개 입력 : 1 2\n",
      "1\n",
      "3\n"
     ]
    }
   ],
   "source": [
    "x1,x2 = map(int, input(\"숫자 두 개 입력 : \").split())\n",
    "print(x1)\n",
    "print(x1+x2)\n",
    "\n",
    "# ['1', '2']로 출력이 됨"
   ]
  },
  {
   "cell_type": "markdown",
   "metadata": {},
   "source": [
    "## input 입력값은\n",
    "\n",
    "### <class 'str'> string 으로만 입력됨"
   ]
  },
  {
   "cell_type": "code",
   "execution_count": 35,
   "metadata": {},
   "outputs": [
    {
     "name": "stdout",
     "output_type": "stream",
     "text": [
      "숫자 두 개 입력:1 2\n",
      "['1', '2']\n",
      "숫자 두 개 입력:1 2\n",
      "<class 'str'>\n"
     ]
    }
   ],
   "source": [
    "print(input(\"숫자 두 개 입력:\").split())\n",
    "print(type(input(\"숫자 두 개 입력:\").split()[0]))"
   ]
  },
  {
   "cell_type": "markdown",
   "metadata": {},
   "source": [
    "## class map\n",
    "\n",
    "## class int : list로 풀어내기"
   ]
  },
  {
   "cell_type": "code",
   "execution_count": 36,
   "metadata": {},
   "outputs": [
    {
     "name": "stdout",
     "output_type": "stream",
     "text": [
      "숫자 두 개 입력 : 1 2\n",
      "<map object at 0x00000247F3B43B80>\n",
      "숫자 두 개 입력 : 1 2\n"
     ]
    },
    {
     "data": {
      "text/plain": [
       "[1, 2]"
      ]
     },
     "execution_count": 36,
     "metadata": {},
     "output_type": "execute_result"
    }
   ],
   "source": [
    "print(map(int, input(\"숫자 두 개 입력 : \").split()))\n",
    "list(map(int, input(\"숫자 두 개 입력 : \").split())) \n"
   ]
  },
  {
   "cell_type": "markdown",
   "metadata": {},
   "source": [
    "## 질문\n",
    "\n",
    "### x = map을 list로 한 번 풀어낸 다음 다시 set으로 풀어내려고 하면\n",
    "### 공백 set이 나옴 왜 그럴까?"
   ]
  },
  {
   "cell_type": "code",
   "execution_count": 40,
   "metadata": {},
   "outputs": [
    {
     "name": "stdout",
     "output_type": "stream",
     "text": [
      "[5]\n",
      "<map object at 0x00000247F36E3430>\n",
      "set()\n"
     ]
    }
   ],
   "source": [
    "x = map(int, \"5\")\n",
    "print(list(x))\n",
    "print(x)\n",
    "print(set(x))"
   ]
  },
  {
   "cell_type": "markdown",
   "metadata": {},
   "source": [
    "### x 자체에 값이 지정된 경우는 위와는 달리 list, set 연속으로 가능"
   ]
  },
  {
   "cell_type": "code",
   "execution_count": 44,
   "metadata": {},
   "outputs": [
    {
     "name": "stdout",
     "output_type": "stream",
     "text": [
      "[5, 6]\n",
      "{5, 6}\n"
     ]
    }
   ],
   "source": [
    "x=5,6\n",
    "print(list(x))\n",
    "print(set(x)) #다시 x를 지정해주지 않아도 됨"
   ]
  },
  {
   "cell_type": "markdown",
   "metadata": {},
   "source": [
    "## 논리연산\n",
    "\n",
    "### ( and, or , not)\n",
    "### bool() = T/F  ==> 0, 공백 문자열 이외에는 모두 True"
   ]
  },
  {
   "cell_type": "code",
   "execution_count": 45,
   "metadata": {},
   "outputs": [
    {
     "name": "stdout",
     "output_type": "stream",
     "text": [
      "False\n"
     ]
    }
   ],
   "source": [
    "print(bool(0 or ''))"
   ]
  },
  {
   "cell_type": "code",
   "execution_count": null,
   "metadata": {},
   "outputs": [],
   "source": []
  },
  {
   "cell_type": "code",
   "execution_count": null,
   "metadata": {},
   "outputs": [],
   "source": []
  },
  {
   "cell_type": "code",
   "execution_count": null,
   "metadata": {},
   "outputs": [],
   "source": []
  }
 ],
 "metadata": {
  "kernelspec": {
   "display_name": "Python 3",
   "language": "python",
   "name": "python3"
  },
  "language_info": {
   "codemirror_mode": {
    "name": "ipython",
    "version": 3
   },
   "file_extension": ".py",
   "mimetype": "text/x-python",
   "name": "python",
   "nbconvert_exporter": "python",
   "pygments_lexer": "ipython3",
   "version": "3.8.5"
  }
 },
 "nbformat": 4,
 "nbformat_minor": 4
}
