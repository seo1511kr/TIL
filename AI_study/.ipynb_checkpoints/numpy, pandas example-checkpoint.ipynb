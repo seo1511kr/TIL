{
 "cells": [
  {
   "cell_type": "markdown",
   "metadata": {},
   "source": [
    "# package load"
   ]
  },
  {
   "cell_type": "code",
   "execution_count": 1,
   "metadata": {},
   "outputs": [],
   "source": [
    "import numpy as np\n",
    "import pandas as pd"
   ]
  },
  {
   "cell_type": "markdown",
   "metadata": {},
   "source": [
    "# 로또 번호 자동 생성 함수 만들기"
   ]
  },
  {
   "cell_type": "code",
   "execution_count": 10,
   "metadata": {},
   "outputs": [
    {
     "name": "stdout",
     "output_type": "stream",
     "text": [
      "이번 로또 번호는 {33, 11, 12, 15, 24, 29}\n",
      "이번 로또 번호는 [[[39 21 13 38 19 32]]]\n"
     ]
    }
   ],
   "source": [
    "# 1~45까지 랜덤으로 6개\n",
    "import random\n",
    "def lotto():\n",
    "    numset=set()\n",
    "    while len(numset) <6:\n",
    "        numset.add(random.randint(1,46))\n",
    "    return numset\n",
    "\n",
    "print(\"이번 로또 번호는\",lotto())\n",
    "        \n",
    "def lotto1():\n",
    "    a=np.arange(1,46)\n",
    "    x=np.random.choice(a,size=(1,1,6),replace=False)\n",
    "    return x\n",
    "\n",
    "print(\"이번 로또 번호는\",lotto1())\n"
   ]
  },
  {
   "cell_type": "markdown",
   "metadata": {},
   "source": [
    "# titanic 데이터 이용하기"
   ]
  },
  {
   "cell_type": "code",
   "execution_count": 22,
   "metadata": {},
   "outputs": [],
   "source": [
    "df=pd.read_csv(\"C:/Users/19178/TIL/AI_study/data/titanic.csv\")"
   ]
  },
  {
   "cell_type": "code",
   "execution_count": 25,
   "metadata": {},
   "outputs": [
    {
     "data": {
      "text/html": [
       "<div>\n",
       "<style scoped>\n",
       "    .dataframe tbody tr th:only-of-type {\n",
       "        vertical-align: middle;\n",
       "    }\n",
       "\n",
       "    .dataframe tbody tr th {\n",
       "        vertical-align: top;\n",
       "    }\n",
       "\n",
       "    .dataframe thead th {\n",
       "        text-align: right;\n",
       "    }\n",
       "</style>\n",
       "<table border=\"1\" class=\"dataframe\">\n",
       "  <thead>\n",
       "    <tr style=\"text-align: right;\">\n",
       "      <th></th>\n",
       "      <th>pclass</th>\n",
       "      <th>survived</th>\n",
       "      <th>name</th>\n",
       "      <th>sex</th>\n",
       "      <th>age</th>\n",
       "      <th>sibsp</th>\n",
       "      <th>parch</th>\n",
       "      <th>ticket</th>\n",
       "      <th>fare</th>\n",
       "      <th>cabin</th>\n",
       "      <th>embarked</th>\n",
       "    </tr>\n",
       "  </thead>\n",
       "  <tbody>\n",
       "    <tr>\n",
       "      <th>0</th>\n",
       "      <td>1st</td>\n",
       "      <td>1</td>\n",
       "      <td>Allen, Miss. Elisabeth Walton</td>\n",
       "      <td>female</td>\n",
       "      <td>29.0000</td>\n",
       "      <td>0</td>\n",
       "      <td>0</td>\n",
       "      <td>24160</td>\n",
       "      <td>211.337494</td>\n",
       "      <td>B5</td>\n",
       "      <td>Southampton</td>\n",
       "    </tr>\n",
       "    <tr>\n",
       "      <th>1</th>\n",
       "      <td>1st</td>\n",
       "      <td>1</td>\n",
       "      <td>Allison, Master. Hudson Trevor</td>\n",
       "      <td>male</td>\n",
       "      <td>0.9167</td>\n",
       "      <td>1</td>\n",
       "      <td>2</td>\n",
       "      <td>113781</td>\n",
       "      <td>151.550003</td>\n",
       "      <td>C22 C26</td>\n",
       "      <td>Southampton</td>\n",
       "    </tr>\n",
       "    <tr>\n",
       "      <th>2</th>\n",
       "      <td>1st</td>\n",
       "      <td>0</td>\n",
       "      <td>Allison, Miss. Helen Loraine</td>\n",
       "      <td>female</td>\n",
       "      <td>2.0000</td>\n",
       "      <td>1</td>\n",
       "      <td>2</td>\n",
       "      <td>113781</td>\n",
       "      <td>151.550003</td>\n",
       "      <td>C22 C26</td>\n",
       "      <td>Southampton</td>\n",
       "    </tr>\n",
       "    <tr>\n",
       "      <th>3</th>\n",
       "      <td>1st</td>\n",
       "      <td>0</td>\n",
       "      <td>Allison, Mr. Hudson Joshua Crei</td>\n",
       "      <td>male</td>\n",
       "      <td>30.0000</td>\n",
       "      <td>1</td>\n",
       "      <td>2</td>\n",
       "      <td>113781</td>\n",
       "      <td>151.550003</td>\n",
       "      <td>C22 C26</td>\n",
       "      <td>Southampton</td>\n",
       "    </tr>\n",
       "    <tr>\n",
       "      <th>4</th>\n",
       "      <td>1st</td>\n",
       "      <td>0</td>\n",
       "      <td>Allison, Mrs. Hudson J C (Bessi</td>\n",
       "      <td>female</td>\n",
       "      <td>25.0000</td>\n",
       "      <td>1</td>\n",
       "      <td>2</td>\n",
       "      <td>113781</td>\n",
       "      <td>151.550003</td>\n",
       "      <td>C22 C26</td>\n",
       "      <td>Southampton</td>\n",
       "    </tr>\n",
       "  </tbody>\n",
       "</table>\n",
       "</div>"
      ],
      "text/plain": [
       "  pclass  survived                             name     sex      age  sibsp  \\\n",
       "0    1st         1    Allen, Miss. Elisabeth Walton  female  29.0000      0   \n",
       "1    1st         1   Allison, Master. Hudson Trevor    male   0.9167      1   \n",
       "2    1st         0     Allison, Miss. Helen Loraine  female   2.0000      1   \n",
       "3    1st         0  Allison, Mr. Hudson Joshua Crei    male  30.0000      1   \n",
       "4    1st         0  Allison, Mrs. Hudson J C (Bessi  female  25.0000      1   \n",
       "\n",
       "   parch  ticket        fare    cabin     embarked  \n",
       "0      0   24160  211.337494       B5  Southampton  \n",
       "1      2  113781  151.550003  C22 C26  Southampton  \n",
       "2      2  113781  151.550003  C22 C26  Southampton  \n",
       "3      2  113781  151.550003  C22 C26  Southampton  \n",
       "4      2  113781  151.550003  C22 C26  Southampton  "
      ]
     },
     "execution_count": 25,
     "metadata": {},
     "output_type": "execute_result"
    }
   ],
   "source": [
    "df.head()\n"
   ]
  },
  {
   "cell_type": "code",
   "execution_count": 29,
   "metadata": {},
   "outputs": [
    {
     "name": "stdout",
     "output_type": "stream",
     "text": [
      "          survived          age        sibsp        parch         fare\n",
      "count  1309.000000  1046.000000  1309.000000  1309.000000  1308.000000\n",
      "mean      0.381971    29.881135     0.498854     0.385027    33.295479\n",
      "std       0.486055    14.413500     1.041658     0.865560    51.758669\n",
      "min       0.000000     0.166700     0.000000     0.000000     0.000000\n",
      "25%       0.000000    21.000000     0.000000     0.000000     7.895800\n",
      "50%       0.000000    28.000000     0.000000     0.000000    14.454200\n",
      "75%       1.000000    39.000000     1.000000     0.000000    31.275000\n",
      "max       1.000000    80.000000     8.000000     9.000000   512.329224\n",
      "(1309, 11)\n"
     ]
    }
   ],
   "source": [
    "print(df.describe())\n",
    "print(df.shape)"
   ]
  },
  {
   "cell_type": "code",
   "execution_count": 49,
   "metadata": {},
   "outputs": [
    {
     "name": "stdout",
     "output_type": "stream",
     "text": [
      "0       1st\n",
      "1       1st\n",
      "2       1st\n",
      "3       1st\n",
      "4       1st\n",
      "       ... \n",
      "1304    3rd\n",
      "1305    3rd\n",
      "1306    3rd\n",
      "1307    3rd\n",
      "1308    3rd\n",
      "Name: pclass, Length: 1309, dtype: object\n"
     ]
    }
   ],
   "source": [
    "df.dtypes\n",
    "print(df['pclass'])"
   ]
  },
  {
   "cell_type": "code",
   "execution_count": 51,
   "metadata": {},
   "outputs": [
    {
     "data": {
      "text/html": [
       "<div>\n",
       "<style scoped>\n",
       "    .dataframe tbody tr th:only-of-type {\n",
       "        vertical-align: middle;\n",
       "    }\n",
       "\n",
       "    .dataframe tbody tr th {\n",
       "        vertical-align: top;\n",
       "    }\n",
       "\n",
       "    .dataframe thead th {\n",
       "        text-align: right;\n",
       "    }\n",
       "</style>\n",
       "<table border=\"1\" class=\"dataframe\">\n",
       "  <thead>\n",
       "    <tr style=\"text-align: right;\">\n",
       "      <th></th>\n",
       "      <th>pclass</th>\n",
       "      <th>survived</th>\n",
       "      <th>name</th>\n",
       "      <th>sex</th>\n",
       "      <th>age</th>\n",
       "      <th>sibsp</th>\n",
       "      <th>parch</th>\n",
       "      <th>ticket</th>\n",
       "      <th>fare</th>\n",
       "      <th>cabin</th>\n",
       "      <th>embarked</th>\n",
       "    </tr>\n",
       "  </thead>\n",
       "  <tbody>\n",
       "    <tr>\n",
       "      <th>323</th>\n",
       "      <td>2nd</td>\n",
       "      <td>0</td>\n",
       "      <td>Abelson, Mr. Samuel</td>\n",
       "      <td>male</td>\n",
       "      <td>30.0</td>\n",
       "      <td>1</td>\n",
       "      <td>0</td>\n",
       "      <td>P/PP 3381</td>\n",
       "      <td>24.0</td>\n",
       "      <td>NaN</td>\n",
       "      <td>Cherbourg</td>\n",
       "    </tr>\n",
       "    <tr>\n",
       "      <th>325</th>\n",
       "      <td>2nd</td>\n",
       "      <td>0</td>\n",
       "      <td>Aldworth, Mr. Charles Augustus</td>\n",
       "      <td>male</td>\n",
       "      <td>30.0</td>\n",
       "      <td>0</td>\n",
       "      <td>0</td>\n",
       "      <td>248744</td>\n",
       "      <td>13.0</td>\n",
       "      <td>NaN</td>\n",
       "      <td>Southampton</td>\n",
       "    </tr>\n",
       "    <tr>\n",
       "      <th>328</th>\n",
       "      <td>2nd</td>\n",
       "      <td>0</td>\n",
       "      <td>Angle, Mr. William A</td>\n",
       "      <td>male</td>\n",
       "      <td>34.0</td>\n",
       "      <td>1</td>\n",
       "      <td>0</td>\n",
       "      <td>226875</td>\n",
       "      <td>26.0</td>\n",
       "      <td>NaN</td>\n",
       "      <td>Southampton</td>\n",
       "    </tr>\n",
       "    <tr>\n",
       "      <th>329</th>\n",
       "      <td>2nd</td>\n",
       "      <td>1</td>\n",
       "      <td>Angle, Mrs. William A (Florence</td>\n",
       "      <td>female</td>\n",
       "      <td>36.0</td>\n",
       "      <td>1</td>\n",
       "      <td>0</td>\n",
       "      <td>226875</td>\n",
       "      <td>26.0</td>\n",
       "      <td>NaN</td>\n",
       "      <td>Southampton</td>\n",
       "    </tr>\n",
       "    <tr>\n",
       "      <th>333</th>\n",
       "      <td>2nd</td>\n",
       "      <td>1</td>\n",
       "      <td>Ball, Mrs. (Ada E Hall)</td>\n",
       "      <td>female</td>\n",
       "      <td>36.0</td>\n",
       "      <td>0</td>\n",
       "      <td>0</td>\n",
       "      <td>28551</td>\n",
       "      <td>13.0</td>\n",
       "      <td>D</td>\n",
       "      <td>Southampton</td>\n",
       "    </tr>\n",
       "  </tbody>\n",
       "</table>\n",
       "</div>"
      ],
      "text/plain": [
       "    pclass  survived                             name     sex   age  sibsp  \\\n",
       "323    2nd         0              Abelson, Mr. Samuel    male  30.0      1   \n",
       "325    2nd         0   Aldworth, Mr. Charles Augustus    male  30.0      0   \n",
       "328    2nd         0             Angle, Mr. William A    male  34.0      1   \n",
       "329    2nd         1  Angle, Mrs. William A (Florence  female  36.0      1   \n",
       "333    2nd         1          Ball, Mrs. (Ada E Hall)  female  36.0      0   \n",
       "\n",
       "     parch     ticket  fare cabin     embarked  \n",
       "323      0  P/PP 3381  24.0   NaN    Cherbourg  \n",
       "325      0     248744  13.0   NaN  Southampton  \n",
       "328      0     226875  26.0   NaN  Southampton  \n",
       "329      0     226875  26.0   NaN  Southampton  \n",
       "333      0      28551  13.0     D  Southampton  "
      ]
     },
     "execution_count": 51,
     "metadata": {},
     "output_type": "execute_result"
    }
   ],
   "source": [
    "# df[df['age']>=30]\n",
    "# df.loc[df['age']>=30,:]\n",
    "df[(df['age']>=30) & (df['age'] < 40) & (df['pclass']== \"2nd\")].head()\n"
   ]
  },
  {
   "cell_type": "code",
   "execution_count": 61,
   "metadata": {},
   "outputs": [
    {
     "name": "stdout",
     "output_type": "stream",
     "text": [
      "{'2nd', '3rd', '1st'}\n",
      "<bound method Series.mean of 323    30.0\n",
      "324    28.0\n",
      "325    30.0\n",
      "326    18.0\n",
      "327    25.0\n",
      "       ... \n",
      "595     NaN\n",
      "596    31.0\n",
      "597     NaN\n",
      "598    26.0\n",
      "599    24.0\n",
      "Name: age, Length: 277, dtype: float64>\n",
      "<bound method Series.mean of 600     42.0\n",
      "601     13.0\n",
      "602     16.0\n",
      "603     35.0\n",
      "604     16.0\n",
      "        ... \n",
      "1304    14.5\n",
      "1305     NaN\n",
      "1306    26.5\n",
      "1307    27.0\n",
      "1308    29.0\n",
      "Name: age, Length: 709, dtype: float64>\n",
      "<bound method Series.mean of 0      29.0000\n",
      "1       0.9167\n",
      "2       2.0000\n",
      "3      30.0000\n",
      "4      25.0000\n",
      "        ...   \n",
      "318        NaN\n",
      "319    31.0000\n",
      "320        NaN\n",
      "321    62.0000\n",
      "322    36.0000\n",
      "Name: age, Length: 323, dtype: float64>\n"
     ]
    }
   ],
   "source": [
    "print(set(df['pclass']))\n",
    "for i in set(df['pclass']):\n",
    "    print(df.loc[df['pclass']== \"{0}\".format(i), 'age'].mean)"
   ]
  },
  {
   "cell_type": "code",
   "execution_count": 75,
   "metadata": {},
   "outputs": [
    {
     "name": "stdout",
     "output_type": "stream",
     "text": [
      "2nd 0.4296028880866426\n",
      "3rd 0.2552891396332863\n",
      "1st 0.6191950464396285\n",
      "male 0.19098457888493475\n",
      "female 0.7274678111587983\n"
     ]
    }
   ],
   "source": [
    "for i in set(df['pclass']):\n",
    "    print(\"%s\"%i, df.loc[df['pclass']== \"%s\"%i,'survived'].describe()['mean'])\n",
    "\n",
    "for i in set(df['sex']):\n",
    "    print(\"%s\"%i, df.loc[df['sex']== \"%s\"%i,'survived'].describe()['mean'])\n"
   ]
  },
  {
   "cell_type": "code",
   "execution_count": null,
   "metadata": {},
   "outputs": [],
   "source": []
  }
 ],
 "metadata": {
  "kernelspec": {
   "display_name": "Python 3",
   "language": "python",
   "name": "python3"
  },
  "language_info": {
   "codemirror_mode": {
    "name": "ipython",
    "version": 3
   },
   "file_extension": ".py",
   "mimetype": "text/x-python",
   "name": "python",
   "nbconvert_exporter": "python",
   "pygments_lexer": "ipython3",
   "version": "3.8.5"
  }
 },
 "nbformat": 4,
 "nbformat_minor": 4
}
