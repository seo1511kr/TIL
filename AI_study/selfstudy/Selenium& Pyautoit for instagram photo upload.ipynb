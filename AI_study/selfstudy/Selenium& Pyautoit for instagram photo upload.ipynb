{
 "cells": [
  {
   "cell_type": "code",
   "execution_count": null,
   "metadata": {},
   "outputs": [],
   "source": [
    "import os\n",
    "from selenium import webdriver\n",
    "from selenium.webdriver.common.action_chains import ActionChains\n",
    "from selenium.webdriver.chrome.options import Options\n",
    "import autoit\n",
    "import time\n",
    "from selenium.webdriver.common.keys import Keys"
   ]
  },
  {
   "cell_type": "code",
   "execution_count": null,
   "metadata": {},
   "outputs": [],
   "source": [
    "mobile_emulation = {\n",
    "    \"deviceMetrics\": { \"width\": 360, \"height\": 640, \"pixelRatio\": 3.0 },\n",
    "    \"userAgent\": \"Mozilla/5.0 (Linux; Android 4.2.1; en-us; Nexus 5 Build/JOP40D) AppleWebKit/535.19 (KHTML, like Gecko) Chrome/18.0.1025.166 Mobile Safari/535.19\" }\n",
    "chrome_options = Options()\n",
    "chrome_options.add_experimental_option(\"mobileEmulation\", mobile_emulation)\n",
    "\n",
    "driver = webdriver.Chrome(\"c:/scrap/chromedriver.exe\",chrome_options = chrome_options)"
   ]
  },
  {
   "cell_type": "code",
   "execution_count": null,
   "metadata": {},
   "outputs": [],
   "source": [
    "driver.get('https://www.instagram.com/accounts/login/')\n",
    "\n",
    "time.sleep(2)"
   ]
  },
  {
   "cell_type": "code",
   "execution_count": null,
   "metadata": {},
   "outputs": [],
   "source": [
    "driver.find_element_by_name(\"username\").send_keys(\"ggplot2021\")\n",
    "driver.find_element_by_name(\"password\").send_keys(\"sdfg#456\")\n",
    "driver.find_element_by_name(\"password\").submit()\n",
    "\n",
    "time.sleep(2)\n",
    "\n"
   ]
  },
  {
   "cell_type": "code",
   "execution_count": null,
   "metadata": {},
   "outputs": [],
   "source": [
    "driver.get('https://www.instagram.com/' + \"ggplot2021\")"
   ]
  },
  {
   "cell_type": "code",
   "execution_count": null,
   "metadata": {},
   "outputs": [],
   "source": [
    "ImagePath = 'C:\\\\Users\\\\19178\\\\TIL\\\\python\\\\web\\\\art\\\\art3'\n",
    "# os.getcwd()"
   ]
  },
  {
   "cell_type": "code",
   "execution_count": null,
   "metadata": {},
   "outputs": [],
   "source": [
    "ActionChains(driver).move_to_element( driver.find_element_by_xpath(\"\"\"//*[@id=\"react-root\"]/section/nav[2]/div/div/div[2]/div/div/div[3]\"\"\")).click().perform()"
   ]
  },
  {
   "cell_type": "code",
   "execution_count": null,
   "metadata": {},
   "outputs": [],
   "source": [
    "handle = \"[CLASS:#32770; TITLE:열기]\"\n",
    "autoit.win_wait(handle, 3)\n",
    "autoit.control_set_text(handle, \"Edit1\", ImagePath)\n",
    "autoit.control_click(handle, \"Button1\")\n",
    "\n",
    "time.sleep(2)"
   ]
  },
  {
   "cell_type": "code",
   "execution_count": null,
   "metadata": {},
   "outputs": [],
   "source": [
    "txt = driver.find_element_by_class_name('_472V_')\n",
    "txt.send_keys('')\n",
    "txt = driver.find_element_by_class_name('_472V_')\n",
    "txt.send_keys('test') # Descrition\n",
    "txt.send_keys(Keys.ENTER)\n",
    "\n",
    "driver.find_element_by_xpath(\"\"\"//*[@id=\"react-root\"]/section/div[1]/header/div/div[2]/button\"\"\").click()"
   ]
  }
 ],
 "metadata": {
  "kernelspec": {
   "display_name": "Python 3",
   "language": "python",
   "name": "python3"
  },
  "language_info": {
   "codemirror_mode": {
    "name": "ipython",
    "version": 3
   },
   "file_extension": ".py",
   "mimetype": "text/x-python",
   "name": "python",
   "nbconvert_exporter": "python",
   "pygments_lexer": "ipython3",
   "version": "3.8.5"
  }
 },
 "nbformat": 4,
 "nbformat_minor": 4
}
